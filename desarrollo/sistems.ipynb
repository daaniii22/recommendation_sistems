{
 "cells": [
  {
   "cell_type": "markdown",
   "id": "87f05b63",
   "metadata": {},
   "source": [
    "# General Code"
   ]
  },
  {
   "cell_type": "code",
   "execution_count": 1,
   "id": "abe78702",
   "metadata": {},
   "outputs": [],
   "source": [
    "import urllib.request\n",
    "import math\n",
    "\n",
    "NUM_USERS = 943\n",
    "NUM_ITEMS = 1682\n",
    "\n",
    "MIN_RATING = 1\n",
    "MAX_RATING = 5\n",
    "\n",
    "ratings = [[None for _ in range(NUM_ITEMS)] for _ in range(NUM_USERS)]\n",
    "\n",
    "training_file = urllib.request.urlopen(\"https://drive.upm.es/s/tDdluElfGInyUnU/download\")\n",
    "for line in training_file:\n",
    "  [u, i, rating] = line.decode(\"utf-8\").split(\"::\")\n",
    "  ratings[int(u)][int(i)] = int(rating)\n",
    "  \n",
    "test_ratings = [[None for _ in range(NUM_ITEMS)] for _ in range(NUM_USERS)]\n",
    "\n",
    "test_file = urllib.request.urlopen(\"https://drive.upm.es/s/Jn75Vg6okOPsgZu/download\")\n",
    "for line in test_file:\n",
    "  [u, i, rating] = line.decode(\"utf-8\").split(\"::\")\n",
    "  test_ratings[int(u)][int(i)] = int(rating)"
   ]
  },
  {
   "cell_type": "code",
   "execution_count": 2,
   "id": "948528dd",
   "metadata": {},
   "outputs": [],
   "source": [
    "import numpy as np\n",
    "\n",
    "ratings_np = np.array([[float(x) if x is not None else np.nan for x in row] for row in ratings], dtype=np.float64)\n",
    "test_ratings_np = np.array([[float(x) if x is not None else np.nan for x in row] for row in test_ratings], dtype=np.float64)"
   ]
  },
  {
   "cell_type": "code",
   "execution_count": 3,
   "id": "6f922f99",
   "metadata": {},
   "outputs": [],
   "source": [
    "ratings_np = np.array([[np.nan if r is None else r for r in user_ratings] for user_ratings in ratings])\n",
    "\n",
    "def rating_average(u):\n",
    "    return np.nanmean(ratings_np[u])"
   ]
  },
  {
   "cell_type": "markdown",
   "id": "fc20e464",
   "metadata": {},
   "source": [
    "## -- 1. KNN --"
   ]
  },
  {
   "cell_type": "code",
   "execution_count": null,
   "id": "d5e183ff",
   "metadata": {},
   "outputs": [],
   "source": [
    "# Correlation similarity\n",
    "# Haremos todas las correlaciones y la que mejor resultados de será la que pongamos en el poster, \n",
    "# explicando por qué funciona mejor que las demás y por qué solo aparece esa \n",
    "# (podríamos poner un gráfico de como funciona cada una según la profe).\n",
    "\n",
    "def correlation_similarity(u, v):\n",
    "    r_u = ratings_np[u]\n",
    "    r_v = ratings_np[v]\n",
    "    \n",
    "    # Mask of items both users voted\n",
    "    common_mask = ~np.isnan(r_u) & ~np.isnan(r_v)\n",
    "    \n",
    "    if not np.any(common_mask):\n",
    "        return None  \n",
    "\n",
    "    # Mean - centered valorations\n",
    "    avg_u = np.nanmean(r_u)\n",
    "    avg_v = np.nanmean(r_v)\n",
    "\n",
    "    diff_u = r_u[common_mask] - avg_u\n",
    "    diff_v = r_v[common_mask] - avg_v\n",
    "\n",
    "    num = np.dot(diff_u, diff_v)\n",
    "    den = np.linalg.norm(diff_u) * np.linalg.norm(diff_v)\n",
    "\n",
    "    if den == 0:\n",
    "        return None  \n",
    "    return num / den"
   ]
  },
  {
   "cell_type": "code",
   "execution_count": 5,
   "id": "a8140469",
   "metadata": {},
   "outputs": [
    {
     "name": "stdout",
     "output_type": "stream",
     "text": [
      "0.010617834767124232\n",
      "-0.08282165590325247\n",
      "None\n"
     ]
    }
   ],
   "source": [
    "print(correlation_similarity(5,940))\n",
    "print(correlation_similarity(113,534))\n",
    "print(correlation_similarity(92,355))"
   ]
  },
  {
   "cell_type": "code",
   "execution_count": 6,
   "id": "47be075e",
   "metadata": {},
   "outputs": [],
   "source": [
    "import numpy as np\n",
    "\n",
    "def jmsd_similarity(u, v):\n",
    "    r_u = ratings_np[u]\n",
    "    r_v = ratings_np[v]\n",
    "    \n",
    "    # Masks\n",
    "    rated_u = ~np.isnan(r_u)\n",
    "    rated_v = ~np.isnan(r_v)\n",
    "    both_rated = rated_u & rated_v\n",
    "    either_rated = rated_u | rated_v\n",
    "\n",
    "    union = np.sum(either_rated)\n",
    "    intersection = np.sum(both_rated)\n",
    "\n",
    "    if intersection == 0:\n",
    "        return None\n",
    "\n",
    "    # Normalized ratings\n",
    "    norm_u = (r_u[both_rated] - MIN_RATING) / (MAX_RATING - MIN_RATING)\n",
    "    norm_v = (r_v[both_rated] - MIN_RATING) / (MAX_RATING - MIN_RATING)\n",
    "\n",
    "    # Mean Squared Difference\n",
    "    msd = np.mean((norm_u - norm_v) ** 2)\n",
    "\n",
    "    # Jaccard * (1 - MSD)\n",
    "    jaccard = intersection / union\n",
    "    return jaccard * (1 - msd)\n"
   ]
  },
  {
   "cell_type": "code",
   "execution_count": 7,
   "id": "e3a1ec43",
   "metadata": {},
   "outputs": [
    {
     "name": "stdout",
     "output_type": "stream",
     "text": [
      "0.04025900900900901\n",
      "0.1138771186440678\n",
      "None\n"
     ]
    }
   ],
   "source": [
    "print(jmsd_similarity(5,940))\n",
    "print(jmsd_similarity(113,534))\n",
    "print(jmsd_similarity(92,355))"
   ]
  },
  {
   "cell_type": "code",
   "execution_count": null,
   "id": "91c21243",
   "metadata": {},
   "outputs": [],
   "source": [
    "k = 25\n",
    "\n",
    "def get_neighbors(u, similarities, k):\n",
    "    sims = np.array([np.nan if x is None else x for x in similarities], dtype=np.float64)\n",
    "\n",
    "    valid = (~np.isnan(sims)) & (sims > 0)\n",
    "    valid[u] = False\n",
    "\n",
    "    valid_indices = np.where(valid)[0]\n",
    "    sorted_indices = valid_indices[np.argsort(sims[valid_indices])[::-1]]\n",
    "\n",
    "    return sorted_indices[:k].tolist()"
   ]
  },
  {
   "cell_type": "code",
   "execution_count": 12,
   "id": "f1502bf7",
   "metadata": {},
   "outputs": [
    {
     "name": "stdout",
     "output_type": "stream",
     "text": [
      "[66, 186, 365, 121, 113, 97, 318, 50, 515, 521, 699, 40, 507, 659, 606, 87, 703, 797, 856, 134, 722, 875, 132, 379, 608]\n",
      "[172, 769, 73, 936, 742, 469, 169, 581, 412, 702, 925, 509, 175, 643, 148, 154, 62, 833, 904, 322, 700, 577, 729, 673, 138]\n"
     ]
    }
   ],
   "source": [
    "u = 112\n",
    "similarities_corr = [np.nan if u == v else correlation_similarity(u, v) for v in range(NUM_USERS)]\n",
    "similarities_jmsd = [np.nan if u == v else jmsd_similarity(u, v) for v in range(NUM_USERS)]\n",
    "\n",
    "neighbors_corr = get_neighbors(u, similarities_corr, k)\n",
    "neighbors_jmsd = get_neighbors(u, similarities_jmsd, k)\n",
    "print(neighbors_corr)\n",
    "print(neighbors_jmsd)"
   ]
  },
  {
   "cell_type": "code",
   "execution_count": null,
   "id": "34f7dc33",
   "metadata": {},
   "outputs": [],
   "source": [
    "def average_prediction(i, neighbors):\n",
    "    # Neighbours not None and value for the i item\n",
    "    valid_ratings = [ratings[n][i] for n in neighbors if n is not None and ratings[n][i] is not None]\n",
    "\n",
    "    if len(valid_ratings) > 0:\n",
    "        return np.mean(valid_ratings)\n",
    "    else:\n",
    "        return None"
   ]
  },
  {
   "cell_type": "code",
   "execution_count": 15,
   "id": "3341c124",
   "metadata": {},
   "outputs": [
    {
     "name": "stdout",
     "output_type": "stream",
     "text": [
      "1.0\n",
      "1.75\n"
     ]
    }
   ],
   "source": [
    "i = 324\n",
    "avgpred_corr = average_prediction (i, neighbors_corr)\n",
    "avgpred_jmsd = average_prediction (i, neighbors_jmsd)\n",
    "print(avgpred_corr)\n",
    "print(avgpred_jmsd)"
   ]
  },
  {
   "cell_type": "code",
   "execution_count": 16,
   "id": "fa519310",
   "metadata": {},
   "outputs": [],
   "source": [
    "def weighted_average_prediction(i, neighbors, similarities):\n",
    "    sims = np.array([np.nan if x is None else x for x in similarities], dtype=np.float64)\n",
    "\n",
    "    neighbors = np.array(neighbors)\n",
    "\n",
    "    valid_mask = neighbors != None\n",
    "    valid_neighbors = neighbors[valid_mask]\n",
    "\n",
    "    ratings_array = np.array([ratings[n][i] if ratings[n][i] is not None else np.nan for n in valid_neighbors], dtype=np.float64)\n",
    "\n",
    "    sims_array = sims[valid_neighbors]\n",
    "\n",
    "    mask = (~np.isnan(sims_array)) & (~np.isnan(ratings_array))\n",
    "\n",
    "    if np.any(mask):\n",
    "        num = np.sum(sims_array[mask] * ratings_array[mask])\n",
    "        den = np.sum(sims_array[mask])\n",
    "        if den > 0:\n",
    "            return num / den\n",
    "    return None\n"
   ]
  },
  {
   "cell_type": "code",
   "execution_count": 17,
   "id": "c2a8eaf0",
   "metadata": {},
   "outputs": [
    {
     "name": "stdout",
     "output_type": "stream",
     "text": [
      "1.0\n",
      "1.7426994721014446\n"
     ]
    }
   ],
   "source": [
    "wavgpred_corr = weighted_average_prediction (i, neighbors_corr, similarities_corr)\n",
    "wavgpred_jmsd = weighted_average_prediction (i, neighbors_jmsd, similarities_jmsd)\n",
    "print(wavgpred_corr)\n",
    "print(wavgpred_jmsd)"
   ]
  },
  {
   "cell_type": "code",
   "execution_count": 18,
   "id": "4df86648",
   "metadata": {},
   "outputs": [],
   "source": [
    "ratings_np = np.array(ratings, dtype=float)\n",
    "\n",
    "def deviation_from_mean_prediction(u, i, neighbors):\n",
    "    neighbors = np.array(neighbors)\n",
    "    \n",
    "    valid_neighbors = neighbors[neighbors != None]\n",
    "    \n",
    "    ratings_i = ratings_np[valid_neighbors, i]\n",
    "    \n",
    "    averages = np.array([rating_average(n) for n in valid_neighbors])\n",
    "    \n",
    "    mask = (~np.isnan(ratings_i)) & (~np.isnan(averages))\n",
    "    if np.any(mask):\n",
    "        deviations = ratings_i[mask] - averages[mask]\n",
    "        avg_u = rating_average(u)\n",
    "        if np.isnan(avg_u):\n",
    "            return None\n",
    "        prediction = avg_u + np.mean(deviations)\n",
    "        return prediction\n",
    "    else:\n",
    "        return None\n"
   ]
  },
  {
   "cell_type": "code",
   "execution_count": 19,
   "id": "dcfa2b6f",
   "metadata": {},
   "outputs": [
    {
     "name": "stdout",
     "output_type": "stream",
     "text": [
      "1.4452214452214451\n",
      "2.367587967587968\n"
     ]
    }
   ],
   "source": [
    "dfmpred_corr = deviation_from_mean_prediction (u, i, neighbors_corr)\n",
    "dfmpred_jmsd = deviation_from_mean_prediction (u, i, neighbors_jmsd)\n",
    "print(dfmpred_corr)\n",
    "print(dfmpred_jmsd)"
   ]
  },
  {
   "cell_type": "code",
   "execution_count": 20,
   "id": "0addd5f5",
   "metadata": {},
   "outputs": [],
   "source": [
    "N = 5\n",
    "\n",
    "def get_recommendations(predictions, N):\n",
    "    preds = np.array(predictions, dtype=float)\n",
    "    # Reemplazamos None por -inf para que no interfieran en la búsqueda de máximos\n",
    "    preds = np.where(np.isnan(preds), -np.inf, preds)\n",
    "\n",
    "    # Obtener indices de los N valores más altos sin repetidos\n",
    "    # argsort ordena ascendente, por eso usamos [::-1]\n",
    "    top_indices = np.argsort(preds)[::-1][:N]\n",
    "\n",
    "    return top_indices.tolist()"
   ]
  },
  {
   "cell_type": "code",
   "execution_count": 22,
   "id": "7558ed1a",
   "metadata": {},
   "outputs": [
    {
     "name": "stdout",
     "output_type": "stream",
     "text": [
      "[191, 487, 903, 820, 353]\n",
      "[994, 21, 202, 155, 466]\n",
      "[142, 282, 820, 814, 273]\n",
      "[10, 22, 994, 1136, 466]\n",
      "[284, 286, 876, 407, 282]\n",
      "[1136, 171, 650, 21, 22]\n"
     ]
    }
   ],
   "source": [
    "avg_predictions_corr = [None if ratings[u][i] != None else average_prediction(i, neighbors_corr) for i in range(NUM_ITEMS)]\n",
    "avg_predictions_jmsd = [None if ratings[u][i] != None else average_prediction(i, neighbors_jmsd) for i in range(NUM_ITEMS)]\n",
    "wavg_predictions_corr = [None if ratings[u][i] != None else weighted_average_prediction(i, neighbors_corr, similarities_corr) for i in range(NUM_ITEMS)]\n",
    "wavg_predictions_jmsd = [None if ratings[u][i] != None else weighted_average_prediction(i, neighbors_jmsd, similarities_jmsd) for i in range(NUM_ITEMS)]\n",
    "dfm_predictions_corr = [None if ratings[u][i] != None else deviation_from_mean_prediction(u, i, neighbors_corr) for i in range(NUM_ITEMS)]\n",
    "dfm_predictions_jmsd = [None if ratings[u][i] != None else deviation_from_mean_prediction(u, i, neighbors_jmsd) for i in range(NUM_ITEMS)]\n",
    "recommendations_avg_corr = get_recommendations(avg_predictions_corr, N)\n",
    "recommendations_avg_jmsd = get_recommendations(avg_predictions_jmsd, N)\n",
    "recommendations_wavg_corr = get_recommendations(wavg_predictions_corr, N)\n",
    "recommendations_wavg_jmsd = get_recommendations(wavg_predictions_jmsd, N)\n",
    "recommendations_dfm_corr = get_recommendations(dfm_predictions_corr, N)\n",
    "recommendations_dfm_jmsd = get_recommendations(dfm_predictions_jmsd, N)\n",
    "print(recommendations_avg_corr)\n",
    "print(recommendations_avg_jmsd)\n",
    "print(recommendations_wavg_corr)\n",
    "print(recommendations_wavg_jmsd)\n",
    "print(recommendations_dfm_corr)\n",
    "print(recommendations_dfm_jmsd)"
   ]
  },
  {
   "cell_type": "code",
   "execution_count": 23,
   "id": "e10a1f71",
   "metadata": {},
   "outputs": [],
   "source": [
    "def has_test_ratings (u):\n",
    "  for i in range(NUM_ITEMS):\n",
    "    if test_ratings[u][i] != None:\n",
    "      return True\n",
    "  return False\n",
    "\n",
    "test_ratings_np = np.array(test_ratings, dtype=float)\n",
    "\n",
    "def has_test_ratings(u):\n",
    "    user_test_ratings = test_ratings_np[u]\n",
    "    return np.any(~np.isnan(user_test_ratings))"
   ]
  },
  {
   "cell_type": "code",
   "execution_count": 29,
   "id": "9119066a",
   "metadata": {},
   "outputs": [],
   "source": [
    "# Inicializamos matrices de predicción con np.nan\n",
    "avg_predictions_corr = np.full((NUM_USERS, NUM_ITEMS), np.nan)\n",
    "avg_predictions_jmsd = np.full((NUM_USERS, NUM_ITEMS), np.nan)\n",
    "wavg_predictions_corr = np.full((NUM_USERS, NUM_ITEMS), np.nan)\n",
    "wavg_predictions_jmsd = np.full((NUM_USERS, NUM_ITEMS), np.nan)\n",
    "dfm_predictions_corr = np.full((NUM_USERS, NUM_ITEMS), np.nan)\n",
    "dfm_predictions_jmsd = np.full((NUM_USERS, NUM_ITEMS), np.nan)\n",
    "\n",
    "for u in range(NUM_USERS):\n",
    "    if np.any(~np.isnan(test_ratings_np[u])):  # Usuario u tiene ratings en test\n",
    "        similarities_corr = np.array([np.nan if u == v else correlation_similarity(u, v) for v in range(NUM_USERS)])\n",
    "        similarities_jmsd = np.array([np.nan if u == v else jmsd_similarity(u, v) for v in range(NUM_USERS)])\n",
    "\n",
    "        neighbors_corr = get_neighbors(u, similarities_corr, k)\n",
    "        neighbors_jmsd = get_neighbors(u, similarities_jmsd, k)\n",
    "\n",
    "        test_items = np.where(~np.isnan(test_ratings_np[u]))[0]\n",
    "\n",
    "        for i in test_items:\n",
    "            avg_predictions_corr[u, i] = average_prediction(i, neighbors_corr)\n",
    "            avg_predictions_jmsd[u, i] = average_prediction(i, neighbors_jmsd)\n",
    "            wavg_predictions_corr[u, i] = weighted_average_prediction(i, neighbors_corr, similarities_corr)\n",
    "            wavg_predictions_jmsd[u, i] = weighted_average_prediction(i, neighbors_jmsd, similarities_jmsd)\n",
    "            dfm_predictions_corr[u, i] = deviation_from_mean_prediction(u, i, neighbors_corr)\n",
    "            dfm_predictions_jmsd[u, i] = deviation_from_mean_prediction(u, i, neighbors_jmsd)"
   ]
  },
  {
   "cell_type": "code",
   "execution_count": 32,
   "id": "3b68aeda",
   "metadata": {},
   "outputs": [],
   "source": [
    "def get_user_mae(u, predictions):\n",
    "    mask = ~np.isnan(test_ratings_np[u]) & ~np.isnan(predictions[u])\n",
    "    if np.any(mask):\n",
    "        errors = np.abs(test_ratings_np[u][mask] - predictions[u][mask])\n",
    "        return errors.mean()\n",
    "    else:\n",
    "        return None\n",
    "\n",
    "def get_mae(predictions):\n",
    "    maes = []\n",
    "    for u in range(NUM_USERS):\n",
    "        if np.any(~np.isnan(test_ratings_np[u])):\n",
    "            user_mae = get_user_mae(u, predictions)\n",
    "            if user_mae is not None:\n",
    "                maes.append(user_mae)\n",
    "    if maes:\n",
    "        return np.mean(maes)\n",
    "    else:\n",
    "        return None"
   ]
  },
  {
   "cell_type": "code",
   "execution_count": 31,
   "id": "d741cc4f",
   "metadata": {},
   "outputs": [
    {
     "name": "stdout",
     "output_type": "stream",
     "text": [
      "MAE Avg Prediction with Corr Similarity = 1.0013447824660648\n",
      "MAE Avg Prediction with JMSD Similarity = 0.8803027239233328\n",
      "MAE Weighted Avg Prediction with Corr Similarity = 1.0018989085104146\n",
      "MAE Weighted Avg Prediction with JMSD Similarity = 0.8816893193480325\n",
      "MAE Dev from Mean Prediction with Corr Similarity = 1.0025785672182643\n",
      "MAE Dev from Mean Prediction with JMSD Similarity = 0.8259244673950326\n"
     ]
    }
   ],
   "source": [
    "mae_avg_corr = get_mae(avg_predictions_corr)\n",
    "mae_avg_jmsd = get_mae(avg_predictions_jmsd)\n",
    "mae_wavg_corr = get_mae(wavg_predictions_corr)\n",
    "mae_wavg_jmsd = get_mae(wavg_predictions_jmsd)\n",
    "mae_dfm_corr = get_mae(dfm_predictions_corr)\n",
    "mae_dfm_jmsd = get_mae(dfm_predictions_jmsd)\n",
    "print(\"MAE Avg Prediction with Corr Similarity = \" + str(mae_avg_corr))\n",
    "print(\"MAE Avg Prediction with JMSD Similarity = \" + str(mae_avg_jmsd))\n",
    "print(\"MAE Weighted Avg Prediction with Corr Similarity = \" + str(mae_wavg_corr))\n",
    "print(\"MAE Weighted Avg Prediction with JMSD Similarity = \" + str(mae_wavg_jmsd))\n",
    "print(\"MAE Dev from Mean Prediction with Corr Similarity = \" + str(mae_dfm_corr))\n",
    "print(\"MAE Dev from Mean Prediction with JMSD Similarity = \" + str(mae_dfm_jmsd))"
   ]
  },
  {
   "cell_type": "code",
   "execution_count": 33,
   "id": "2325129d",
   "metadata": {},
   "outputs": [],
   "source": [
    "def get_user_rmse(u, predictions):\n",
    "    mask = ~np.isnan(test_ratings_np[u]) & ~np.isnan(predictions[u])\n",
    "    if np.any(mask):\n",
    "        errors = test_ratings_np[u][mask] - predictions[u][mask]\n",
    "        mse = np.mean(errors ** 2)\n",
    "        return np.sqrt(mse)\n",
    "    else:\n",
    "        return None\n",
    "\n",
    "def get_rmse(predictions):\n",
    "    rmses = []\n",
    "    for u in range(NUM_USERS):\n",
    "        if np.any(~np.isnan(test_ratings_np[u])): \n",
    "            user_rmse = get_user_rmse(u, predictions)\n",
    "            if user_rmse is not None:\n",
    "                rmses.append(user_rmse)\n",
    "\n",
    "    if len(rmses) > 0:\n",
    "        return np.mean(rmses)\n",
    "    else:\n",
    "        return None"
   ]
  },
  {
   "cell_type": "code",
   "execution_count": 34,
   "id": "20a85502",
   "metadata": {},
   "outputs": [
    {
     "name": "stdout",
     "output_type": "stream",
     "text": [
      "RMSE Avg Prediction with Corr Similarity = 1.1918639939800388\n",
      "RMSE Avg Prediction with JMSD Similarity = 1.0718794441589246\n",
      "RMSE Weighted Avg Prediction with Corr Similarity = 1.1923278434784828\n",
      "RMSE Weighted Avg Prediction with JMSD Similarity = 1.0725693999383665\n",
      "RMSE Dev from Mean Prediction with Corr Similarity = 1.1764354008972988\n",
      "RMSE Dev from Mean Prediction with JMSD Similarity = 1.0133916095034077\n"
     ]
    }
   ],
   "source": [
    "rmse_avg_corr = get_rmse(avg_predictions_corr)\n",
    "rmse_avg_jmsd = get_rmse(avg_predictions_jmsd)\n",
    "rmse_wavg_corr = get_rmse(wavg_predictions_corr)\n",
    "rmse_wavg_jmsd = get_rmse(wavg_predictions_jmsd)\n",
    "rmse_dfm_corr = get_rmse(dfm_predictions_corr)\n",
    "rmse_dfm_jmsd = get_rmse(dfm_predictions_jmsd)\n",
    "print(\"RMSE Avg Prediction with Corr Similarity = \" + str(rmse_avg_corr))\n",
    "print(\"RMSE Avg Prediction with JMSD Similarity = \" + str(rmse_avg_jmsd))\n",
    "print(\"RMSE Weighted Avg Prediction with Corr Similarity = \" + str(rmse_wavg_corr))\n",
    "print(\"RMSE Weighted Avg Prediction with JMSD Similarity = \" + str(rmse_wavg_jmsd))\n",
    "print(\"RMSE Dev from Mean Prediction with Corr Similarity = \" + str(rmse_dfm_corr))\n",
    "print(\"RMSE Dev from Mean Prediction with JMSD Similarity = \" + str(rmse_dfm_jmsd))"
   ]
  },
  {
   "cell_type": "code",
   "execution_count": 35,
   "id": "7cee94d2",
   "metadata": {},
   "outputs": [],
   "source": [
    "theta = 4\n",
    "\n",
    "def get_user_precision(u, predictions, theta):\n",
    "    precision = 0\n",
    "    count = 0\n",
    "    recommendations = get_recommendations(predictions[u], N)\n",
    "\n",
    "    for i in recommendations:\n",
    "        if i is not None and not np.isnan(test_ratings_np[u, i]):\n",
    "            if test_ratings_np[u, i] >= theta:\n",
    "                precision += 1\n",
    "            count += 1\n",
    "\n",
    "    if count > 0:\n",
    "        return precision / count\n",
    "    else:\n",
    "        return None\n",
    "\n",
    "def get_precision(predictions, theta):\n",
    "    precisions = []\n",
    "    for u in range(NUM_USERS):\n",
    "        if np.any(~np.isnan(test_ratings_np[u])):\n",
    "            user_precision = get_user_precision(u, predictions, theta)\n",
    "            if user_precision is not None:\n",
    "                precisions.append(user_precision)\n",
    "\n",
    "    if len(precisions) > 0:\n",
    "        return np.mean(precisions)\n",
    "    else:\n",
    "        return None\n"
   ]
  },
  {
   "cell_type": "code",
   "execution_count": 36,
   "id": "b65ea34e",
   "metadata": {},
   "outputs": [
    {
     "name": "stdout",
     "output_type": "stream",
     "text": [
      "Precision Avg Prediction with Corr Similarity = 0.6418848167539267\n",
      "Precision Avg Prediction with JMSD Similarity = 0.6923931623931625\n",
      "Precision Weighted Avg Prediction with Corr Similarity = 0.6387434554973822\n",
      "Precision Weighted Avg Prediction with JMSD Similarity = 0.6944444444444444\n",
      "Precision Dev from Mean Prediction with Corr Similarity = 0.6356020942408377\n",
      "Precision Dev from Mean Prediction with JMSD Similarity = 0.6729059829059828\n"
     ]
    }
   ],
   "source": [
    "precision_avg_corr = get_precision(avg_predictions_corr, theta)\n",
    "precision_avg_jmsd = get_precision(avg_predictions_jmsd, theta)\n",
    "precision_wavg_corr = get_precision(wavg_predictions_corr, theta)\n",
    "precision_wavg_jmsd = get_precision(wavg_predictions_jmsd, theta)\n",
    "precision_dfm_corr = get_precision(dfm_predictions_corr, theta)\n",
    "precision_dfm_jmsd = get_precision(dfm_predictions_jmsd, theta)\n",
    "print(\"Precision Avg Prediction with Corr Similarity = \" + str(precision_avg_corr))\n",
    "print(\"Precision Avg Prediction with JMSD Similarity = \" + str(precision_avg_jmsd))\n",
    "print(\"Precision Weighted Avg Prediction with Corr Similarity = \" + str(precision_wavg_corr))\n",
    "print(\"Precision Weighted Avg Prediction with JMSD Similarity = \" + str(precision_wavg_jmsd))\n",
    "print(\"Precision Dev from Mean Prediction with Corr Similarity = \" + str(precision_dfm_corr))\n",
    "print(\"Precision Dev from Mean Prediction with JMSD Similarity = \" + str(precision_dfm_jmsd))"
   ]
  },
  {
   "cell_type": "code",
   "execution_count": 37,
   "id": "9cac5f60",
   "metadata": {},
   "outputs": [],
   "source": [
    "def get_user_recall(u, predictions, theta):\n",
    "    recall = 0\n",
    "    count = 0\n",
    "    recommendations = get_recommendations(predictions[u], N)\n",
    "\n",
    "    for i in range(NUM_ITEMS):\n",
    "        if not np.isnan(test_ratings_np[u, i]) and not np.isnan(predictions[u, i]):\n",
    "            if test_ratings_np[u, i] >= theta:\n",
    "                recall += 1 if i in recommendations else 0\n",
    "                count += 1\n",
    "\n",
    "    if count > 0:\n",
    "        return recall / count\n",
    "    else:\n",
    "        return None\n",
    "\n",
    "def get_recall(predictions, theta):\n",
    "    recalls = []\n",
    "    for u in range(NUM_USERS):\n",
    "        if np.any(~np.isnan(test_ratings_np[u])):\n",
    "            user_recall = get_user_recall(u, predictions, theta)\n",
    "            if user_recall is not None:\n",
    "                recalls.append(user_recall)\n",
    "\n",
    "    if len(recalls) > 0:\n",
    "        return np.mean(recalls)\n",
    "    else:\n",
    "        return None"
   ]
  },
  {
   "cell_type": "code",
   "execution_count": 38,
   "id": "917a2c7d",
   "metadata": {},
   "outputs": [
    {
     "name": "stdout",
     "output_type": "stream",
     "text": [
      "Recall Avg Prediction with Corr Similarity = 0.8670666466163055\n",
      "Recall Avg Prediction with JMSD Similarity = 0.558096676993848\n",
      "Recall Weighted Avg Prediction with Corr Similarity = 0.8634193036211365\n",
      "Recall Weighted Avg Prediction with JMSD Similarity = 0.5553598801471036\n",
      "Recall Dev from Mean Prediction with Corr Similarity = 0.8542189414497597\n",
      "Recall Dev from Mean Prediction with JMSD Similarity = 0.5458787138143124\n"
     ]
    }
   ],
   "source": [
    "recall_avg_corr = get_recall(avg_predictions_corr, theta)\n",
    "recall_avg_jmsd = get_recall(avg_predictions_jmsd, theta)\n",
    "recall_wavg_corr = get_recall(wavg_predictions_corr, theta)\n",
    "recall_wavg_jmsd = get_recall(wavg_predictions_jmsd, theta)\n",
    "recall_dfm_corr = get_recall(dfm_predictions_corr, theta)\n",
    "recall_dfm_jmsd = get_recall(dfm_predictions_jmsd, theta)\n",
    "print(\"Recall Avg Prediction with Corr Similarity = \" + str(recall_avg_corr))\n",
    "print(\"Recall Avg Prediction with JMSD Similarity = \" + str(recall_avg_jmsd))\n",
    "print(\"Recall Weighted Avg Prediction with Corr Similarity = \" + str(recall_wavg_corr))\n",
    "print(\"Recall Weighted Avg Prediction with JMSD Similarity = \" + str(recall_wavg_jmsd))\n",
    "print(\"Recall Dev from Mean Prediction with Corr Similarity = \" + str(recall_dfm_corr))\n",
    "print(\"Recall Dev from Mean Prediction with JMSD Similarity = \" + str(recall_dfm_jmsd))"
   ]
  },
  {
   "cell_type": "code",
   "execution_count": 39,
   "id": "ccdb5992",
   "metadata": {},
   "outputs": [],
   "source": [
    "def get_user_f1(u, predictions, theta):\n",
    "    precision = get_user_precision(u, predictions, theta)\n",
    "    recall = get_user_recall(u, predictions, theta)\n",
    "\n",
    "    if precision is None or recall is None:\n",
    "        return None\n",
    "    elif precision == 0 and recall == 0:\n",
    "        return 0\n",
    "    else:\n",
    "        return 2 * precision * recall / (precision + recall)\n",
    "\n",
    "def get_f1(predictions, theta):\n",
    "    f1_sum = 0\n",
    "    count = 0\n",
    "\n",
    "    for u in range(NUM_USERS):\n",
    "        if has_test_ratings(u):\n",
    "            user_f1 = get_user_f1(u, predictions, theta)\n",
    "            if user_f1 is not None:\n",
    "                f1_sum += user_f1\n",
    "                count += 1\n",
    "\n",
    "    if count > 0:\n",
    "        return f1_sum / count\n",
    "    else:\n",
    "        return None\n"
   ]
  },
  {
   "cell_type": "code",
   "execution_count": 40,
   "id": "cfb379dc",
   "metadata": {},
   "outputs": [
    {
     "name": "stdout",
     "output_type": "stream",
     "text": [
      "F1 Avg Prediction with Corr Similarity = 0.7232889376936995\n",
      "F1 Avg Prediction with JMSD Similarity = 0.5371481861383391\n",
      "F1 Weighted Avg Prediction with Corr Similarity = 0.7196306823687777\n",
      "F1 Weighted Avg Prediction with JMSD Similarity = 0.5359233759475605\n",
      "F1 Dev from Mean Prediction with Corr Similarity = 0.7151756620804238\n",
      "F1 Dev from Mean Prediction with JMSD Similarity = 0.5241469868215689\n"
     ]
    }
   ],
   "source": [
    "f1_avg_corr = get_f1(avg_predictions_corr, theta)\n",
    "f1_avg_jmsd = get_f1(avg_predictions_jmsd, theta)\n",
    "f1_wavg_corr = get_f1(wavg_predictions_corr, theta)\n",
    "f1_wavg_jmsd = get_f1(wavg_predictions_jmsd, theta)\n",
    "f1_dfm_corr = get_f1(dfm_predictions_corr, theta)\n",
    "f1_dfm_jmsd = get_f1(dfm_predictions_jmsd, theta)\n",
    "print(\"F1 Avg Prediction with Corr Similarity = \" + str(f1_avg_corr))\n",
    "print(\"F1 Avg Prediction with JMSD Similarity = \" + str(f1_avg_jmsd))\n",
    "print(\"F1 Weighted Avg Prediction with Corr Similarity = \" + str(f1_wavg_corr))\n",
    "print(\"F1 Weighted Avg Prediction with JMSD Similarity = \" + str(f1_wavg_jmsd))\n",
    "print(\"F1 Dev from Mean Prediction with Corr Similarity = \" + str(f1_dfm_corr))\n",
    "print(\"F1 Dev from Mean Prediction with JMSD Similarity = \" + str(f1_dfm_jmsd))"
   ]
  },
  {
   "cell_type": "code",
   "execution_count": 41,
   "id": "67f89c9d",
   "metadata": {},
   "outputs": [],
   "source": [
    "def get_ordered_test_items(u):\n",
    "    rated_items = np.where(~np.isnan(test_ratings_np[u]))[0]\n",
    "    ratings = test_ratings_np[u, rated_items]\n",
    "    ordered_indices = rated_items[np.argsort(-ratings)]\n",
    "    return ordered_indices\n",
    "\n",
    "def get_user_idcg(u):\n",
    "    items = get_ordered_test_items(u)\n",
    "    if len(items) == 0:\n",
    "        return 0\n",
    "    ratings = test_ratings_np[u, items]\n",
    "    positions = np.arange(1, len(items) + 1)\n",
    "    idcg = np.sum((2**ratings - 1) / np.log2(positions + 1))\n",
    "    return idcg\n",
    "\n",
    "def get_user_dcg(u, recommendations):\n",
    "    recommendations = np.array([i for i in recommendations if i is not None])\n",
    "    known_mask = ~np.isnan(test_ratings_np[u, recommendations])\n",
    "    valid_recs = recommendations[known_mask]\n",
    "    if len(valid_recs) == 0:\n",
    "        return 0\n",
    "    ratings = test_ratings_np[u, valid_recs]\n",
    "    positions = np.arange(1, len(valid_recs) + 1)\n",
    "    dcg = np.sum((2**ratings - 1) / np.log2(positions + 1))\n",
    "    return dcg\n",
    "\n",
    "def get_user_ndcg(u, predictions):\n",
    "    recommendations = get_recommendations(predictions[u], N)\n",
    "    dcg = get_user_dcg(u, recommendations)\n",
    "    idcg = get_user_idcg(u)\n",
    "    if idcg == 0:\n",
    "        return 0\n",
    "    else:\n",
    "        return dcg / idcg\n",
    "\n",
    "def get_ndcg(predictions):\n",
    "    ndcg_sum = 0\n",
    "    count = 0\n",
    "    for u in range(NUM_USERS):\n",
    "        if has_test_ratings(u):\n",
    "            user_ndcg = get_user_ndcg(u, predictions)\n",
    "            if user_ndcg is not None:\n",
    "                ndcg_sum += user_ndcg\n",
    "                count += 1\n",
    "    return ndcg_sum / count if count > 0 else None"
   ]
  },
  {
   "cell_type": "code",
   "execution_count": 42,
   "id": "10aa46c5",
   "metadata": {},
   "outputs": [
    {
     "name": "stdout",
     "output_type": "stream",
     "text": [
      "nDCG Avg Prediction with Corr Similarity = 0.4188074338619339\n",
      "nDCG Avg Prediction with JMSD Similarity = 0.5485775755401524\n",
      "nDCG Weighted Avg Prediction with Corr Similarity = 0.4178047157483982\n",
      "nDCG Weighted Avg Prediction with JMSD Similarity = 0.5489139343403171\n",
      "nDCG Dev from Mean Prediction with Corr Similarity = 0.41508830995089063\n",
      "nDCG Dev from Mean Prediction with JMSD Similarity = 0.5450478654538947\n"
     ]
    }
   ],
   "source": [
    "ndcg_avg_corr = get_ndcg(avg_predictions_corr)\n",
    "ndcg_avg_jmsd = get_ndcg(avg_predictions_jmsd)\n",
    "ndcg_wavg_corr = get_ndcg(wavg_predictions_corr)\n",
    "ndcg_wavg_jmsd = get_ndcg(wavg_predictions_jmsd)\n",
    "ndcg_dfm_corr = get_ndcg(dfm_predictions_corr)\n",
    "ndcg_dfm_jmsd = get_ndcg(dfm_predictions_jmsd)\n",
    "\n",
    "print(f\"nDCG Avg Prediction with Corr Similarity = {ndcg_avg_corr}\")\n",
    "print(f\"nDCG Avg Prediction with JMSD Similarity = {ndcg_avg_jmsd}\")\n",
    "print(f\"nDCG Weighted Avg Prediction with Corr Similarity = {ndcg_wavg_corr}\")\n",
    "print(f\"nDCG Weighted Avg Prediction with JMSD Similarity = {ndcg_wavg_jmsd}\")\n",
    "print(f\"nDCG Dev from Mean Prediction with Corr Similarity = {ndcg_dfm_corr}\")\n",
    "print(f\"nDCG Dev from Mean Prediction with JMSD Similarity = {ndcg_dfm_jmsd}\")"
   ]
  },
  {
   "cell_type": "markdown",
   "id": "513a67c2",
   "metadata": {},
   "source": [
    "## 2. -- Matrix Factorization --"
   ]
  },
  {
   "cell_type": "code",
   "execution_count": 44,
   "id": "a7878af5",
   "metadata": {},
   "outputs": [],
   "source": [
    "ratings_np = np.array(ratings, dtype=float)\n",
    "test_ratings_np = np.array(test_ratings, dtype=float)\n",
    "\n",
    "ratings_np = np.where(ratings_np == None, np.nan, ratings_np)\n",
    "test_ratings_np = np.where(test_ratings_np == None, np.nan, test_ratings_np)"
   ]
  },
  {
   "cell_type": "code",
   "execution_count": 46,
   "id": "61a61b7f",
   "metadata": {},
   "outputs": [],
   "source": [
    "NUM_FACTORS = 7\n",
    "LEARNING_RATE = 0.001 # gamma\n",
    "REGULARIZATION = 0.1 # lambda\n",
    "\n",
    "p = np.random.rand(NUM_USERS, NUM_FACTORS)  # user itemas\n",
    "q = np.random.rand(NUM_ITEMS, NUM_FACTORS)  # matrix items"
   ]
  },
  {
   "cell_type": "code",
   "execution_count": 47,
   "id": "5b70f899",
   "metadata": {},
   "outputs": [],
   "source": [
    "def compute_prediction(p_u, q_i):\n",
    "    return np.dot(p_u, q_i)"
   ]
  },
  {
   "cell_type": "code",
   "execution_count": 48,
   "id": "0940baf5",
   "metadata": {},
   "outputs": [
    {
     "name": "stdout",
     "output_type": "stream",
     "text": [
      "Iteración 1 de 10\n",
      "Iteración 2 de 10\n",
      "Iteración 3 de 10\n",
      "Iteración 4 de 10\n",
      "Iteración 5 de 10\n",
      "Iteración 6 de 10\n",
      "Iteración 7 de 10\n",
      "Iteración 8 de 10\n",
      "Iteración 9 de 10\n",
      "Iteración 10 de 10\n"
     ]
    }
   ],
   "source": [
    "NUM_ITERATIONS = 10\n",
    "\n",
    "for it in range(NUM_ITERATIONS):\n",
    "  print(\"Iteración \" + str(it + 1) + \" de \" + str(NUM_ITERATIONS))\n",
    "\n",
    "  updated_p = list(p) # clone p matrix\n",
    "  updated_q = list(q) # clone q matrix\n",
    "\n",
    "  for u in range(NUM_USERS):\n",
    "    for i in range(NUM_ITEMS):\n",
    "      if ratings[u][i] != None:\n",
    "\n",
    "        prediction = compute_prediction(p[u], q[i])\n",
    "        rating = ratings[u][i]\n",
    "        error = rating - prediction\n",
    "\n",
    "        for k in range(NUM_FACTORS):\n",
    "          updated_p[u][k] += LEARNING_RATE * (error * q[i][k] - REGULARIZATION * p[u][k])\n",
    "          updated_q[i][k] += LEARNING_RATE * (error * p[u][k] - REGULARIZATION * q[i][k])\n",
    "\n",
    "  p = updated_p\n",
    "  q = updated_q"
   ]
  },
  {
   "cell_type": "code",
   "execution_count": 49,
   "id": "f88e2736",
   "metadata": {},
   "outputs": [],
   "source": [
    "N = 5\n",
    "\n",
    "def get_recommendations(predictions, N=10):\n",
    "    predictions = np.array(predictions)\n",
    "    \n",
    "    predictions = np.where(predictions == None, -np.inf, predictions)\n",
    "\n",
    "    top_indices = np.argpartition(-predictions, N)[:N]\n",
    "    \n",
    "    top_indices = top_indices[np.argsort(-predictions[top_indices])]\n",
    "    return top_indices.tolist()"
   ]
  },
  {
   "cell_type": "code",
   "execution_count": 50,
   "id": "983df467",
   "metadata": {},
   "outputs": [],
   "source": [
    "predictions = np.full((NUM_USERS, NUM_ITEMS), np.nan)\n",
    "\n",
    "for u in range(NUM_USERS):\n",
    "    for i in range(NUM_ITEMS):\n",
    "        if test_ratings[u][i] is not None:\n",
    "            predictions[u, i] = compute_prediction(p[u], q[i])"
   ]
  },
  {
   "cell_type": "code",
   "execution_count": 51,
   "id": "98bf27aa",
   "metadata": {},
   "outputs": [],
   "source": [
    "test_ratings_np = np.array([[np.nan if x is None else x for x in row] for row in test_ratings], dtype=np.float64)\n",
    "predictions_np = np.array([[np.nan if x is None else x for x in row] for row in predictions], dtype=np.float64)\n",
    "\n",
    "def get_user_mae(u, predictions_np):\n",
    "    mask = ~np.isnan(test_ratings_np[u]) & ~np.isnan(predictions_np[u])\n",
    "    if np.any(mask):\n",
    "        errors = np.abs(test_ratings_np[u][mask] - predictions_np[u][mask])\n",
    "        return errors.mean()\n",
    "    else:\n",
    "        return None\n",
    "\n",
    "def get_mae(predictions_np):\n",
    "    maes = []\n",
    "    for u in range(NUM_USERS):\n",
    "        if np.any(~np.isnan(test_ratings_np[u])):\n",
    "            user_mae = get_user_mae(u, predictions_np)\n",
    "            if user_mae is not None:\n",
    "                maes.append(user_mae)\n",
    "    if maes:\n",
    "        return np.mean(maes)\n",
    "    else:\n",
    "        return None"
   ]
  },
  {
   "cell_type": "code",
   "execution_count": 52,
   "id": "47c13dc0",
   "metadata": {},
   "outputs": [],
   "source": [
    "def get_user_rmse(u, predictions):\n",
    "    mask = ~np.isnan(test_ratings_np[u]) & ~np.isnan(predictions[u])\n",
    "    if np.any(mask):\n",
    "        errors = test_ratings_np[u][mask] - predictions[u][mask]\n",
    "        mse = np.mean(errors ** 2)\n",
    "        return np.sqrt(mse)\n",
    "    else:\n",
    "        return None\n",
    "\n",
    "def get_rmse(predictions):\n",
    "    rmses = []\n",
    "    for u in range(NUM_USERS):\n",
    "        if np.any(~np.isnan(test_ratings_np[u])): \n",
    "            user_rmse = get_user_rmse(u, predictions)\n",
    "            if user_rmse is not None:\n",
    "                rmses.append(user_rmse)\n",
    "\n",
    "    if len(rmses) > 0:\n",
    "        return np.mean(rmses)\n",
    "    else:\n",
    "        return None"
   ]
  },
  {
   "cell_type": "code",
   "execution_count": 53,
   "id": "d3a04566",
   "metadata": {},
   "outputs": [],
   "source": [
    "theta = 4\n",
    "\n",
    "def get_user_precision(u, predictions, theta):\n",
    "    precision = 0\n",
    "    count = 0\n",
    "    recommendations = get_recommendations(predictions[u], N)\n",
    "\n",
    "    for i in recommendations:\n",
    "        if i is not None and not np.isnan(test_ratings_np[u, i]):\n",
    "            if test_ratings_np[u, i] >= theta:\n",
    "                precision += 1\n",
    "            count += 1\n",
    "\n",
    "    if count > 0:\n",
    "        return precision / count\n",
    "    else:\n",
    "        return None\n",
    "\n",
    "def get_precision(predictions, theta):\n",
    "    precisions = []\n",
    "    for u in range(NUM_USERS):\n",
    "        if np.any(~np.isnan(test_ratings_np[u])):\n",
    "            user_precision = get_user_precision(u, predictions, theta)\n",
    "            if user_precision is not None:\n",
    "                precisions.append(user_precision)\n",
    "\n",
    "    if len(precisions) > 0:\n",
    "        return np.mean(precisions)\n",
    "    else:\n",
    "        return None"
   ]
  },
  {
   "cell_type": "code",
   "execution_count": 54,
   "id": "be76c051",
   "metadata": {},
   "outputs": [],
   "source": [
    "def get_user_recall(u, predictions, theta):\n",
    "    recall = 0\n",
    "    count = 0\n",
    "    recommendations = get_recommendations(predictions[u], N)\n",
    "\n",
    "    for i in range(NUM_ITEMS):\n",
    "        if not np.isnan(test_ratings_np[u, i]) and not np.isnan(predictions[u, i]):\n",
    "            if test_ratings_np[u, i] >= theta:\n",
    "                recall += 1 if i in recommendations else 0\n",
    "                count += 1\n",
    "\n",
    "    if count > 0:\n",
    "        return recall / count\n",
    "    else:\n",
    "        return None\n",
    "\n",
    "def get_recall(predictions, theta):\n",
    "    recalls = []\n",
    "    for u in range(NUM_USERS):\n",
    "        if np.any(~np.isnan(test_ratings_np[u])):\n",
    "            user_recall = get_user_recall(u, predictions, theta)\n",
    "            if user_recall is not None:\n",
    "                recalls.append(user_recall)\n",
    "\n",
    "    if len(recalls) > 0:\n",
    "        return np.mean(recalls)\n",
    "    else:\n",
    "        return None"
   ]
  },
  {
   "cell_type": "code",
   "execution_count": 55,
   "id": "2f33d728",
   "metadata": {},
   "outputs": [],
   "source": [
    "def get_user_f1(u, predictions):\n",
    "    precision = get_user_precision(u, predictions, theta)\n",
    "    recall = get_user_recall(u, predictions, theta)\n",
    "\n",
    "    if precision is None or recall is None:\n",
    "        return None\n",
    "    elif precision == 0 and recall == 0:\n",
    "        return 0.0\n",
    "    else:\n",
    "        return 2 * precision * recall / (precision + recall)\n",
    "\n",
    "def get_f1(predictions):\n",
    "    user_f1_scores = np.array([get_user_f1(u, predictions) for u in range(NUM_USERS)], dtype=np.float64)\n",
    "    valid_f1_scores = user_f1_scores[~np.isnan(user_f1_scores)]\n",
    "\n",
    "    return np.mean(valid_f1_scores) if valid_f1_scores.size > 0 else None\n"
   ]
  },
  {
   "cell_type": "code",
   "execution_count": 56,
   "id": "c4349cd3",
   "metadata": {},
   "outputs": [],
   "source": [
    "def get_ordered_test_items(u):\n",
    "    ratings_u = np.array(test_ratings[u], dtype=np.float64)\n",
    "    valid_indices = np.where(~np.isnan(ratings_u))[0]\n",
    "    sorted_indices = valid_indices[np.argsort(-ratings_u[valid_indices])]\n",
    "    return sorted_indices.tolist()\n",
    "\n",
    "def get_user_idcg(u):\n",
    "    items = get_ordered_test_items(u)\n",
    "    if len(items) == 0:\n",
    "        return 0\n",
    "    ratings = np.array([test_ratings[u][i] for i in items], dtype=np.float64)\n",
    "    positions = np.arange(1, len(items) + 1)\n",
    "    idcg = np.sum((2 ** ratings - 1) / np.log2(positions + 1))\n",
    "    return idcg\n",
    "\n",
    "def get_user_dcg(u, recommendations):\n",
    "    valid_recs = [i for i in recommendations if i is not None and test_ratings[u][i] is not None]\n",
    "    if len(valid_recs) == 0:\n",
    "        return 0\n",
    "    ratings = np.array([test_ratings[u][i] for i in valid_recs], dtype=np.float64)\n",
    "    positions = np.arange(1, len(valid_recs) + 1)\n",
    "    dcg = np.sum((2 ** ratings - 1) / np.log2(positions + 1))\n",
    "    return dcg\n",
    "\n",
    "def get_user_ndcg(u, predictions):\n",
    "    recommendations = get_recommendations(predictions[u])\n",
    "    dcg = get_user_dcg(u, recommendations)\n",
    "    idcg = get_user_idcg(u)\n",
    "    return dcg / idcg if idcg > 0 else 0\n",
    "\n",
    "def get_ndcg(predictions):\n",
    "    ndcgs = np.array([get_user_ndcg(u, predictions) for u in range(NUM_USERS)], dtype=np.float64)\n",
    "    return np.mean(ndcgs[~np.isnan(ndcgs)]) if np.any(~np.isnan(ndcgs)) else None"
   ]
  },
  {
   "cell_type": "code",
   "execution_count": 57,
   "id": "e478a8b3",
   "metadata": {},
   "outputs": [
    {
     "name": "stdout",
     "output_type": "stream",
     "text": [
      "MAE = 0.9160203748609498\n",
      "RMSE = 1.0865300065270902\n",
      "Precision = 0.7109401709401709\n",
      "Recall = 0.5305556466727257\n",
      "F1 = 0.5275183811188838\n",
      "nDCG = 0.14891946204071588\n"
     ]
    }
   ],
   "source": [
    "predictions = np.array([[np.nan if x is None else x for x in row] for row in predictions], dtype=np.float64)\n",
    "\n",
    "mae = get_mae(predictions)\n",
    "rmse = get_rmse(predictions)\n",
    "precision = get_precision(predictions, theta)\n",
    "recall = get_recall(predictions, theta)\n",
    "f1 = get_f1(predictions)\n",
    "ndcg = get_ndcg(predictions)\n",
    "print(\"MAE = \" + str(mae))\n",
    "print(\"RMSE = \" + str(rmse))\n",
    "print(\"Precision = \" + str(precision))\n",
    "print(\"Recall = \" + str(recall))\n",
    "print(\"F1 = \" + str(f1))\n",
    "print(\"nDCG = \" + str(ndcg))"
   ]
  },
  {
   "cell_type": "code",
   "execution_count": 58,
   "id": "51a5451d",
   "metadata": {},
   "outputs": [],
   "source": [
    "def compute_biased_prediction(avg, b_u, b_i, p_u, q_i):\n",
    "    deviation = np.dot(p_u, q_i)\n",
    "    prediction = avg + b_u + b_i + deviation\n",
    "    return prediction\n",
    "\n",
    "\n",
    "ratings_np = np.array(ratings, dtype=np.float64)\n",
    "rating_average = np.nanmean(ratings_np)"
   ]
  },
  {
   "cell_type": "code",
   "execution_count": 59,
   "id": "3f55653d",
   "metadata": {},
   "outputs": [],
   "source": [
    "p = np.random.rand(NUM_USERS, NUM_FACTORS)\n",
    "q = np.random.rand(NUM_ITEMS, NUM_FACTORS)\n",
    "\n",
    "bu = np.random.rand(NUM_USERS)\n",
    "bi = np.random.rand(NUM_ITEMS)"
   ]
  },
  {
   "cell_type": "code",
   "execution_count": 60,
   "id": "52658da0",
   "metadata": {},
   "outputs": [
    {
     "name": "stdout",
     "output_type": "stream",
     "text": [
      "Iteración 1 de 10\n",
      "Iteración 2 de 10\n",
      "Iteración 3 de 10\n",
      "Iteración 4 de 10\n",
      "Iteración 5 de 10\n",
      "Iteración 6 de 10\n",
      "Iteración 7 de 10\n",
      "Iteración 8 de 10\n",
      "Iteración 9 de 10\n",
      "Iteración 10 de 10\n"
     ]
    }
   ],
   "source": [
    "for it in range(NUM_ITERATIONS):\n",
    "    print(\"Iteración \" + str(it + 1) + \" de \" + str(NUM_ITERATIONS))\n",
    "\n",
    "    updated_p = p.copy()  # clone p matrix\n",
    "    updated_q = q.copy()  # clone q matrix\n",
    "\n",
    "    updated_bu = bu.copy()  # clone bu vector\n",
    "    updated_bi = bi.copy()  # clone bi vector\n",
    "\n",
    "    for u in range(NUM_USERS):\n",
    "        for i in range(NUM_ITEMS):\n",
    "            if ratings[u][i] is not None:\n",
    "                prediction = rating_average + bu[u] + bi[i] + np.dot(p[u], q[i])\n",
    "                rating = ratings[u][i]\n",
    "                error = rating - prediction\n",
    "\n",
    "                updated_p[u] += LEARNING_RATE * (error * q[i] - REGULARIZATION * p[u])\n",
    "                updated_q[i] += LEARNING_RATE * (error * p[u] - REGULARIZATION * q[i])\n",
    "\n",
    "                updated_bu[u] += LEARNING_RATE * (error - REGULARIZATION * bu[u])\n",
    "                updated_bi[i] += LEARNING_RATE * (error - REGULARIZATION * bi[i])\n",
    "\n",
    "    p = updated_p\n",
    "    q = updated_q\n",
    "    bu = updated_bu\n",
    "    bi = updated_bi"
   ]
  },
  {
   "cell_type": "code",
   "execution_count": null,
   "id": "41991176",
   "metadata": {},
   "outputs": [],
   "source": [
    "predictions = np.full((NUM_USERS, NUM_ITEMS), None)\n",
    "\n",
    "for u in range(NUM_USERS):\n",
    "    for i in range(NUM_ITEMS):\n",
    "        if test_ratings[u][i] is not None:\n",
    "            predictions[u, i] = rating_average + bu[u] + bi[i] + np.dot(p[u], q[i])"
   ]
  },
  {
   "cell_type": "code",
   "execution_count": null,
   "id": "b2de7fba",
   "metadata": {},
   "outputs": [
    {
     "name": "stdout",
     "output_type": "stream",
     "text": [
      "MAE = 0.9160203748609498\n",
      "RMSE = 1.0865300065270902\n",
      "Precision = 0.760725075528701\n",
      "Recall = 0.5638154948499776\n",
      "F1 = 0.6476337448559671\n",
      "nDCG = 0.14891946204071588\n"
     ]
    }
   ],
   "source": [
    "test_ratings_np = np.array([[np.nan if x is None else x for x in row] for row in test_ratings])\n",
    "predictions_np = np.array([[np.nan if x is None else x for x in row] for row in predictions])\n",
    "\n",
    "def get_precision(predictions_np, threshold=3.5):\n",
    "    relevant = test_ratings_np >= threshold\n",
    "    recommended = predictions_np >= threshold\n",
    "    true_positive = np.logical_and(relevant, recommended).sum()\n",
    "    predicted_positive = recommended.sum()\n",
    "    return true_positive / predicted_positive if predicted_positive > 0 else None\n",
    "\n",
    "def get_recall(predictions_np, threshold=3.5):\n",
    "    relevant = test_ratings_np >= threshold\n",
    "    recommended = predictions_np >= threshold\n",
    "    true_positive = np.logical_and(relevant, recommended).sum()\n",
    "    actual_positive = relevant.sum()\n",
    "    return true_positive / actual_positive if actual_positive > 0 else None\n",
    "\n",
    "def get_f1(predictions_np, threshold=3.5):\n",
    "    precision = get_precision(predictions_np, threshold)\n",
    "    recall = get_recall(predictions_np, threshold)\n",
    "    if precision is None or recall is None:\n",
    "        return None\n",
    "    if precision + recall == 0:\n",
    "        return 0\n",
    "    return 2 * (precision * recall) / (precision + recall)\n",
    "\n",
    "mae = get_mae(predictions_np)\n",
    "rmse = get_rmse(predictions_np)\n",
    "precision = get_precision(predictions_np)\n",
    "recall = get_recall(predictions_np)\n",
    "f1 = get_f1(predictions_np)\n",
    "ndcg = get_ndcg(predictions) \n",
    "\n",
    "print(f\"MAE = {mae}\")\n",
    "print(f\"RMSE = {rmse}\")\n",
    "print(f\"Precision = {precision}\")\n",
    "print(f\"Recall = {recall}\")\n",
    "print(f\"F1 = {f1}\")\n",
    "print(f\"nDCG = {ndcg}\")\n"
   ]
  },
  {
   "cell_type": "markdown",
   "id": "ea253d38",
   "metadata": {},
   "source": [
    "## 3. -- Bernouilli matrix factorization --"
   ]
  },
  {
   "cell_type": "code",
   "execution_count": 62,
   "id": "96d816e8",
   "metadata": {},
   "outputs": [],
   "source": [
    "SCORES = [1, 2, 3, 4, 5]\n",
    "\n",
    "U = np.random.rand(len(SCORES), NUM_USERS, NUM_FACTORS)\n",
    "V = np.random.rand(len(SCORES), NUM_ITEMS, NUM_FACTORS)"
   ]
  },
  {
   "cell_type": "code",
   "execution_count": 74,
   "id": "b0a05531",
   "metadata": {},
   "outputs": [],
   "source": [
    "def logit (x):\n",
    "  return 1 / (1 + np.exp(-x))\n",
    "\n",
    "def compute_prediction(u, i):\n",
    "    dots = np.array([np.dot(U[s][u], V[s][i]) for s in range(len(SCORES))])\n",
    "    probs = logit(dots)\n",
    "    \n",
    "    s_max = np.argmax(probs)\n",
    "    \n",
    "    prediction = SCORES[s_max]\n",
    "    prob = probs[s_max]\n",
    "    return prediction, prob"
   ]
  },
  {
   "cell_type": "code",
   "execution_count": 75,
   "id": "65e43603",
   "metadata": {},
   "outputs": [
    {
     "name": "stdout",
     "output_type": "stream",
     "text": [
      "Iteración 1 de 10\n",
      "Iteración 2 de 10\n",
      "Iteración 3 de 10\n",
      "Iteración 4 de 10\n",
      "Iteración 5 de 10\n",
      "Iteración 6 de 10\n",
      "Iteración 7 de 10\n",
      "Iteración 8 de 10\n",
      "Iteración 9 de 10\n",
      "Iteración 10 de 10\n"
     ]
    }
   ],
   "source": [
    "NUM_ITERATIONS = 10\n",
    "\n",
    "for it in range(NUM_ITERATIONS):\n",
    "    print(\"Iteración \" + str(it + 1) + \" de \" + str(NUM_ITERATIONS))\n",
    "\n",
    "    for s in range(len(SCORES)):\n",
    "\n",
    "        # update users\n",
    "        for u in range(NUM_USERS):\n",
    "            delta = [0.0] * NUM_FACTORS\n",
    "            for i in range(NUM_ITEMS):\n",
    "                if ratings[u][i] is not None:\n",
    "                    dot = 0\n",
    "                    for f in range(NUM_FACTORS):\n",
    "                        dot += U[s][u][f] * V[s][i][f]\n",
    "\n",
    "                    for f in range(NUM_FACTORS):\n",
    "                        if ratings[u][i] == SCORES[s]:\n",
    "                            delta[f] += (1 - logit(dot)) * V[s][i][f]\n",
    "                        else:\n",
    "                            delta[f] -= logit(dot) * V[s][i][f]\n",
    "\n",
    "            for f in range(NUM_FACTORS):\n",
    "                U[s][u][f] += LEARNING_RATE * (delta[f] - REGULARIZATION * U[s][u][f])\n",
    "\n",
    "        # update items\n",
    "        for i in range(NUM_ITEMS):\n",
    "            theta = [0.0] * NUM_FACTORS\n",
    "            for u in range(NUM_USERS):\n",
    "                if ratings[u][i] is not None:\n",
    "                    dot = 0\n",
    "                    for f in range(NUM_FACTORS):\n",
    "                        dot += U[s][u][f] * V[s][i][f]\n",
    "\n",
    "                    for f in range(NUM_FACTORS):\n",
    "                        if ratings[u][i] == SCORES[s]:\n",
    "                            theta[f] += (1 - logit(dot)) * U[s][u][f]\n",
    "                        else:\n",
    "                            theta[f] -= logit(dot) * U[s][u][f]\n",
    "\n",
    "            for f in range(NUM_FACTORS):\n",
    "                V[s][i][f] += LEARNING_RATE * (theta[f] - REGULARIZATION * V[s][i][f])"
   ]
  },
  {
   "cell_type": "code",
   "execution_count": 76,
   "id": "39ad5eb8",
   "metadata": {},
   "outputs": [],
   "source": [
    "N = 5\n",
    "\n",
    "def get_recommendations(predictions, N=10):\n",
    "    predictions = np.array(predictions)\n",
    "    # Convertimos los None en -inf para que no se seleccionen\n",
    "    predictions = np.where(predictions == None, -np.inf, predictions)\n",
    "    # Obtenemos los índices de los N valores más altos\n",
    "    top_indices = np.argpartition(-predictions, N)[:N]\n",
    "    # Ordenamos los N mejores por valor descendente\n",
    "    top_indices = top_indices[np.argsort(-predictions[top_indices])]\n",
    "    return top_indices.tolist()"
   ]
  },
  {
   "cell_type": "code",
   "execution_count": null,
   "id": "69faa0bb",
   "metadata": {},
   "outputs": [],
   "source": [
    "predictions = [[None for _ in range(NUM_ITEMS)] for _ in range(NUM_USERS)]\n",
    "\n",
    "for u in range(NUM_USERS):\n",
    "    for i in range(NUM_ITEMS):\n",
    "        if not np.isnan(test_ratings_np[u, i]):  # <-- esta es la forma correcta\n",
    "            pred, prob = compute_prediction(u, i)\n",
    "            predictions[u][i] = pred"
   ]
  },
  {
   "cell_type": "code",
   "execution_count": 78,
   "id": "26183128",
   "metadata": {},
   "outputs": [],
   "source": [
    "def get_user_mae(u, predictions_np):\n",
    "    mask = ~np.isnan(test_ratings_np[u]) & ~np.isnan(predictions_np[u])\n",
    "    if np.any(mask):\n",
    "        errors = np.abs(test_ratings_np[u][mask] - predictions_np[u][mask])\n",
    "        return errors.mean()\n",
    "    else:\n",
    "        return None\n",
    "\n",
    "def get_mae(predictions_np):\n",
    "    maes = []\n",
    "    for u in range(NUM_USERS):\n",
    "        if np.any(~np.isnan(test_ratings_np[u])):\n",
    "            user_mae = get_user_mae(u, predictions_np)\n",
    "            if user_mae is not None:\n",
    "                maes.append(user_mae)\n",
    "    if maes:\n",
    "        return np.mean(maes)\n",
    "    else:\n",
    "        return None"
   ]
  },
  {
   "cell_type": "code",
   "execution_count": 79,
   "id": "3d40b227",
   "metadata": {},
   "outputs": [],
   "source": [
    "def get_user_rmse(u, predictions):\n",
    "    mask = ~np.isnan(test_ratings_np[u]) & ~np.isnan(predictions[u])\n",
    "    if np.any(mask):\n",
    "        errors = test_ratings_np[u][mask] - predictions[u][mask]\n",
    "        mse = np.mean(errors ** 2)\n",
    "        return np.sqrt(mse)\n",
    "    else:\n",
    "        return None\n",
    "\n",
    "def get_rmse(predictions):\n",
    "    rmses = []\n",
    "    for u in range(NUM_USERS):\n",
    "        if np.any(~np.isnan(test_ratings_np[u])):  \n",
    "            user_rmse = get_user_rmse(u, predictions)\n",
    "            if user_rmse is not None:\n",
    "                rmses.append(user_rmse)\n",
    "\n",
    "    if len(rmses) > 0:\n",
    "        return np.mean(rmses)\n",
    "    else:\n",
    "        return None"
   ]
  },
  {
   "cell_type": "code",
   "execution_count": 80,
   "id": "edac3c31",
   "metadata": {},
   "outputs": [],
   "source": [
    "theta = 4\n",
    "\n",
    "def get_user_precision(u, predictions, theta):\n",
    "    precision = 0\n",
    "    count = 0\n",
    "    recommendations = get_recommendations(predictions[u], N)\n",
    "\n",
    "    for i in recommendations:\n",
    "        if i is not None and not np.isnan(test_ratings_np[u, i]):\n",
    "            if test_ratings_np[u, i] >= theta:\n",
    "                precision += 1\n",
    "            count += 1\n",
    "\n",
    "    if count > 0:\n",
    "        return precision / count\n",
    "    else:\n",
    "        return None\n",
    "\n",
    "def get_precision(predictions, theta):\n",
    "    precisions = []\n",
    "    for u in range(NUM_USERS):\n",
    "        if np.any(~np.isnan(test_ratings_np[u])):\n",
    "            user_precision = get_user_precision(u, predictions, theta)\n",
    "            if user_precision is not None:\n",
    "                precisions.append(user_precision)\n",
    "\n",
    "    if len(precisions) > 0:\n",
    "        return np.mean(precisions)\n",
    "    else:\n",
    "        return None"
   ]
  },
  {
   "cell_type": "code",
   "execution_count": 81,
   "id": "84e51f7f",
   "metadata": {},
   "outputs": [],
   "source": [
    "def get_user_recall(u, predictions, theta):\n",
    "    recall = 0\n",
    "    count = 0\n",
    "    recommendations = get_recommendations(predictions[u], N)\n",
    "\n",
    "    for i in range(NUM_ITEMS):\n",
    "        if not np.isnan(test_ratings_np[u, i]) and not np.isnan(predictions[u, i]):\n",
    "            if test_ratings_np[u, i] >= theta:\n",
    "                recall += 1 if i in recommendations else 0\n",
    "                count += 1\n",
    "\n",
    "    if count > 0:\n",
    "        return recall / count\n",
    "    else:\n",
    "        return None\n",
    "\n",
    "def get_recall(predictions, theta):\n",
    "    recalls = []\n",
    "    for u in range(NUM_USERS):\n",
    "        if np.any(~np.isnan(test_ratings_np[u])):\n",
    "            user_recall = get_user_recall(u, predictions, theta)\n",
    "            if user_recall is not None:\n",
    "                recalls.append(user_recall)\n",
    "\n",
    "    if len(recalls) > 0:\n",
    "        return np.mean(recalls)\n",
    "    else:\n",
    "        return None"
   ]
  },
  {
   "cell_type": "code",
   "execution_count": 82,
   "id": "4bb7aa59",
   "metadata": {},
   "outputs": [],
   "source": [
    "def get_user_f1(u, predictions):\n",
    "    precision = get_user_precision(u, predictions, theta)\n",
    "    recall = get_user_recall(u, predictions, theta)\n",
    "\n",
    "    if precision is None or recall is None:\n",
    "        return None\n",
    "    elif precision == 0 and recall == 0:\n",
    "        return 0.0\n",
    "    else:\n",
    "        return 2 * precision * recall / (precision + recall)\n",
    "\n",
    "def get_f1(predictions):\n",
    "    user_f1_scores = np.array([get_user_f1(u, predictions) for u in range(NUM_USERS)], dtype=np.float64)\n",
    "    valid_f1_scores = user_f1_scores[~np.isnan(user_f1_scores)]\n",
    "\n",
    "    return np.mean(valid_f1_scores) if valid_f1_scores.size > 0 else None"
   ]
  },
  {
   "cell_type": "code",
   "execution_count": 83,
   "id": "654f1f14",
   "metadata": {},
   "outputs": [],
   "source": [
    "def get_ordered_test_items(u):\n",
    "    ratings_u = np.array(test_ratings[u], dtype=np.float64)\n",
    "    valid_indices = np.where(~np.isnan(ratings_u))[0]\n",
    "    sorted_indices = valid_indices[np.argsort(-ratings_u[valid_indices])]\n",
    "    return sorted_indices.tolist()\n",
    "\n",
    "def get_user_idcg(u):\n",
    "    items = get_ordered_test_items(u)\n",
    "    if len(items) == 0:\n",
    "        return 0\n",
    "    ratings = np.array([test_ratings[u][i] for i in items], dtype=np.float64)\n",
    "    positions = np.arange(1, len(items) + 1)\n",
    "    idcg = np.sum((2 ** ratings - 1) / np.log2(positions + 1))\n",
    "    return idcg\n",
    "\n",
    "def get_user_dcg(u, recommendations):\n",
    "    valid_recs = [i for i in recommendations if i is not None and test_ratings[u][i] is not None]\n",
    "    if len(valid_recs) == 0:\n",
    "        return 0\n",
    "    ratings = np.array([test_ratings[u][i] for i in valid_recs], dtype=np.float64)\n",
    "    positions = np.arange(1, len(valid_recs) + 1)\n",
    "    dcg = np.sum((2 ** ratings - 1) / np.log2(positions + 1))\n",
    "    return dcg\n",
    "\n",
    "def get_user_ndcg(u, predictions):\n",
    "    recommendations = get_recommendations(predictions[u])\n",
    "    dcg = get_user_dcg(u, recommendations)\n",
    "    idcg = get_user_idcg(u)\n",
    "    return dcg / idcg if idcg > 0 else 0\n",
    "\n",
    "def get_ndcg(predictions):\n",
    "    ndcgs = np.array([get_user_ndcg(u, predictions) for u in range(NUM_USERS)], dtype=np.float64)\n",
    "    return np.mean(ndcgs[~np.isnan(ndcgs)]) if np.any(~np.isnan(ndcgs)) else None"
   ]
  },
  {
   "cell_type": "code",
   "execution_count": 85,
   "id": "7148b5e5",
   "metadata": {},
   "outputs": [
    {
     "name": "stdout",
     "output_type": "stream",
     "text": [
      "MAE = 1.1194441566401367\n",
      "RMSE = 1.4539904914734938\n",
      "Precision = 0.6104273504273504\n",
      "Recall = 0.4976023732633204\n",
      "F1 = 0.4799430595549093\n",
      "nDCG = 0.1340347281437326\n"
     ]
    }
   ],
   "source": [
    "predictions = np.array([[np.nan if x is None else x for x in row] for row in predictions], dtype=np.float64)\n",
    "\n",
    "mae = get_mae(predictions)\n",
    "rmse = get_rmse(predictions)\n",
    "precision = get_precision(predictions, theta)\n",
    "recall = get_recall(predictions, theta)\n",
    "f1 = get_f1(predictions)\n",
    "ndcg = get_ndcg(predictions)\n",
    "print(\"MAE = \" + str(mae))\n",
    "print(\"RMSE = \" + str(rmse))\n",
    "print(\"Precision = \" + str(precision))\n",
    "print(\"Recall = \" + str(recall))\n",
    "print(\"F1 = \" + str(f1))\n",
    "print(\"nDCG = \" + str(ndcg))"
   ]
  },
  {
   "cell_type": "markdown",
   "id": "33ace863",
   "metadata": {},
   "source": [
    "## Neural network"
   ]
  },
  {
   "cell_type": "code",
   "execution_count": 86,
   "id": "f1603950",
   "metadata": {},
   "outputs": [],
   "source": [
    "from keras.models import Model\n",
    "from keras.layers import Embedding, Flatten, Input, Dense, Concatenate, Dot"
   ]
  },
  {
   "cell_type": "code",
   "execution_count": 87,
   "id": "d9fc9cc9",
   "metadata": {},
   "outputs": [],
   "source": [
    "NUM_USERS = 943\n",
    "NUM_ITEMS = 1682\n",
    "\n",
    "X_train = [np.array([], dtype=int), np.array([], dtype=int)]\n",
    "y_train = np.array([], dtype=int)\n",
    "\n",
    "training_file = urllib.request.urlopen(\"https://drive.upm.es/s/tDdluElfGInyUnU/download\")\n",
    "for line in training_file:\n",
    "  [u, i, rating] = line.decode(\"utf-8\").split(\"::\")\n",
    "  X_train[0] = np.append(X_train[0], int(u))\n",
    "  X_train[1] = np.append(X_train[1], int(i))\n",
    "  y_train = np.append(y_train, int(rating))"
   ]
  },
  {
   "cell_type": "code",
   "execution_count": 88,
   "id": "097bd7c6",
   "metadata": {},
   "outputs": [],
   "source": [
    "X_test = [np.array([], dtype=int), np.array([], dtype=int)]\n",
    "y_test = np.array([], dtype=int)\n",
    "\n",
    "test_file = urllib.request.urlopen(\"https://drive.upm.es/s/Jn75Vg6okOPsgZu/download\")\n",
    "for line in test_file:\n",
    "  [u, i, rating] = line.decode(\"utf-8\").split(\"::\")\n",
    "  X_test[0] = np.append(X_test[0], int(u))\n",
    "  X_test[1] = np.append(X_test[1], int(i))\n",
    "  y_test = np.append(y_test, int(rating))"
   ]
  },
  {
   "cell_type": "code",
   "execution_count": 89,
   "id": "22068028",
   "metadata": {},
   "outputs": [],
   "source": [
    "latent_dim = 5\n",
    "epochs = 10"
   ]
  },
  {
   "cell_type": "code",
   "execution_count": 90,
   "id": "0b11377a",
   "metadata": {},
   "outputs": [],
   "source": [
    "user_input = Input(shape=[1])\n",
    "user_embedding = Embedding(NUM_USERS, latent_dim)(user_input)\n",
    "user_vec = Flatten()(user_embedding)\n",
    "\n",
    "item_input = Input(shape=[1])\n",
    "item_embedding =  Embedding(NUM_ITEMS, latent_dim)(item_input)\n",
    "item_vec = Flatten()(item_embedding)\n",
    "\n",
    "output = Dot(axes=1)([user_vec, item_vec])\n",
    "\n",
    "GMF = Model([user_input, item_input], output)"
   ]
  },
  {
   "cell_type": "code",
   "execution_count": 91,
   "id": "ebe15448",
   "metadata": {},
   "outputs": [
    {
     "data": {
      "text/html": [
       "<pre style=\"white-space:pre;overflow-x:auto;line-height:normal;font-family:Menlo,'DejaVu Sans Mono',consolas,'Courier New',monospace\"><span style=\"font-weight: bold\">Model: \"functional\"</span>\n",
       "</pre>\n"
      ],
      "text/plain": [
       "\u001b[1mModel: \"functional\"\u001b[0m\n"
      ]
     },
     "metadata": {},
     "output_type": "display_data"
    },
    {
     "data": {
      "text/html": [
       "<pre style=\"white-space:pre;overflow-x:auto;line-height:normal;font-family:Menlo,'DejaVu Sans Mono',consolas,'Courier New',monospace\">┏━━━━━━━━━━━━━━━━━━━━━┳━━━━━━━━━━━━━━━━━━━┳━━━━━━━━━━━━┳━━━━━━━━━━━━━━━━━━━┓\n",
       "┃<span style=\"font-weight: bold\"> Layer (type)        </span>┃<span style=\"font-weight: bold\"> Output Shape      </span>┃<span style=\"font-weight: bold\">    Param # </span>┃<span style=\"font-weight: bold\"> Connected to      </span>┃\n",
       "┡━━━━━━━━━━━━━━━━━━━━━╇━━━━━━━━━━━━━━━━━━━╇━━━━━━━━━━━━╇━━━━━━━━━━━━━━━━━━━┩\n",
       "│ input_layer         │ (<span style=\"color: #00d7ff; text-decoration-color: #00d7ff\">None</span>, <span style=\"color: #00af00; text-decoration-color: #00af00\">1</span>)         │          <span style=\"color: #00af00; text-decoration-color: #00af00\">0</span> │ -                 │\n",
       "│ (<span style=\"color: #0087ff; text-decoration-color: #0087ff\">InputLayer</span>)        │                   │            │                   │\n",
       "├─────────────────────┼───────────────────┼────────────┼───────────────────┤\n",
       "│ input_layer_1       │ (<span style=\"color: #00d7ff; text-decoration-color: #00d7ff\">None</span>, <span style=\"color: #00af00; text-decoration-color: #00af00\">1</span>)         │          <span style=\"color: #00af00; text-decoration-color: #00af00\">0</span> │ -                 │\n",
       "│ (<span style=\"color: #0087ff; text-decoration-color: #0087ff\">InputLayer</span>)        │                   │            │                   │\n",
       "├─────────────────────┼───────────────────┼────────────┼───────────────────┤\n",
       "│ embedding           │ (<span style=\"color: #00d7ff; text-decoration-color: #00d7ff\">None</span>, <span style=\"color: #00af00; text-decoration-color: #00af00\">1</span>, <span style=\"color: #00af00; text-decoration-color: #00af00\">5</span>)      │      <span style=\"color: #00af00; text-decoration-color: #00af00\">4,715</span> │ input_layer[<span style=\"color: #00af00; text-decoration-color: #00af00\">0</span>][<span style=\"color: #00af00; text-decoration-color: #00af00\">0</span>] │\n",
       "│ (<span style=\"color: #0087ff; text-decoration-color: #0087ff\">Embedding</span>)         │                   │            │                   │\n",
       "├─────────────────────┼───────────────────┼────────────┼───────────────────┤\n",
       "│ embedding_1         │ (<span style=\"color: #00d7ff; text-decoration-color: #00d7ff\">None</span>, <span style=\"color: #00af00; text-decoration-color: #00af00\">1</span>, <span style=\"color: #00af00; text-decoration-color: #00af00\">5</span>)      │      <span style=\"color: #00af00; text-decoration-color: #00af00\">8,410</span> │ input_layer_1[<span style=\"color: #00af00; text-decoration-color: #00af00\">0</span>]… │\n",
       "│ (<span style=\"color: #0087ff; text-decoration-color: #0087ff\">Embedding</span>)         │                   │            │                   │\n",
       "├─────────────────────┼───────────────────┼────────────┼───────────────────┤\n",
       "│ flatten (<span style=\"color: #0087ff; text-decoration-color: #0087ff\">Flatten</span>)   │ (<span style=\"color: #00d7ff; text-decoration-color: #00d7ff\">None</span>, <span style=\"color: #00af00; text-decoration-color: #00af00\">5</span>)         │          <span style=\"color: #00af00; text-decoration-color: #00af00\">0</span> │ embedding[<span style=\"color: #00af00; text-decoration-color: #00af00\">0</span>][<span style=\"color: #00af00; text-decoration-color: #00af00\">0</span>]   │\n",
       "├─────────────────────┼───────────────────┼────────────┼───────────────────┤\n",
       "│ flatten_1 (<span style=\"color: #0087ff; text-decoration-color: #0087ff\">Flatten</span>) │ (<span style=\"color: #00d7ff; text-decoration-color: #00d7ff\">None</span>, <span style=\"color: #00af00; text-decoration-color: #00af00\">5</span>)         │          <span style=\"color: #00af00; text-decoration-color: #00af00\">0</span> │ embedding_1[<span style=\"color: #00af00; text-decoration-color: #00af00\">0</span>][<span style=\"color: #00af00; text-decoration-color: #00af00\">0</span>] │\n",
       "├─────────────────────┼───────────────────┼────────────┼───────────────────┤\n",
       "│ dot (<span style=\"color: #0087ff; text-decoration-color: #0087ff\">Dot</span>)           │ (<span style=\"color: #00d7ff; text-decoration-color: #00d7ff\">None</span>, <span style=\"color: #00af00; text-decoration-color: #00af00\">1</span>)         │          <span style=\"color: #00af00; text-decoration-color: #00af00\">0</span> │ flatten[<span style=\"color: #00af00; text-decoration-color: #00af00\">0</span>][<span style=\"color: #00af00; text-decoration-color: #00af00\">0</span>],    │\n",
       "│                     │                   │            │ flatten_1[<span style=\"color: #00af00; text-decoration-color: #00af00\">0</span>][<span style=\"color: #00af00; text-decoration-color: #00af00\">0</span>]   │\n",
       "└─────────────────────┴───────────────────┴────────────┴───────────────────┘\n",
       "</pre>\n"
      ],
      "text/plain": [
       "┏━━━━━━━━━━━━━━━━━━━━━┳━━━━━━━━━━━━━━━━━━━┳━━━━━━━━━━━━┳━━━━━━━━━━━━━━━━━━━┓\n",
       "┃\u001b[1m \u001b[0m\u001b[1mLayer (type)       \u001b[0m\u001b[1m \u001b[0m┃\u001b[1m \u001b[0m\u001b[1mOutput Shape     \u001b[0m\u001b[1m \u001b[0m┃\u001b[1m \u001b[0m\u001b[1m   Param #\u001b[0m\u001b[1m \u001b[0m┃\u001b[1m \u001b[0m\u001b[1mConnected to     \u001b[0m\u001b[1m \u001b[0m┃\n",
       "┡━━━━━━━━━━━━━━━━━━━━━╇━━━━━━━━━━━━━━━━━━━╇━━━━━━━━━━━━╇━━━━━━━━━━━━━━━━━━━┩\n",
       "│ input_layer         │ (\u001b[38;5;45mNone\u001b[0m, \u001b[38;5;34m1\u001b[0m)         │          \u001b[38;5;34m0\u001b[0m │ -                 │\n",
       "│ (\u001b[38;5;33mInputLayer\u001b[0m)        │                   │            │                   │\n",
       "├─────────────────────┼───────────────────┼────────────┼───────────────────┤\n",
       "│ input_layer_1       │ (\u001b[38;5;45mNone\u001b[0m, \u001b[38;5;34m1\u001b[0m)         │          \u001b[38;5;34m0\u001b[0m │ -                 │\n",
       "│ (\u001b[38;5;33mInputLayer\u001b[0m)        │                   │            │                   │\n",
       "├─────────────────────┼───────────────────┼────────────┼───────────────────┤\n",
       "│ embedding           │ (\u001b[38;5;45mNone\u001b[0m, \u001b[38;5;34m1\u001b[0m, \u001b[38;5;34m5\u001b[0m)      │      \u001b[38;5;34m4,715\u001b[0m │ input_layer[\u001b[38;5;34m0\u001b[0m][\u001b[38;5;34m0\u001b[0m] │\n",
       "│ (\u001b[38;5;33mEmbedding\u001b[0m)         │                   │            │                   │\n",
       "├─────────────────────┼───────────────────┼────────────┼───────────────────┤\n",
       "│ embedding_1         │ (\u001b[38;5;45mNone\u001b[0m, \u001b[38;5;34m1\u001b[0m, \u001b[38;5;34m5\u001b[0m)      │      \u001b[38;5;34m8,410\u001b[0m │ input_layer_1[\u001b[38;5;34m0\u001b[0m]… │\n",
       "│ (\u001b[38;5;33mEmbedding\u001b[0m)         │                   │            │                   │\n",
       "├─────────────────────┼───────────────────┼────────────┼───────────────────┤\n",
       "│ flatten (\u001b[38;5;33mFlatten\u001b[0m)   │ (\u001b[38;5;45mNone\u001b[0m, \u001b[38;5;34m5\u001b[0m)         │          \u001b[38;5;34m0\u001b[0m │ embedding[\u001b[38;5;34m0\u001b[0m][\u001b[38;5;34m0\u001b[0m]   │\n",
       "├─────────────────────┼───────────────────┼────────────┼───────────────────┤\n",
       "│ flatten_1 (\u001b[38;5;33mFlatten\u001b[0m) │ (\u001b[38;5;45mNone\u001b[0m, \u001b[38;5;34m5\u001b[0m)         │          \u001b[38;5;34m0\u001b[0m │ embedding_1[\u001b[38;5;34m0\u001b[0m][\u001b[38;5;34m0\u001b[0m] │\n",
       "├─────────────────────┼───────────────────┼────────────┼───────────────────┤\n",
       "│ dot (\u001b[38;5;33mDot\u001b[0m)           │ (\u001b[38;5;45mNone\u001b[0m, \u001b[38;5;34m1\u001b[0m)         │          \u001b[38;5;34m0\u001b[0m │ flatten[\u001b[38;5;34m0\u001b[0m][\u001b[38;5;34m0\u001b[0m],    │\n",
       "│                     │                   │            │ flatten_1[\u001b[38;5;34m0\u001b[0m][\u001b[38;5;34m0\u001b[0m]   │\n",
       "└─────────────────────┴───────────────────┴────────────┴───────────────────┘\n"
      ]
     },
     "metadata": {},
     "output_type": "display_data"
    },
    {
     "data": {
      "text/html": [
       "<pre style=\"white-space:pre;overflow-x:auto;line-height:normal;font-family:Menlo,'DejaVu Sans Mono',consolas,'Courier New',monospace\"><span style=\"font-weight: bold\"> Total params: </span><span style=\"color: #00af00; text-decoration-color: #00af00\">13,125</span> (51.27 KB)\n",
       "</pre>\n"
      ],
      "text/plain": [
       "\u001b[1m Total params: \u001b[0m\u001b[38;5;34m13,125\u001b[0m (51.27 KB)\n"
      ]
     },
     "metadata": {},
     "output_type": "display_data"
    },
    {
     "data": {
      "text/html": [
       "<pre style=\"white-space:pre;overflow-x:auto;line-height:normal;font-family:Menlo,'DejaVu Sans Mono',consolas,'Courier New',monospace\"><span style=\"font-weight: bold\"> Trainable params: </span><span style=\"color: #00af00; text-decoration-color: #00af00\">13,125</span> (51.27 KB)\n",
       "</pre>\n"
      ],
      "text/plain": [
       "\u001b[1m Trainable params: \u001b[0m\u001b[38;5;34m13,125\u001b[0m (51.27 KB)\n"
      ]
     },
     "metadata": {},
     "output_type": "display_data"
    },
    {
     "data": {
      "text/html": [
       "<pre style=\"white-space:pre;overflow-x:auto;line-height:normal;font-family:Menlo,'DejaVu Sans Mono',consolas,'Courier New',monospace\"><span style=\"font-weight: bold\"> Non-trainable params: </span><span style=\"color: #00af00; text-decoration-color: #00af00\">0</span> (0.00 B)\n",
       "</pre>\n"
      ],
      "text/plain": [
       "\u001b[1m Non-trainable params: \u001b[0m\u001b[38;5;34m0\u001b[0m (0.00 B)\n"
      ]
     },
     "metadata": {},
     "output_type": "display_data"
    },
    {
     "name": "stdout",
     "output_type": "stream",
     "text": [
      "Epoch 1/10\n",
      "\u001b[1m2995/2995\u001b[0m \u001b[32m━━━━━━━━━━━━━━━━━━━━\u001b[0m\u001b[37m\u001b[0m \u001b[1m2s\u001b[0m 492us/step - loss: 12.5977 - mae: 3.3498\n",
      "Epoch 2/10\n",
      "\u001b[1m2995/2995\u001b[0m \u001b[32m━━━━━━━━━━━━━━━━━━━━\u001b[0m\u001b[37m\u001b[0m \u001b[1m1s\u001b[0m 492us/step - loss: 2.8906 - mae: 1.3788\n",
      "Epoch 3/10\n",
      "\u001b[1m2995/2995\u001b[0m \u001b[32m━━━━━━━━━━━━━━━━━━━━\u001b[0m\u001b[37m\u001b[0m \u001b[1m2s\u001b[0m 543us/step - loss: 1.3197 - mae: 0.8961\n",
      "Epoch 4/10\n",
      "\u001b[1m2995/2995\u001b[0m \u001b[32m━━━━━━━━━━━━━━━━━━━━\u001b[0m\u001b[37m\u001b[0m \u001b[1m1s\u001b[0m 468us/step - loss: 1.0253 - mae: 0.7908\n",
      "Epoch 5/10\n",
      "\u001b[1m2995/2995\u001b[0m \u001b[32m━━━━━━━━━━━━━━━━━━━━\u001b[0m\u001b[37m\u001b[0m \u001b[1m1s\u001b[0m 494us/step - loss: 0.9348 - mae: 0.7586\n",
      "Epoch 6/10\n",
      "\u001b[1m2995/2995\u001b[0m \u001b[32m━━━━━━━━━━━━━━━━━━━━\u001b[0m\u001b[37m\u001b[0m \u001b[1m2s\u001b[0m 508us/step - loss: 0.9022 - mae: 0.7467\n",
      "Epoch 7/10\n",
      "\u001b[1m2995/2995\u001b[0m \u001b[32m━━━━━━━━━━━━━━━━━━━━\u001b[0m\u001b[37m\u001b[0m \u001b[1m1s\u001b[0m 489us/step - loss: 0.8824 - mae: 0.7395\n",
      "Epoch 8/10\n",
      "\u001b[1m2995/2995\u001b[0m \u001b[32m━━━━━━━━━━━━━━━━━━━━\u001b[0m\u001b[37m\u001b[0m \u001b[1m1s\u001b[0m 447us/step - loss: 0.8779 - mae: 0.7373\n",
      "Epoch 9/10\n",
      "\u001b[1m2995/2995\u001b[0m \u001b[32m━━━━━━━━━━━━━━━━━━━━\u001b[0m\u001b[37m\u001b[0m \u001b[1m2s\u001b[0m 536us/step - loss: 0.8770 - mae: 0.7377\n",
      "Epoch 10/10\n",
      "\u001b[1m2995/2995\u001b[0m \u001b[32m━━━━━━━━━━━━━━━━━━━━\u001b[0m\u001b[37m\u001b[0m \u001b[1m1s\u001b[0m 463us/step - loss: 0.8637 - mae: 0.7320\n"
     ]
    },
    {
     "data": {
      "text/plain": [
       "<keras.src.callbacks.history.History at 0x319d8aff0>"
      ]
     },
     "execution_count": 91,
     "metadata": {},
     "output_type": "execute_result"
    }
   ],
   "source": [
    "GMF.compile(optimizer='adam', metrics=['mae'], loss='mean_squared_error')\n",
    "GMF.summary()\n",
    "GMF.fit(X_train, y_train, epochs=epochs, verbose=1)"
   ]
  },
  {
   "cell_type": "code",
   "execution_count": 92,
   "id": "3be5a2e0",
   "metadata": {},
   "outputs": [
    {
     "name": "stdout",
     "output_type": "stream",
     "text": [
      "\u001b[1m131/131\u001b[0m \u001b[32m━━━━━━━━━━━━━━━━━━━━\u001b[0m\u001b[37m\u001b[0m \u001b[1m0s\u001b[0m 517us/step\n"
     ]
    },
    {
     "data": {
      "text/plain": [
       "array([[3.5138578],\n",
       "       [2.714233 ],\n",
       "       [2.277063 ],\n",
       "       ...,\n",
       "       [3.2852485],\n",
       "       [3.6452658],\n",
       "       [3.394258 ]], dtype=float32)"
      ]
     },
     "execution_count": 92,
     "metadata": {},
     "output_type": "execute_result"
    }
   ],
   "source": [
    "y_pred = GMF.predict(X_test)\n",
    "y_pred"
   ]
  },
  {
   "cell_type": "code",
   "execution_count": 93,
   "id": "357f9ad7",
   "metadata": {},
   "outputs": [
    {
     "data": {
      "text/plain": [
       "0.7732337976556947"
      ]
     },
     "execution_count": 93,
     "metadata": {},
     "output_type": "execute_result"
    }
   ],
   "source": [
    "from sklearn.metrics import mean_absolute_error\n",
    "mean_absolute_error(y_test, y_pred)"
   ]
  },
  {
   "cell_type": "code",
   "execution_count": 94,
   "id": "f9be23c8",
   "metadata": {},
   "outputs": [],
   "source": [
    "user_input = Input(shape=[1])\n",
    "user_embedding = Embedding(NUM_USERS, latent_dim)(user_input)\n",
    "user_vec = Flatten()(user_embedding)\n",
    "\n",
    "item_input = Input(shape=[1])\n",
    "item_embedding = Embedding(NUM_ITEMS, latent_dim)(item_input)\n",
    "item_vec = Flatten()(item_embedding)\n",
    "\n",
    "concat = Concatenate(axis=1)([user_vec, item_vec])\n",
    "\n",
    "layer1 = Dense(20, 'relu')(concat)\n",
    "layer2 = Dense(10, 'relu')(layer1)\n",
    "output = Dense(1, activation='relu')(layer2)\n",
    "\n",
    "MLP = Model([user_input, item_input], output)"
   ]
  },
  {
   "cell_type": "code",
   "execution_count": 95,
   "id": "ca5c1bcd",
   "metadata": {},
   "outputs": [
    {
     "data": {
      "text/html": [
       "<pre style=\"white-space:pre;overflow-x:auto;line-height:normal;font-family:Menlo,'DejaVu Sans Mono',consolas,'Courier New',monospace\"><span style=\"font-weight: bold\">Model: \"functional_1\"</span>\n",
       "</pre>\n"
      ],
      "text/plain": [
       "\u001b[1mModel: \"functional_1\"\u001b[0m\n"
      ]
     },
     "metadata": {},
     "output_type": "display_data"
    },
    {
     "data": {
      "text/html": [
       "<pre style=\"white-space:pre;overflow-x:auto;line-height:normal;font-family:Menlo,'DejaVu Sans Mono',consolas,'Courier New',monospace\">┏━━━━━━━━━━━━━━━━━━━━━┳━━━━━━━━━━━━━━━━━━━┳━━━━━━━━━━━━┳━━━━━━━━━━━━━━━━━━━┓\n",
       "┃<span style=\"font-weight: bold\"> Layer (type)        </span>┃<span style=\"font-weight: bold\"> Output Shape      </span>┃<span style=\"font-weight: bold\">    Param # </span>┃<span style=\"font-weight: bold\"> Connected to      </span>┃\n",
       "┡━━━━━━━━━━━━━━━━━━━━━╇━━━━━━━━━━━━━━━━━━━╇━━━━━━━━━━━━╇━━━━━━━━━━━━━━━━━━━┩\n",
       "│ input_layer_2       │ (<span style=\"color: #00d7ff; text-decoration-color: #00d7ff\">None</span>, <span style=\"color: #00af00; text-decoration-color: #00af00\">1</span>)         │          <span style=\"color: #00af00; text-decoration-color: #00af00\">0</span> │ -                 │\n",
       "│ (<span style=\"color: #0087ff; text-decoration-color: #0087ff\">InputLayer</span>)        │                   │            │                   │\n",
       "├─────────────────────┼───────────────────┼────────────┼───────────────────┤\n",
       "│ input_layer_3       │ (<span style=\"color: #00d7ff; text-decoration-color: #00d7ff\">None</span>, <span style=\"color: #00af00; text-decoration-color: #00af00\">1</span>)         │          <span style=\"color: #00af00; text-decoration-color: #00af00\">0</span> │ -                 │\n",
       "│ (<span style=\"color: #0087ff; text-decoration-color: #0087ff\">InputLayer</span>)        │                   │            │                   │\n",
       "├─────────────────────┼───────────────────┼────────────┼───────────────────┤\n",
       "│ embedding_2         │ (<span style=\"color: #00d7ff; text-decoration-color: #00d7ff\">None</span>, <span style=\"color: #00af00; text-decoration-color: #00af00\">1</span>, <span style=\"color: #00af00; text-decoration-color: #00af00\">5</span>)      │      <span style=\"color: #00af00; text-decoration-color: #00af00\">4,715</span> │ input_layer_2[<span style=\"color: #00af00; text-decoration-color: #00af00\">0</span>]… │\n",
       "│ (<span style=\"color: #0087ff; text-decoration-color: #0087ff\">Embedding</span>)         │                   │            │                   │\n",
       "├─────────────────────┼───────────────────┼────────────┼───────────────────┤\n",
       "│ embedding_3         │ (<span style=\"color: #00d7ff; text-decoration-color: #00d7ff\">None</span>, <span style=\"color: #00af00; text-decoration-color: #00af00\">1</span>, <span style=\"color: #00af00; text-decoration-color: #00af00\">5</span>)      │      <span style=\"color: #00af00; text-decoration-color: #00af00\">8,410</span> │ input_layer_3[<span style=\"color: #00af00; text-decoration-color: #00af00\">0</span>]… │\n",
       "│ (<span style=\"color: #0087ff; text-decoration-color: #0087ff\">Embedding</span>)         │                   │            │                   │\n",
       "├─────────────────────┼───────────────────┼────────────┼───────────────────┤\n",
       "│ flatten_2 (<span style=\"color: #0087ff; text-decoration-color: #0087ff\">Flatten</span>) │ (<span style=\"color: #00d7ff; text-decoration-color: #00d7ff\">None</span>, <span style=\"color: #00af00; text-decoration-color: #00af00\">5</span>)         │          <span style=\"color: #00af00; text-decoration-color: #00af00\">0</span> │ embedding_2[<span style=\"color: #00af00; text-decoration-color: #00af00\">0</span>][<span style=\"color: #00af00; text-decoration-color: #00af00\">0</span>] │\n",
       "├─────────────────────┼───────────────────┼────────────┼───────────────────┤\n",
       "│ flatten_3 (<span style=\"color: #0087ff; text-decoration-color: #0087ff\">Flatten</span>) │ (<span style=\"color: #00d7ff; text-decoration-color: #00d7ff\">None</span>, <span style=\"color: #00af00; text-decoration-color: #00af00\">5</span>)         │          <span style=\"color: #00af00; text-decoration-color: #00af00\">0</span> │ embedding_3[<span style=\"color: #00af00; text-decoration-color: #00af00\">0</span>][<span style=\"color: #00af00; text-decoration-color: #00af00\">0</span>] │\n",
       "├─────────────────────┼───────────────────┼────────────┼───────────────────┤\n",
       "│ concatenate         │ (<span style=\"color: #00d7ff; text-decoration-color: #00d7ff\">None</span>, <span style=\"color: #00af00; text-decoration-color: #00af00\">10</span>)        │          <span style=\"color: #00af00; text-decoration-color: #00af00\">0</span> │ flatten_2[<span style=\"color: #00af00; text-decoration-color: #00af00\">0</span>][<span style=\"color: #00af00; text-decoration-color: #00af00\">0</span>],  │\n",
       "│ (<span style=\"color: #0087ff; text-decoration-color: #0087ff\">Concatenate</span>)       │                   │            │ flatten_3[<span style=\"color: #00af00; text-decoration-color: #00af00\">0</span>][<span style=\"color: #00af00; text-decoration-color: #00af00\">0</span>]   │\n",
       "├─────────────────────┼───────────────────┼────────────┼───────────────────┤\n",
       "│ dense (<span style=\"color: #0087ff; text-decoration-color: #0087ff\">Dense</span>)       │ (<span style=\"color: #00d7ff; text-decoration-color: #00d7ff\">None</span>, <span style=\"color: #00af00; text-decoration-color: #00af00\">20</span>)        │        <span style=\"color: #00af00; text-decoration-color: #00af00\">220</span> │ concatenate[<span style=\"color: #00af00; text-decoration-color: #00af00\">0</span>][<span style=\"color: #00af00; text-decoration-color: #00af00\">0</span>] │\n",
       "├─────────────────────┼───────────────────┼────────────┼───────────────────┤\n",
       "│ dense_1 (<span style=\"color: #0087ff; text-decoration-color: #0087ff\">Dense</span>)     │ (<span style=\"color: #00d7ff; text-decoration-color: #00d7ff\">None</span>, <span style=\"color: #00af00; text-decoration-color: #00af00\">10</span>)        │        <span style=\"color: #00af00; text-decoration-color: #00af00\">210</span> │ dense[<span style=\"color: #00af00; text-decoration-color: #00af00\">0</span>][<span style=\"color: #00af00; text-decoration-color: #00af00\">0</span>]       │\n",
       "├─────────────────────┼───────────────────┼────────────┼───────────────────┤\n",
       "│ dense_2 (<span style=\"color: #0087ff; text-decoration-color: #0087ff\">Dense</span>)     │ (<span style=\"color: #00d7ff; text-decoration-color: #00d7ff\">None</span>, <span style=\"color: #00af00; text-decoration-color: #00af00\">1</span>)         │         <span style=\"color: #00af00; text-decoration-color: #00af00\">11</span> │ dense_1[<span style=\"color: #00af00; text-decoration-color: #00af00\">0</span>][<span style=\"color: #00af00; text-decoration-color: #00af00\">0</span>]     │\n",
       "└─────────────────────┴───────────────────┴────────────┴───────────────────┘\n",
       "</pre>\n"
      ],
      "text/plain": [
       "┏━━━━━━━━━━━━━━━━━━━━━┳━━━━━━━━━━━━━━━━━━━┳━━━━━━━━━━━━┳━━━━━━━━━━━━━━━━━━━┓\n",
       "┃\u001b[1m \u001b[0m\u001b[1mLayer (type)       \u001b[0m\u001b[1m \u001b[0m┃\u001b[1m \u001b[0m\u001b[1mOutput Shape     \u001b[0m\u001b[1m \u001b[0m┃\u001b[1m \u001b[0m\u001b[1m   Param #\u001b[0m\u001b[1m \u001b[0m┃\u001b[1m \u001b[0m\u001b[1mConnected to     \u001b[0m\u001b[1m \u001b[0m┃\n",
       "┡━━━━━━━━━━━━━━━━━━━━━╇━━━━━━━━━━━━━━━━━━━╇━━━━━━━━━━━━╇━━━━━━━━━━━━━━━━━━━┩\n",
       "│ input_layer_2       │ (\u001b[38;5;45mNone\u001b[0m, \u001b[38;5;34m1\u001b[0m)         │          \u001b[38;5;34m0\u001b[0m │ -                 │\n",
       "│ (\u001b[38;5;33mInputLayer\u001b[0m)        │                   │            │                   │\n",
       "├─────────────────────┼───────────────────┼────────────┼───────────────────┤\n",
       "│ input_layer_3       │ (\u001b[38;5;45mNone\u001b[0m, \u001b[38;5;34m1\u001b[0m)         │          \u001b[38;5;34m0\u001b[0m │ -                 │\n",
       "│ (\u001b[38;5;33mInputLayer\u001b[0m)        │                   │            │                   │\n",
       "├─────────────────────┼───────────────────┼────────────┼───────────────────┤\n",
       "│ embedding_2         │ (\u001b[38;5;45mNone\u001b[0m, \u001b[38;5;34m1\u001b[0m, \u001b[38;5;34m5\u001b[0m)      │      \u001b[38;5;34m4,715\u001b[0m │ input_layer_2[\u001b[38;5;34m0\u001b[0m]… │\n",
       "│ (\u001b[38;5;33mEmbedding\u001b[0m)         │                   │            │                   │\n",
       "├─────────────────────┼───────────────────┼────────────┼───────────────────┤\n",
       "│ embedding_3         │ (\u001b[38;5;45mNone\u001b[0m, \u001b[38;5;34m1\u001b[0m, \u001b[38;5;34m5\u001b[0m)      │      \u001b[38;5;34m8,410\u001b[0m │ input_layer_3[\u001b[38;5;34m0\u001b[0m]… │\n",
       "│ (\u001b[38;5;33mEmbedding\u001b[0m)         │                   │            │                   │\n",
       "├─────────────────────┼───────────────────┼────────────┼───────────────────┤\n",
       "│ flatten_2 (\u001b[38;5;33mFlatten\u001b[0m) │ (\u001b[38;5;45mNone\u001b[0m, \u001b[38;5;34m5\u001b[0m)         │          \u001b[38;5;34m0\u001b[0m │ embedding_2[\u001b[38;5;34m0\u001b[0m][\u001b[38;5;34m0\u001b[0m] │\n",
       "├─────────────────────┼───────────────────┼────────────┼───────────────────┤\n",
       "│ flatten_3 (\u001b[38;5;33mFlatten\u001b[0m) │ (\u001b[38;5;45mNone\u001b[0m, \u001b[38;5;34m5\u001b[0m)         │          \u001b[38;5;34m0\u001b[0m │ embedding_3[\u001b[38;5;34m0\u001b[0m][\u001b[38;5;34m0\u001b[0m] │\n",
       "├─────────────────────┼───────────────────┼────────────┼───────────────────┤\n",
       "│ concatenate         │ (\u001b[38;5;45mNone\u001b[0m, \u001b[38;5;34m10\u001b[0m)        │          \u001b[38;5;34m0\u001b[0m │ flatten_2[\u001b[38;5;34m0\u001b[0m][\u001b[38;5;34m0\u001b[0m],  │\n",
       "│ (\u001b[38;5;33mConcatenate\u001b[0m)       │                   │            │ flatten_3[\u001b[38;5;34m0\u001b[0m][\u001b[38;5;34m0\u001b[0m]   │\n",
       "├─────────────────────┼───────────────────┼────────────┼───────────────────┤\n",
       "│ dense (\u001b[38;5;33mDense\u001b[0m)       │ (\u001b[38;5;45mNone\u001b[0m, \u001b[38;5;34m20\u001b[0m)        │        \u001b[38;5;34m220\u001b[0m │ concatenate[\u001b[38;5;34m0\u001b[0m][\u001b[38;5;34m0\u001b[0m] │\n",
       "├─────────────────────┼───────────────────┼────────────┼───────────────────┤\n",
       "│ dense_1 (\u001b[38;5;33mDense\u001b[0m)     │ (\u001b[38;5;45mNone\u001b[0m, \u001b[38;5;34m10\u001b[0m)        │        \u001b[38;5;34m210\u001b[0m │ dense[\u001b[38;5;34m0\u001b[0m][\u001b[38;5;34m0\u001b[0m]       │\n",
       "├─────────────────────┼───────────────────┼────────────┼───────────────────┤\n",
       "│ dense_2 (\u001b[38;5;33mDense\u001b[0m)     │ (\u001b[38;5;45mNone\u001b[0m, \u001b[38;5;34m1\u001b[0m)         │         \u001b[38;5;34m11\u001b[0m │ dense_1[\u001b[38;5;34m0\u001b[0m][\u001b[38;5;34m0\u001b[0m]     │\n",
       "└─────────────────────┴───────────────────┴────────────┴───────────────────┘\n"
      ]
     },
     "metadata": {},
     "output_type": "display_data"
    },
    {
     "data": {
      "text/html": [
       "<pre style=\"white-space:pre;overflow-x:auto;line-height:normal;font-family:Menlo,'DejaVu Sans Mono',consolas,'Courier New',monospace\"><span style=\"font-weight: bold\"> Total params: </span><span style=\"color: #00af00; text-decoration-color: #00af00\">13,566</span> (52.99 KB)\n",
       "</pre>\n"
      ],
      "text/plain": [
       "\u001b[1m Total params: \u001b[0m\u001b[38;5;34m13,566\u001b[0m (52.99 KB)\n"
      ]
     },
     "metadata": {},
     "output_type": "display_data"
    },
    {
     "data": {
      "text/html": [
       "<pre style=\"white-space:pre;overflow-x:auto;line-height:normal;font-family:Menlo,'DejaVu Sans Mono',consolas,'Courier New',monospace\"><span style=\"font-weight: bold\"> Trainable params: </span><span style=\"color: #00af00; text-decoration-color: #00af00\">13,566</span> (52.99 KB)\n",
       "</pre>\n"
      ],
      "text/plain": [
       "\u001b[1m Trainable params: \u001b[0m\u001b[38;5;34m13,566\u001b[0m (52.99 KB)\n"
      ]
     },
     "metadata": {},
     "output_type": "display_data"
    },
    {
     "data": {
      "text/html": [
       "<pre style=\"white-space:pre;overflow-x:auto;line-height:normal;font-family:Menlo,'DejaVu Sans Mono',consolas,'Courier New',monospace\"><span style=\"font-weight: bold\"> Non-trainable params: </span><span style=\"color: #00af00; text-decoration-color: #00af00\">0</span> (0.00 B)\n",
       "</pre>\n"
      ],
      "text/plain": [
       "\u001b[1m Non-trainable params: \u001b[0m\u001b[38;5;34m0\u001b[0m (0.00 B)\n"
      ]
     },
     "metadata": {},
     "output_type": "display_data"
    },
    {
     "name": "stdout",
     "output_type": "stream",
     "text": [
      "Epoch 1/10\n",
      "\u001b[1m2995/2995\u001b[0m \u001b[32m━━━━━━━━━━━━━━━━━━━━\u001b[0m\u001b[37m\u001b[0m \u001b[1m2s\u001b[0m 567us/step - loss: 2.5392 - mae: 1.1681\n",
      "Epoch 2/10\n",
      "\u001b[1m2995/2995\u001b[0m \u001b[32m━━━━━━━━━━━━━━━━━━━━\u001b[0m\u001b[37m\u001b[0m \u001b[1m2s\u001b[0m 566us/step - loss: 0.8735 - mae: 0.7401\n",
      "Epoch 3/10\n",
      "\u001b[1m2995/2995\u001b[0m \u001b[32m━━━━━━━━━━━━━━━━━━━━\u001b[0m\u001b[37m\u001b[0m \u001b[1m2s\u001b[0m 531us/step - loss: 0.8641 - mae: 0.7358\n",
      "Epoch 4/10\n",
      "\u001b[1m2995/2995\u001b[0m \u001b[32m━━━━━━━━━━━━━━━━━━━━\u001b[0m\u001b[37m\u001b[0m \u001b[1m1s\u001b[0m 495us/step - loss: 0.8408 - mae: 0.7237\n",
      "Epoch 5/10\n",
      "\u001b[1m2995/2995\u001b[0m \u001b[32m━━━━━━━━━━━━━━━━━━━━\u001b[0m\u001b[37m\u001b[0m \u001b[1m2s\u001b[0m 552us/step - loss: 0.8179 - mae: 0.7112\n",
      "Epoch 6/10\n",
      "\u001b[1m2995/2995\u001b[0m \u001b[32m━━━━━━━━━━━━━━━━━━━━\u001b[0m\u001b[37m\u001b[0m \u001b[1m2s\u001b[0m 569us/step - loss: 0.8025 - mae: 0.7060\n",
      "Epoch 7/10\n",
      "\u001b[1m2995/2995\u001b[0m \u001b[32m━━━━━━━━━━━━━━━━━━━━\u001b[0m\u001b[37m\u001b[0m \u001b[1m2s\u001b[0m 536us/step - loss: 0.7858 - mae: 0.6976\n",
      "Epoch 8/10\n",
      "\u001b[1m2995/2995\u001b[0m \u001b[32m━━━━━━━━━━━━━━━━━━━━\u001b[0m\u001b[37m\u001b[0m \u001b[1m2s\u001b[0m 542us/step - loss: 0.7689 - mae: 0.6884\n",
      "Epoch 9/10\n",
      "\u001b[1m2995/2995\u001b[0m \u001b[32m━━━━━━━━━━━━━━━━━━━━\u001b[0m\u001b[37m\u001b[0m \u001b[1m1s\u001b[0m 496us/step - loss: 0.7622 - mae: 0.6856\n",
      "Epoch 10/10\n",
      "\u001b[1m2995/2995\u001b[0m \u001b[32m━━━━━━━━━━━━━━━━━━━━\u001b[0m\u001b[37m\u001b[0m \u001b[1m2s\u001b[0m 532us/step - loss: 0.7524 - mae: 0.6792\n"
     ]
    },
    {
     "data": {
      "text/plain": [
       "<keras.src.callbacks.history.History at 0x31eb08b60>"
      ]
     },
     "execution_count": 95,
     "metadata": {},
     "output_type": "execute_result"
    }
   ],
   "source": [
    "MLP.compile(optimizer='adam', metrics=['mae'], loss='mean_squared_error')\n",
    "MLP.summary()\n",
    "MLP.fit(X_train, y_train, epochs=epochs, verbose=1)"
   ]
  },
  {
   "cell_type": "code",
   "execution_count": 96,
   "id": "91f9f945",
   "metadata": {},
   "outputs": [
    {
     "name": "stdout",
     "output_type": "stream",
     "text": [
      "\u001b[1m131/131\u001b[0m \u001b[32m━━━━━━━━━━━━━━━━━━━━\u001b[0m\u001b[37m\u001b[0m \u001b[1m0s\u001b[0m 694us/step\n"
     ]
    },
    {
     "data": {
      "text/plain": [
       "array([[3.7254906],\n",
       "       [2.931367 ],\n",
       "       [2.2511451],\n",
       "       ...,\n",
       "       [3.1194272],\n",
       "       [3.5537028],\n",
       "       [2.9819207]], dtype=float32)"
      ]
     },
     "execution_count": 96,
     "metadata": {},
     "output_type": "execute_result"
    }
   ],
   "source": [
    "y_pred = MLP.predict(X_test)\n",
    "y_pred"
   ]
  },
  {
   "cell_type": "code",
   "execution_count": 97,
   "id": "1ca53742",
   "metadata": {},
   "outputs": [
    {
     "data": {
      "text/plain": [
       "0.7490996851973708"
      ]
     },
     "execution_count": 97,
     "metadata": {},
     "output_type": "execute_result"
    }
   ],
   "source": [
    "from sklearn.metrics import mean_absolute_error\n",
    "mean_absolute_error(y_test, y_pred)"
   ]
  }
 ],
 "metadata": {
  "kernelspec": {
   "display_name": "Python 3",
   "language": "python",
   "name": "python3"
  },
  "language_info": {
   "codemirror_mode": {
    "name": "ipython",
    "version": 3
   },
   "file_extension": ".py",
   "mimetype": "text/x-python",
   "name": "python",
   "nbconvert_exporter": "python",
   "pygments_lexer": "ipython3",
   "version": "3.12.6"
  }
 },
 "nbformat": 4,
 "nbformat_minor": 5
}
