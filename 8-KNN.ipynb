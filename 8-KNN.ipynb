{
 "cells": [
  {
   "cell_type": "markdown",
   "metadata": {
    "id": "abIPUQ1LBeq_"
   },
   "source": [
    "# Filtrado Colaborativo: *K-Nearest Neighbors*\n",
    "\n",
    "Los algoritmos de **filtrado colaborativo** basados en la técnica de los *k* vecinos (KNN) tratan de imitar el comportamiento de los seres humanos cuando buscan recibir una recomendación: cuando necesitamos conocer si nos va a interesar un item, preguntamos a personas que sabemos que conocen nuestros intereses si ellos consideran que el item nos va a gustar.\n",
    "\n",
    "El método realizará esta misma operación empleando la matriz de votaciones. Este proceso seguirá el siguiente algoritmo:\n",
    "\n",
    "1. Determinar la similaridad entre los usuarios\n",
    "2. Encontrar el conjunto de *k* usuarios más similares (*k* vecinos)\n",
    "3. Estimar las predicciones a los items no votados utilizando las votaciones realizadas por los *k* vecinos\n",
    "4. (Opcional) Recomendar los *N* items con una predicción más alta\n",
    "\n",
    "En los siguientes subapartados explicaremos en detalle cada uno de estos pasos."
   ]
  },
  {
   "cell_type": "markdown",
   "metadata": {
    "id": "8uIM2LuLtg-B"
   },
   "source": [
    "## Carga del dataset\n",
    "\n",
    "Para ilustrar mejor el funcionamiento de la técnica de KNN, vamos a desarrollar una implementación explicativa de cómo funciona.\n",
    "\n",
    "Para ello usaremos el dataset de [MovieLens 100K](https://grouplens.org/datasets/movielens/) que contiene 100.000 votos de 943 usuarios sobre 1682 películas. Este dataset ha sido dividido en votaciones de entrenamiento (80%) y votaciones de test (20%). Además, los códigos de usuarios e items, han sido modificados para que comience en 0 y terminen en el número de (usuarios / items) - 1.\n",
    "\n",
    "Inicialmente definimos algunas constantes que nos serán necesarias durante la codificación del algoritmo:"
   ]
  },
  {
   "cell_type": "code",
   "execution_count": 2,
   "metadata": {
    "executionInfo": {
     "elapsed": 1,
     "status": "ok",
     "timestamp": 1712312169511,
     "user": {
      "displayName": "Cristian Ramírez Atencia",
      "userId": "02987040682137538367"
     },
     "user_tz": -120
    },
    "id": "9ChKXrFVw01m"
   },
   "outputs": [],
   "source": [
    "import urllib.request\n",
    "import math\n",
    "import numpy as np"
   ]
  },
  {
   "cell_type": "code",
   "execution_count": 3,
   "metadata": {
    "executionInfo": {
     "elapsed": 2,
     "status": "ok",
     "timestamp": 1712312171438,
     "user": {
      "displayName": "Cristian Ramírez Atencia",
      "userId": "02987040682137538367"
     },
     "user_tz": -120
    },
    "id": "-X_ZhRdVwQci"
   },
   "outputs": [],
   "source": [
    "NUM_USERS = 943\n",
    "NUM_ITEMS = 1682\n",
    "\n",
    "MIN_RATING = 1\n",
    "MAX_RATING = 5"
   ]
  },
  {
   "cell_type": "markdown",
   "metadata": {
    "id": "iG-MLAXiv-kK"
   },
   "source": [
    "Cargamos el dataset en la matriz de votaciones. La ausencia de voto se representa con None:"
   ]
  },
  {
   "cell_type": "code",
   "execution_count": 4,
   "metadata": {
    "executionInfo": {
     "elapsed": 2331,
     "status": "ok",
     "timestamp": 1712312187620,
     "user": {
      "displayName": "Cristian Ramírez Atencia",
      "userId": "02987040682137538367"
     },
     "user_tz": -120
    },
    "id": "Q1CTxoLABerB"
   },
   "outputs": [],
   "source": [
    "ratings = [[None for _ in range(NUM_ITEMS)] for _ in range(NUM_USERS)]\n",
    "\n",
    "training_file = urllib.request.urlopen(\"https://drive.upm.es/s/tDdluElfGInyUnU/download\")\n",
    "for line in training_file:\n",
    "  [u, i, rating] = line.decode(\"utf-8\").split(\"::\")\n",
    "  ratings[int(u)][int(i)] = int(rating)"
   ]
  },
  {
   "cell_type": "markdown",
   "metadata": {
    "id": "52_CBchrzkoM"
   },
   "source": [
    "Del mismo modo, cargamos la matriz de votaciones de test:"
   ]
  },
  {
   "cell_type": "code",
   "execution_count": 5,
   "metadata": {
    "executionInfo": {
     "elapsed": 768,
     "status": "ok",
     "timestamp": 1712312256276,
     "user": {
      "displayName": "Cristian Ramírez Atencia",
      "userId": "02987040682137538367"
     },
     "user_tz": -120
    },
    "id": "Uo5dbgJMzsqd"
   },
   "outputs": [],
   "source": [
    "test_ratings = [[None for _ in range(NUM_ITEMS)] for _ in range(NUM_USERS)]\n",
    "\n",
    "test_file = urllib.request.urlopen(\"https://drive.upm.es/s/Jn75Vg6okOPsgZu/download\")\n",
    "for line in test_file:\n",
    "  [u, i, rating] = line.decode(\"utf-8\").split(\"::\")\n",
    "  test_ratings[int(u)][int(i)] = int(rating)"
   ]
  },
  {
   "cell_type": "code",
   "execution_count": 6,
   "metadata": {},
   "outputs": [],
   "source": [
    "ratings2 = np.asarray(ratings)\n",
    "ratings2[ratings2 == None] = np.nan\n",
    "ratings2 = ratings2.astype(np.float16)\n",
    "ratings3 = ratings2.astype(np.float64)"
   ]
  },
  {
   "cell_type": "code",
   "execution_count": 7,
   "metadata": {},
   "outputs": [
    {
     "name": "stdout",
     "output_type": "stream",
     "text": [
      "2.7 ms ± 81 μs per loop (mean ± std. dev. of 7 runs, 100 loops each)\n",
      "2.52 ms ± 62.3 μs per loop (mean ± std. dev. of 7 runs, 100 loops each)\n",
      "1 ms ± 13.5 μs per loop (mean ± std. dev. of 7 runs, 1,000 loops each)\n",
      "34.7 ms ± 1.9 ms per loop (mean ± std. dev. of 7 runs, 10 loops each)\n"
     ]
    }
   ],
   "source": [
    "%timeit np.isnan(ratings2)\n",
    "%timeit np.isnan(ratings2)\n",
    "%timeit np.isnan(ratings3)\n",
    "%timeit [[rating == None for rating in user] for user in ratings]"
   ]
  },
  {
   "cell_type": "code",
   "execution_count": 8,
   "metadata": {},
   "outputs": [
    {
     "name": "stdout",
     "output_type": "stream",
     "text": [
      "4.91 ms ± 69.9 μs per loop (mean ± std. dev. of 7 runs, 100 loops each)\n",
      "3.46 ms ± 46.3 μs per loop (mean ± std. dev. of 7 runs, 100 loops each)\n"
     ]
    }
   ],
   "source": [
    "%timeit ratings2[~np.isnan(ratings2)].mean()\n",
    "%timeit ratings3[~np.isnan(ratings3)].mean()"
   ]
  },
  {
   "cell_type": "code",
   "execution_count": 9,
   "metadata": {},
   "outputs": [],
   "source": [
    "ratings_np = ratings3\n",
    "test_ratings_np = np.asarray(test_ratings)\n",
    "test_ratings_np[test_ratings_np == None] = np.nan\n",
    "test_ratings_np = test_ratings_np.astype(np.float64)"
   ]
  },
  {
   "cell_type": "markdown",
   "metadata": {
    "id": "XjZYIAKu8KRC"
   },
   "source": [
    "Definimos también algunas funciones auxiliares que nos serán útiles:"
   ]
  },
  {
   "cell_type": "code",
   "execution_count": 10,
   "metadata": {},
   "outputs": [],
   "source": [
    "def rating_average_old(u):\n",
    "    acc = 0\n",
    "    count = 0\n",
    "\n",
    "    for i in range(NUM_ITEMS):\n",
    "        if ratings[u][i] != None:\n",
    "            acc += ratings[u][i]\n",
    "            count += 1\n",
    "\n",
    "    avg = acc / count\n",
    "\n",
    "    return avg\n"
   ]
  },
  {
   "cell_type": "code",
   "execution_count": 11,
   "metadata": {},
   "outputs": [],
   "source": [
    "def rating_average(u):\n",
    "    return ratings[u,:][~np.isnan(ratings[u,:])].mean()"
   ]
  },
  {
   "cell_type": "markdown",
   "metadata": {
    "id": "vWbGQlXq0Bqg"
   },
   "source": [
    "## Calculo de la similaridad\n",
    "\n",
    "El primer paso del algoritmo de KNN consiste en determinar el parecido de cada pareja de usuarios basándonos en las votaciones previas de dichos usuarios. Para calcular esta similaridad debemos tener presente que la matriz de votaciones es dispersa y, por lo tanto, parar comparar dos usuarios únicamente podremos emplear los votos sobre aquellos items que sean comunes a ambos usuarios.\n",
    "\n",
    "Por ejemplo, si un usuario *u* ha realizado las siguientes votaciones:\n",
    "\n",
    "|   \t| i1 \t| i2 \t| i3 \t| i4 \t| i5 \t| i6 \t| i7 \t| i8 \t| i9 \t| i10 \t|\n",
    "|:-:\t|:--:\t|:--:\t|:--:\t|:--:\t|:--:\t|:--:\t|:--:\t|:--:\t|:--:\t|-----\t|\n",
    "| u \t|  1 \t|  2 \t|    \t|  4 \t|  2 \t|    \t|  3 \t|    \t|   \t|   5  \t|\n",
    "\n",
    "Y un usuario *v* ha realizado las siguientes votaciones:\n",
    "\n",
    "|   \t| i1 \t| i2 \t| i3 \t| i4 \t| i5 \t| i6 \t| i7 \t| i8 \t| i9 \t| i10 \t|\n",
    "|:-:\t|:--:\t|:--:\t|:--:\t|:--:\t|:--:\t|:--:\t|:--:\t|:--:\t|:--:\t|-----\t|\n",
    "| v \t|  3 \t|   \t|  2  \t|   \t|  5 \t|  4  \t|  3 \t|  3  \t|   \t|  1 \t|\n",
    "\n",
    "Únicamente podremos comparar los votos producidos en los items *i1*, *i5*, *i7* e *i10*.\n",
    "\n",
    "Existen infinidad de métricas de similaridad que permiten conocer el parecido de dos usuarios en función de sus votos comunes. Las más tradicionales se basan en medidas estadísticas clásicas. Por ejemplo, una de las métricas más empleadas es la **correlación**:\n",
    "\n",
    "$$sim(u, v) = \\frac {\n",
    "    \\sum_{i \\in I_{u,v}} (r_{u,i} - \\bar{r}_u)(r_{v,i} - \\bar{r}_v)\n",
    "   }{\n",
    "   \\sqrt{ \\sum_{i \\in I_{u,v}} (r_{u,i} - \\bar{r}_u)^2 \\sum_{i \\in I_{u,v}} (r_{v,i} - \\bar{r}_v)^2 }\n",
    "   }$$\n",
    "   \n",
    "Donde $I_{u,v}$ representa los items que han votado tanto el usuario $u$ como el usuario $v$, $\\bar{r}_u$ representa la votación media del usuario $u$ y $\\bar{r}_v$ representa la votación media del usuario $v$."
   ]
  },
  {
   "cell_type": "markdown",
   "metadata": {
    "id": "qihZSD-P9Cj_"
   },
   "source": [
    "La implementación de esta función podríamos hacerla del siguiente modo:"
   ]
  },
  {
   "cell_type": "code",
   "execution_count": 12,
   "metadata": {},
   "outputs": [
    {
     "data": {
      "text/plain": [
       "array([[ 5.,  3.,  4., ..., nan, nan, nan],\n",
       "       [ 4., nan, nan, ..., nan, nan, nan],\n",
       "       [nan, nan, nan, ..., nan, nan, nan],\n",
       "       ...,\n",
       "       [ 5., nan, nan, ..., nan, nan, nan],\n",
       "       [nan, nan, nan, ..., nan, nan, nan],\n",
       "       [nan,  5., nan, ..., nan, nan, nan]])"
      ]
     },
     "execution_count": 12,
     "metadata": {},
     "output_type": "execute_result"
    }
   ],
   "source": [
    "ratings_np"
   ]
  },
  {
   "cell_type": "code",
   "execution_count": 23,
   "metadata": {},
   "outputs": [
    {
     "data": {
      "text/plain": [
       "{0,\n",
       " 1,\n",
       " 2,\n",
       " 3,\n",
       " 4,\n",
       " 5,\n",
       " 6,\n",
       " 7,\n",
       " 8,\n",
       " 9,\n",
       " 10,\n",
       " 11,\n",
       " 12,\n",
       " 13,\n",
       " 14,\n",
       " 15,\n",
       " 16,\n",
       " 17,\n",
       " 18,\n",
       " 19,\n",
       " 20,\n",
       " 21,\n",
       " 22,\n",
       " 23,\n",
       " 24,\n",
       " 25,\n",
       " 26,\n",
       " 27,\n",
       " 28,\n",
       " 29,\n",
       " 30,\n",
       " 31,\n",
       " 32,\n",
       " 33,\n",
       " 34,\n",
       " 35,\n",
       " 36,\n",
       " 37,\n",
       " 38,\n",
       " 39,\n",
       " 40,\n",
       " 41,\n",
       " 42,\n",
       " 43,\n",
       " 44,\n",
       " 45,\n",
       " 46,\n",
       " 47,\n",
       " 48,\n",
       " 49,\n",
       " 50,\n",
       " 51,\n",
       " 52,\n",
       " 53,\n",
       " 54,\n",
       " 55,\n",
       " 56,\n",
       " 57,\n",
       " 58,\n",
       " 59,\n",
       " 60,\n",
       " 61,\n",
       " 62,\n",
       " 63,\n",
       " 64,\n",
       " 65,\n",
       " 66,\n",
       " 67,\n",
       " 68,\n",
       " 69,\n",
       " 70,\n",
       " 71,\n",
       " 72,\n",
       " 73,\n",
       " 74,\n",
       " 75,\n",
       " 76,\n",
       " 77,\n",
       " 78,\n",
       " 79,\n",
       " 80,\n",
       " 81,\n",
       " 82,\n",
       " 83,\n",
       " 84,\n",
       " 85,\n",
       " 86,\n",
       " 87,\n",
       " 88,\n",
       " 89,\n",
       " 90,\n",
       " 91,\n",
       " 92,\n",
       " 93,\n",
       " 94,\n",
       " 95,\n",
       " 96,\n",
       " 97,\n",
       " 98,\n",
       " 99,\n",
       " 100,\n",
       " 101,\n",
       " 102,\n",
       " 103,\n",
       " 104,\n",
       " 105,\n",
       " 106,\n",
       " 107,\n",
       " 108,\n",
       " 109,\n",
       " 110,\n",
       " 111,\n",
       " 112,\n",
       " 113,\n",
       " 114,\n",
       " 115,\n",
       " 116,\n",
       " 117,\n",
       " 118,\n",
       " 119,\n",
       " 120,\n",
       " 121,\n",
       " 122,\n",
       " 123,\n",
       " 124,\n",
       " 125,\n",
       " 126,\n",
       " 127,\n",
       " 128,\n",
       " 129,\n",
       " 130,\n",
       " 131,\n",
       " 132,\n",
       " 133,\n",
       " 134,\n",
       " 135,\n",
       " 136,\n",
       " 137,\n",
       " 138,\n",
       " 139,\n",
       " 140,\n",
       " 141,\n",
       " 142,\n",
       " 143,\n",
       " 144,\n",
       " 145,\n",
       " 146,\n",
       " 147,\n",
       " 148,\n",
       " 149,\n",
       " 150,\n",
       " 151,\n",
       " 152,\n",
       " 153,\n",
       " 154,\n",
       " 155,\n",
       " 156,\n",
       " 157,\n",
       " 158,\n",
       " 159,\n",
       " 160,\n",
       " 161,\n",
       " 162,\n",
       " 163,\n",
       " 164,\n",
       " 165,\n",
       " 166,\n",
       " 167,\n",
       " 168,\n",
       " 169,\n",
       " 170,\n",
       " 171,\n",
       " 172,\n",
       " 173,\n",
       " 174,\n",
       " 175,\n",
       " 176,\n",
       " 177,\n",
       " 178,\n",
       " 179,\n",
       " 180,\n",
       " 181,\n",
       " 182,\n",
       " 183,\n",
       " 184,\n",
       " 185,\n",
       " 186,\n",
       " 187,\n",
       " 188,\n",
       " 189,\n",
       " 190,\n",
       " 191,\n",
       " 192,\n",
       " 193,\n",
       " 194,\n",
       " 195,\n",
       " 196,\n",
       " 197,\n",
       " 198,\n",
       " 199,\n",
       " 200,\n",
       " 201,\n",
       " 202,\n",
       " 203,\n",
       " 204,\n",
       " 205,\n",
       " 206,\n",
       " 207,\n",
       " 208,\n",
       " 209,\n",
       " 210,\n",
       " 211,\n",
       " 212,\n",
       " 213,\n",
       " 214,\n",
       " 215,\n",
       " 216,\n",
       " 217,\n",
       " 218,\n",
       " 219,\n",
       " 220,\n",
       " 221,\n",
       " 222,\n",
       " 223,\n",
       " 224,\n",
       " 225,\n",
       " 226,\n",
       " 227,\n",
       " 228,\n",
       " 229,\n",
       " 230,\n",
       " 231,\n",
       " 232,\n",
       " 233,\n",
       " 234,\n",
       " 235,\n",
       " 236,\n",
       " 237,\n",
       " 238,\n",
       " 239,\n",
       " 240,\n",
       " 241,\n",
       " 242,\n",
       " 243,\n",
       " 244,\n",
       " 245,\n",
       " 246,\n",
       " 247,\n",
       " 248,\n",
       " 249,\n",
       " 250,\n",
       " 251,\n",
       " 252,\n",
       " 253,\n",
       " 254,\n",
       " 255,\n",
       " 256,\n",
       " 257,\n",
       " 258,\n",
       " 259,\n",
       " 260,\n",
       " 261,\n",
       " 262,\n",
       " 263,\n",
       " 264,\n",
       " 265,\n",
       " 266,\n",
       " 267,\n",
       " 268,\n",
       " 269,\n",
       " 270,\n",
       " 271,\n",
       " 272,\n",
       " 273,\n",
       " 274,\n",
       " 275,\n",
       " 276,\n",
       " 277,\n",
       " 278,\n",
       " 279,\n",
       " 280,\n",
       " 281,\n",
       " 282,\n",
       " 283,\n",
       " 284,\n",
       " 285,\n",
       " 286,\n",
       " 287,\n",
       " 288,\n",
       " 289,\n",
       " 290,\n",
       " 291,\n",
       " 292,\n",
       " 293,\n",
       " 294,\n",
       " 295,\n",
       " 296,\n",
       " 297,\n",
       " 298,\n",
       " 299,\n",
       " 300,\n",
       " 301,\n",
       " 302,\n",
       " 303,\n",
       " 304,\n",
       " 305,\n",
       " 306,\n",
       " 307,\n",
       " 308,\n",
       " 309,\n",
       " 310,\n",
       " 311,\n",
       " 312,\n",
       " 313,\n",
       " 314,\n",
       " 315,\n",
       " 316,\n",
       " 317,\n",
       " 318,\n",
       " 319,\n",
       " 320,\n",
       " 321,\n",
       " 322,\n",
       " 323,\n",
       " 324,\n",
       " 325,\n",
       " 326,\n",
       " 327,\n",
       " 328,\n",
       " 329,\n",
       " 330,\n",
       " 331,\n",
       " 332,\n",
       " 333,\n",
       " 334,\n",
       " 335,\n",
       " 336,\n",
       " 337,\n",
       " 338,\n",
       " 339,\n",
       " 340,\n",
       " 341,\n",
       " 342,\n",
       " 343,\n",
       " 344,\n",
       " 345,\n",
       " 346,\n",
       " 347,\n",
       " 348,\n",
       " 349,\n",
       " 350,\n",
       " 351,\n",
       " 352,\n",
       " 353,\n",
       " 354,\n",
       " 355,\n",
       " 356,\n",
       " 357,\n",
       " 358,\n",
       " 359,\n",
       " 360,\n",
       " 361,\n",
       " 362,\n",
       " 363,\n",
       " 364,\n",
       " 365,\n",
       " 366,\n",
       " 367,\n",
       " 368,\n",
       " 369,\n",
       " 370,\n",
       " 371,\n",
       " 372,\n",
       " 373,\n",
       " 374,\n",
       " 375,\n",
       " 376,\n",
       " 377,\n",
       " 378,\n",
       " 379,\n",
       " 380,\n",
       " 381,\n",
       " 382,\n",
       " 383,\n",
       " 384,\n",
       " 385,\n",
       " 386,\n",
       " 387,\n",
       " 388,\n",
       " 389,\n",
       " 390,\n",
       " 391,\n",
       " 392,\n",
       " 393,\n",
       " 394,\n",
       " 395,\n",
       " 396,\n",
       " 397,\n",
       " 398,\n",
       " 399,\n",
       " 400,\n",
       " 401,\n",
       " 402,\n",
       " 403,\n",
       " 404,\n",
       " 405,\n",
       " 406,\n",
       " 407,\n",
       " 408,\n",
       " 409,\n",
       " 410,\n",
       " 411,\n",
       " 412,\n",
       " 413,\n",
       " 414,\n",
       " 415,\n",
       " 416,\n",
       " 417,\n",
       " 418,\n",
       " 419,\n",
       " 420,\n",
       " 421,\n",
       " 422,\n",
       " 423,\n",
       " 424,\n",
       " 425,\n",
       " 426,\n",
       " 427,\n",
       " 428,\n",
       " 429,\n",
       " 430,\n",
       " 431,\n",
       " 432,\n",
       " 433,\n",
       " 434,\n",
       " 435,\n",
       " 436,\n",
       " 437,\n",
       " 438,\n",
       " 439,\n",
       " 440,\n",
       " 441,\n",
       " 442,\n",
       " 443,\n",
       " 444,\n",
       " 445,\n",
       " 446,\n",
       " 447,\n",
       " 448,\n",
       " 449,\n",
       " 450,\n",
       " 451,\n",
       " 452,\n",
       " 453,\n",
       " 454,\n",
       " 455,\n",
       " 456,\n",
       " 457,\n",
       " 458,\n",
       " 459,\n",
       " 460,\n",
       " 461,\n",
       " 462,\n",
       " 463,\n",
       " 464,\n",
       " 465,\n",
       " 466,\n",
       " 467,\n",
       " 468,\n",
       " 469,\n",
       " 470,\n",
       " 471,\n",
       " 472,\n",
       " 473,\n",
       " 474,\n",
       " 475,\n",
       " 476,\n",
       " 477,\n",
       " 478,\n",
       " 479,\n",
       " 480,\n",
       " 481,\n",
       " 482,\n",
       " 483,\n",
       " 484,\n",
       " 485,\n",
       " 486,\n",
       " 487,\n",
       " 488,\n",
       " 489,\n",
       " 490,\n",
       " 491,\n",
       " 492,\n",
       " 493,\n",
       " 494,\n",
       " 495,\n",
       " 496,\n",
       " 497,\n",
       " 498,\n",
       " 499,\n",
       " 500,\n",
       " 501,\n",
       " 502,\n",
       " 503,\n",
       " 504,\n",
       " 505,\n",
       " 506,\n",
       " 507,\n",
       " 508,\n",
       " 509,\n",
       " 510,\n",
       " 511,\n",
       " 512,\n",
       " 513,\n",
       " 514,\n",
       " 515,\n",
       " 516,\n",
       " 517,\n",
       " 518,\n",
       " 519,\n",
       " 520,\n",
       " 521,\n",
       " 522,\n",
       " 523,\n",
       " 524,\n",
       " 525,\n",
       " 526,\n",
       " 527,\n",
       " 528,\n",
       " 529,\n",
       " 530,\n",
       " 531,\n",
       " 532,\n",
       " 533,\n",
       " 534,\n",
       " 535,\n",
       " 536,\n",
       " 537,\n",
       " 538,\n",
       " 539,\n",
       " 540,\n",
       " 541,\n",
       " 542,\n",
       " 543,\n",
       " 544,\n",
       " 545,\n",
       " 546,\n",
       " 547,\n",
       " 548,\n",
       " 549,\n",
       " 550,\n",
       " 551,\n",
       " 552,\n",
       " 553,\n",
       " 554,\n",
       " 555,\n",
       " 556,\n",
       " 557,\n",
       " 558,\n",
       " 559,\n",
       " 560,\n",
       " 561,\n",
       " 562,\n",
       " 563,\n",
       " 564,\n",
       " 565,\n",
       " 566,\n",
       " 567,\n",
       " 568,\n",
       " 569,\n",
       " 570,\n",
       " 571,\n",
       " 572,\n",
       " 573,\n",
       " 574,\n",
       " 575,\n",
       " 576,\n",
       " 577,\n",
       " 578,\n",
       " 579,\n",
       " 580,\n",
       " 581,\n",
       " 582,\n",
       " 583,\n",
       " 584,\n",
       " 585,\n",
       " 586,\n",
       " 587,\n",
       " 588,\n",
       " 589,\n",
       " 590,\n",
       " 591,\n",
       " 592,\n",
       " 593,\n",
       " 594,\n",
       " 595,\n",
       " 596,\n",
       " 597,\n",
       " 598,\n",
       " 599,\n",
       " 600,\n",
       " 601,\n",
       " 602,\n",
       " 603,\n",
       " 604,\n",
       " 605,\n",
       " 606,\n",
       " 607,\n",
       " 608,\n",
       " 609,\n",
       " 610,\n",
       " 611,\n",
       " 612,\n",
       " 613,\n",
       " 614,\n",
       " 615,\n",
       " 616,\n",
       " 617,\n",
       " 618,\n",
       " 619,\n",
       " 620,\n",
       " 621,\n",
       " 622,\n",
       " 623,\n",
       " 624,\n",
       " 625,\n",
       " 626,\n",
       " 627,\n",
       " 628,\n",
       " 629,\n",
       " 630,\n",
       " 631,\n",
       " 632,\n",
       " 633,\n",
       " 634,\n",
       " 635,\n",
       " 636,\n",
       " 637,\n",
       " 638,\n",
       " 639,\n",
       " 640,\n",
       " 641,\n",
       " 642,\n",
       " 643,\n",
       " 644,\n",
       " 645,\n",
       " 646,\n",
       " 647,\n",
       " 648,\n",
       " 649,\n",
       " 650,\n",
       " 651,\n",
       " 652,\n",
       " 653,\n",
       " 654,\n",
       " 655,\n",
       " 656,\n",
       " 657,\n",
       " 658,\n",
       " 659,\n",
       " 660,\n",
       " 661,\n",
       " 662,\n",
       " 663,\n",
       " 664,\n",
       " 665,\n",
       " 666,\n",
       " 667,\n",
       " 668,\n",
       " 669,\n",
       " 670,\n",
       " 671,\n",
       " 672,\n",
       " 673,\n",
       " 674,\n",
       " 675,\n",
       " 676,\n",
       " 677,\n",
       " 678,\n",
       " 679,\n",
       " 680,\n",
       " 681,\n",
       " 682,\n",
       " 683,\n",
       " 684,\n",
       " 685,\n",
       " 686,\n",
       " 687,\n",
       " 688,\n",
       " 689,\n",
       " 690,\n",
       " 691,\n",
       " 692,\n",
       " 693,\n",
       " 694,\n",
       " 695,\n",
       " 696,\n",
       " 697,\n",
       " 698,\n",
       " 699,\n",
       " 700,\n",
       " 701,\n",
       " 702,\n",
       " 703,\n",
       " 704,\n",
       " 705,\n",
       " 706,\n",
       " 707,\n",
       " 708,\n",
       " 709,\n",
       " 710,\n",
       " 711,\n",
       " 712,\n",
       " 713,\n",
       " 714,\n",
       " 715,\n",
       " 716,\n",
       " 717,\n",
       " 718,\n",
       " 719,\n",
       " 720,\n",
       " 721,\n",
       " 722,\n",
       " 723,\n",
       " 724,\n",
       " 725,\n",
       " 726,\n",
       " 727,\n",
       " 728,\n",
       " 729,\n",
       " 730,\n",
       " 731,\n",
       " 732,\n",
       " 733,\n",
       " 734,\n",
       " 735,\n",
       " 736,\n",
       " 737,\n",
       " 738,\n",
       " 739,\n",
       " 740,\n",
       " 741,\n",
       " 742,\n",
       " 743,\n",
       " 744,\n",
       " 745,\n",
       " 746,\n",
       " 747,\n",
       " 748,\n",
       " 749,\n",
       " 750,\n",
       " 751,\n",
       " 752,\n",
       " 753,\n",
       " 754,\n",
       " 755,\n",
       " 756,\n",
       " 757,\n",
       " 758,\n",
       " 759,\n",
       " 760,\n",
       " 761,\n",
       " 762,\n",
       " 763,\n",
       " 764,\n",
       " 765,\n",
       " 766,\n",
       " 767,\n",
       " 768,\n",
       " 769,\n",
       " 770,\n",
       " 771,\n",
       " 772,\n",
       " 773,\n",
       " 774,\n",
       " 775,\n",
       " 776,\n",
       " 777,\n",
       " 778,\n",
       " 779,\n",
       " 780,\n",
       " 781,\n",
       " 782,\n",
       " 783,\n",
       " 784,\n",
       " 785,\n",
       " 786,\n",
       " 787,\n",
       " 788,\n",
       " 789,\n",
       " 790,\n",
       " 791,\n",
       " 792,\n",
       " 793,\n",
       " 794,\n",
       " 795,\n",
       " 796,\n",
       " 797,\n",
       " 798,\n",
       " 799,\n",
       " 800,\n",
       " 801,\n",
       " 802,\n",
       " 803,\n",
       " 804,\n",
       " 805,\n",
       " 806,\n",
       " 807,\n",
       " 808,\n",
       " 809,\n",
       " 810,\n",
       " 811,\n",
       " 812,\n",
       " 813,\n",
       " 814,\n",
       " 815,\n",
       " 816,\n",
       " 817,\n",
       " 818,\n",
       " 819,\n",
       " 820,\n",
       " 821,\n",
       " 822,\n",
       " 823,\n",
       " 824,\n",
       " 825,\n",
       " 826,\n",
       " 827,\n",
       " 828,\n",
       " 829,\n",
       " 830,\n",
       " 831,\n",
       " 832,\n",
       " 833,\n",
       " 834,\n",
       " 835,\n",
       " 836,\n",
       " 837,\n",
       " 838,\n",
       " 839,\n",
       " 840,\n",
       " 841,\n",
       " 842,\n",
       " 843,\n",
       " 844,\n",
       " 845,\n",
       " 846,\n",
       " 847,\n",
       " 848,\n",
       " 849,\n",
       " 850,\n",
       " 851,\n",
       " 852,\n",
       " 853,\n",
       " 854,\n",
       " 855,\n",
       " 856,\n",
       " 857,\n",
       " 858,\n",
       " 859,\n",
       " 860,\n",
       " 861,\n",
       " 862,\n",
       " 863,\n",
       " 864,\n",
       " 865,\n",
       " 866,\n",
       " 867,\n",
       " 868,\n",
       " 869,\n",
       " 870,\n",
       " 871,\n",
       " 872,\n",
       " 873,\n",
       " 874,\n",
       " 875,\n",
       " 876,\n",
       " 877,\n",
       " 878,\n",
       " 879,\n",
       " 880,\n",
       " 881,\n",
       " 882,\n",
       " 883,\n",
       " 884,\n",
       " 885,\n",
       " 886,\n",
       " 887,\n",
       " 888,\n",
       " 889,\n",
       " 890,\n",
       " 891,\n",
       " 892,\n",
       " 893,\n",
       " 894,\n",
       " 895,\n",
       " 896,\n",
       " 897,\n",
       " 898,\n",
       " 899,\n",
       " 900,\n",
       " 901,\n",
       " 902,\n",
       " 903,\n",
       " 904,\n",
       " 905,\n",
       " 906,\n",
       " 907,\n",
       " 908,\n",
       " 909,\n",
       " 910,\n",
       " 911,\n",
       " 912,\n",
       " 913,\n",
       " 914,\n",
       " 915,\n",
       " 916,\n",
       " 917,\n",
       " 918,\n",
       " 919,\n",
       " 920,\n",
       " 921,\n",
       " 922,\n",
       " 923,\n",
       " 924,\n",
       " 925,\n",
       " 926,\n",
       " 927,\n",
       " 928,\n",
       " 929,\n",
       " 930,\n",
       " 931,\n",
       " 932,\n",
       " 933,\n",
       " 934,\n",
       " 935,\n",
       " 936,\n",
       " 937,\n",
       " 938,\n",
       " 939,\n",
       " 940,\n",
       " 941,\n",
       " 942}"
      ]
     },
     "execution_count": 23,
     "metadata": {},
     "output_type": "execute_result"
    }
   ],
   "source": [
    "set(np.arange(ratings_np.shape[0])[~np.isnan(ratings_np).all(axis=1)])"
   ]
  },
  {
   "cell_type": "code",
   "execution_count": 30,
   "metadata": {},
   "outputs": [
    {
     "data": {
      "text/plain": [
       "2"
      ]
     },
     "execution_count": 30,
     "metadata": {},
     "output_type": "execute_result"
    }
   ],
   "source": [
    "ratings_np.ndim"
   ]
  },
  {
   "cell_type": "code",
   "execution_count": 57,
   "metadata": {},
   "outputs": [
    {
     "data": {
      "text/plain": [
       "[0,\n",
       " 1,\n",
       " 2,\n",
       " 3,\n",
       " 4,\n",
       " 5,\n",
       " 6,\n",
       " 7,\n",
       " 8,\n",
       " 9,\n",
       " 10,\n",
       " 11,\n",
       " 12,\n",
       " 13,\n",
       " 14,\n",
       " 15,\n",
       " 16,\n",
       " 17,\n",
       " 18,\n",
       " 19,\n",
       " 20,\n",
       " 21,\n",
       " 22,\n",
       " 23,\n",
       " 24,\n",
       " 25,\n",
       " 26,\n",
       " 27,\n",
       " 28,\n",
       " 29,\n",
       " 30,\n",
       " 31,\n",
       " 32,\n",
       " 33,\n",
       " 34,\n",
       " 35,\n",
       " 36,\n",
       " 37,\n",
       " 38,\n",
       " 39,\n",
       " 40,\n",
       " 41,\n",
       " 42,\n",
       " 43,\n",
       " 44,\n",
       " 45,\n",
       " 46,\n",
       " 47,\n",
       " 48,\n",
       " 49,\n",
       " 50,\n",
       " 51,\n",
       " 52,\n",
       " 53,\n",
       " 54,\n",
       " 55,\n",
       " 56,\n",
       " 57,\n",
       " 58,\n",
       " 59,\n",
       " 60,\n",
       " 61,\n",
       " 62,\n",
       " 63,\n",
       " 64,\n",
       " 65,\n",
       " 66,\n",
       " 67,\n",
       " 68,\n",
       " 69,\n",
       " 70,\n",
       " 71,\n",
       " 72,\n",
       " 73,\n",
       " 74,\n",
       " 75,\n",
       " 76,\n",
       " 77,\n",
       " 78,\n",
       " 79,\n",
       " 80,\n",
       " 81,\n",
       " 82,\n",
       " 83,\n",
       " 84,\n",
       " 85,\n",
       " 86,\n",
       " 87,\n",
       " 88,\n",
       " 89,\n",
       " 90,\n",
       " 91,\n",
       " 92,\n",
       " 93,\n",
       " 94,\n",
       " 95,\n",
       " 96,\n",
       " 97,\n",
       " 98,\n",
       " 99,\n",
       " 100,\n",
       " 101,\n",
       " 102,\n",
       " 103,\n",
       " 104,\n",
       " 105,\n",
       " 106,\n",
       " 107,\n",
       " 108,\n",
       " 109,\n",
       " 110,\n",
       " 111,\n",
       " 112,\n",
       " 113,\n",
       " 114,\n",
       " 115,\n",
       " 116,\n",
       " 117,\n",
       " 118,\n",
       " 119,\n",
       " 120,\n",
       " 121,\n",
       " 122,\n",
       " 123,\n",
       " 124,\n",
       " 125,\n",
       " 126,\n",
       " 127,\n",
       " 128,\n",
       " 129,\n",
       " 130,\n",
       " 131,\n",
       " 132,\n",
       " 133,\n",
       " 134,\n",
       " 135,\n",
       " 136,\n",
       " 137,\n",
       " 138,\n",
       " 139,\n",
       " 140,\n",
       " 141,\n",
       " 142,\n",
       " 143,\n",
       " 144,\n",
       " 145,\n",
       " 146,\n",
       " 147,\n",
       " 148,\n",
       " 149,\n",
       " 150,\n",
       " 151,\n",
       " 152,\n",
       " 153,\n",
       " 154,\n",
       " 155,\n",
       " 156,\n",
       " 157,\n",
       " 158,\n",
       " 159,\n",
       " 160,\n",
       " 161,\n",
       " 162,\n",
       " 163,\n",
       " 164,\n",
       " 165,\n",
       " 166,\n",
       " 167,\n",
       " 168,\n",
       " 169,\n",
       " 170,\n",
       " 171,\n",
       " 172,\n",
       " 173,\n",
       " 174,\n",
       " 175,\n",
       " 176,\n",
       " 177,\n",
       " 178,\n",
       " 179,\n",
       " 180,\n",
       " 181,\n",
       " 182,\n",
       " 183,\n",
       " 184,\n",
       " 185,\n",
       " 186,\n",
       " 187,\n",
       " 188,\n",
       " 189,\n",
       " 190,\n",
       " 191,\n",
       " 192,\n",
       " 193,\n",
       " 194,\n",
       " 195,\n",
       " 196,\n",
       " 197,\n",
       " 198,\n",
       " 199,\n",
       " 200,\n",
       " 201,\n",
       " 202,\n",
       " 203,\n",
       " 204,\n",
       " 205,\n",
       " 206,\n",
       " 207,\n",
       " 208,\n",
       " 209,\n",
       " 210,\n",
       " 211,\n",
       " 212,\n",
       " 213,\n",
       " 214,\n",
       " 215,\n",
       " 216,\n",
       " 217,\n",
       " 218,\n",
       " 219,\n",
       " 220,\n",
       " 221,\n",
       " 222,\n",
       " 223,\n",
       " 224,\n",
       " 225,\n",
       " 226,\n",
       " 227,\n",
       " 228,\n",
       " 229,\n",
       " 230,\n",
       " 231,\n",
       " 232,\n",
       " 233,\n",
       " 234,\n",
       " 235,\n",
       " 236,\n",
       " 237,\n",
       " 238,\n",
       " 239,\n",
       " 240,\n",
       " 241,\n",
       " 242,\n",
       " 243,\n",
       " 244,\n",
       " 245,\n",
       " 246,\n",
       " 247,\n",
       " 248,\n",
       " 249,\n",
       " 250,\n",
       " 251,\n",
       " 252,\n",
       " 253,\n",
       " 254,\n",
       " 255,\n",
       " 256,\n",
       " 257,\n",
       " 258,\n",
       " 259,\n",
       " 260,\n",
       " 261,\n",
       " 262,\n",
       " 263,\n",
       " 264,\n",
       " 265,\n",
       " 266,\n",
       " 267,\n",
       " 268,\n",
       " 269,\n",
       " 270,\n",
       " 271]"
      ]
     },
     "execution_count": 57,
     "metadata": {},
     "output_type": "execute_result"
    }
   ],
   "source": [
    "data = ratings_np[0]\n",
    "[*np.arange(data.shape[0])[~np.isnan(data).all(axis=tuple(range(1, data.ndim)))]]"
   ]
  },
  {
   "cell_type": "code",
   "execution_count": 47,
   "metadata": {},
   "outputs": [
    {
     "data": {
      "text/plain": [
       "array([[   0,    1,    2, ..., 1679, 1680, 1681]])"
      ]
     },
     "execution_count": 47,
     "metadata": {},
     "output_type": "execute_result"
    }
   ],
   "source": [
    "np.arange(data.shape[0])[~np.isnan(data).all(axis=-1)]"
   ]
  },
  {
   "cell_type": "code",
   "execution_count": null,
   "metadata": {},
   "outputs": [
    {
     "data": {
      "text/plain": [
       "5.199999999999999"
      ]
     },
     "execution_count": 73,
     "metadata": {},
     "output_type": "execute_result"
    }
   ],
   "source": [
    "class CustomNanSparse:\n",
    "    def __init__(self, data: np.ndarray):\n",
    "        valid_values = [*np.arange(data.shape[0])[~np.isnan(data).all(axis=tuple(range(1, data.ndim)))]]\n",
    "        self._where = dict(zip(valid_values, range(len(valid_values))))   \n",
    "        if data.ndim == 1:\n",
    "            self._data = data[valid_values]\n",
    "            return         \n",
    "        self._data = [CustomNanSparse(data[i]) for i in valid_values]\n",
    "        self.ndim = data.ndim\n",
    "        \n",
    "    def __getitem__(self, key):\n",
    "        if isinstance(key, tuple):\n",
    "            return self._data[key[0]][key[1]]\n",
    "        if key in self._where:\n",
    "            return self._data[self._where[key]]\n",
    "        else:\n",
    "            raise KeyError(f\"Key {key} not found in sparse data.\")\n",
    "        \n",
    "    def __setitem__(self, key, value):\n",
    "        if isinstance(key, tuple):\n",
    "            self._data[key[0]][key[1]] = value\n",
    "            return\n",
    "        if key in self._where:\n",
    "            self._data[self._where[key]] = value\n",
    "        else:\n",
    "            raise KeyError(f\"Key {key} not found in sparse data.\")\n",
    "        \n",
    "    def __add__(self, other):\n",
    "        assert self.ndim == other.ndim, \"Dimensions must match for addition.\"\n",
    "        if self.ndim == 1:\n",
    "            result = []\n",
    "            for i in self.where & other.where:\n",
    "                result.append(self._data[i] + other._data[i])\n",
    "            return CustomNanSparse(np.array(result))\n",
    "        \n",
    "        if isinstance(other, CustomNanSparse):\n",
    "            intersection = self.where\n",
    "            for i in self.where & other.where:\n",
    "                self._data[i] += other._data[i]\n",
    "            for i in self.where - other.where:\n",
    "                self\n",
    "                self._data[i] += 0\n",
    "        else:\n",
    "            raise TypeError(f\"Unsupported type for addition: {type(other)}\")\n",
    "        \n",
    "\n",
    "a = CustomNanSparse(ratings_np)\n",
    "a[0][0] = 5.1\n",
    "a[0,0] += 0.1\n",
    "a[0,0]\n"
   ]
  },
  {
   "cell_type": "code",
   "execution_count": 76,
   "metadata": {},
   "outputs": [
    {
     "data": {
      "text/plain": [
       "set()"
      ]
     },
     "execution_count": 76,
     "metadata": {},
     "output_type": "execute_result"
    }
   ],
   "source": [
    "set([1]) & set([2])"
   ]
  },
  {
   "cell_type": "code",
   "execution_count": 68,
   "metadata": {},
   "outputs": [
    {
     "data": {
      "text/plain": [
       "array([[ 5.,  3.,  4., ..., nan, nan, nan],\n",
       "       [ 4., nan, nan, ..., nan, nan, nan],\n",
       "       [nan, nan, nan, ..., nan, nan, nan],\n",
       "       ...,\n",
       "       [ 5., nan, nan, ..., nan, nan, nan],\n",
       "       [nan, nan, nan, ..., nan, nan, nan],\n",
       "       [nan,  5., nan, ..., nan, nan, nan]])"
      ]
     },
     "execution_count": 68,
     "metadata": {},
     "output_type": "execute_result"
    }
   ],
   "source": [
    "ratings_np"
   ]
  },
  {
   "cell_type": "code",
   "execution_count": 95,
   "metadata": {},
   "outputs": [],
   "source": [
    "def correlation_similarity_old(u, v):\n",
    "    num = 0\n",
    "\n",
    "    den_u = 0\n",
    "    den_v = 0\n",
    "\n",
    "    count = 0\n",
    "\n",
    "    avg_u = rating_average_old(u)\n",
    "    avg_v = rating_average_old(v)\n",
    "\n",
    "    for i in range(NUM_ITEMS):\n",
    "        if ratings[u][i] != None and ratings[v][i] != None:\n",
    "            r_u = ratings[u][i]\n",
    "            r_v = ratings[v][i]\n",
    "\n",
    "            num += (r_u - avg_u) * (r_v - avg_v)\n",
    "            den_u += (r_u - avg_u) * (r_u - avg_u)\n",
    "            den_v += (r_v - avg_v) * (r_v - avg_v)\n",
    "\n",
    "            count += 1\n",
    "\n",
    "    if count > 0 and den_u != 0 and den_v != 0:\n",
    "        cor = num / math.sqrt( den_u * den_v )\n",
    "        return cor;\n",
    "    else:\n",
    "        return None"
   ]
  },
  {
   "cell_type": "code",
   "execution_count": 96,
   "metadata": {},
   "outputs": [
    {
     "name": "stdout",
     "output_type": "stream",
     "text": [
      "786 μs ± 24.7 μs per loop (mean ± std. dev. of 7 runs, 1,000 loops each)\n",
      "773 μs ± 46.5 μs per loop (mean ± std. dev. of 7 runs, 1,000 loops each)\n",
      "602 μs ± 44.6 μs per loop (mean ± std. dev. of 7 runs, 1,000 loops each)\n"
     ]
    }
   ],
   "source": [
    "%timeit correlation_similarity_old(5,940)\n",
    "%timeit correlation_similarity_old(113,534)\n",
    "%timeit correlation_similarity_old(92,355)"
   ]
  },
  {
   "cell_type": "code",
   "execution_count": 529,
   "metadata": {
    "id": "r-mByaHh86np"
   },
   "outputs": [],
   "source": [
    "def correlation_similarity(u, v):\n",
    "    ratings_u = ratings_np[u]\n",
    "    ratings_v = ratings_np[v]\n",
    "\n",
    "    u_valid = ~np.isnan(ratings_u)\n",
    "    v_valid = ~np.isnan(ratings_v)\n",
    "    both_valid = u_valid & v_valid\n",
    "\n",
    "    u_mean = ratings_u[u_valid].mean()\n",
    "    v_mean = ratings_v[v_valid].mean()\n",
    "\n",
    "    ratings_u = ratings_u[both_valid]\n",
    "    if len(ratings_u) == 0:\n",
    "        return np.nan\n",
    "    ratings_v = ratings_v[both_valid]\n",
    "\n",
    "    u_error = ratings_u - u_mean\n",
    "    v_error = ratings_v - v_mean\n",
    "    denominator = np.sqrt((u_error**2).sum() * (v_error**2).sum())\n",
    "    if denominator == 0:\n",
    "        return np.nan\n",
    "    \n",
    "    return (u_error * v_error).sum()/denominator"
   ]
  },
  {
   "cell_type": "code",
   "execution_count": 531,
   "metadata": {},
   "outputs": [
    {
     "name": "stdout",
     "output_type": "stream",
     "text": [
      "72.6 μs ± 2.41 μs per loop (mean ± std. dev. of 7 runs, 10,000 loops each)\n",
      "79.8 μs ± 3.94 μs per loop (mean ± std. dev. of 7 runs, 10,000 loops each)\n",
      "37.9 μs ± 1.69 μs per loop (mean ± std. dev. of 7 runs, 10,000 loops each)\n"
     ]
    }
   ],
   "source": [
    "%timeit correlation_similarity(5,940)\n",
    "%timeit correlation_similarity(113,534)\n",
    "%timeit correlation_similarity(92,355)"
   ]
  },
  {
   "cell_type": "code",
   "execution_count": 102,
   "metadata": {
    "id": "PkogRQ6bERs4"
   },
   "outputs": [
    {
     "name": "stdout",
     "output_type": "stream",
     "text": [
      "0.010617834767124239\n",
      "-0.08282165590325245\n",
      "None\n",
      "\n",
      "0.010617834767124239\n",
      "-0.08282165590325251\n",
      "None\n"
     ]
    }
   ],
   "source": [
    "# Testing\n",
    "print(correlation_similarity_old(5,940))\n",
    "print(correlation_similarity_old(113,534))\n",
    "print(correlation_similarity_old(92,355))\n",
    "print()\n",
    "print(correlation_similarity(5,940))\n",
    "print(correlation_similarity(113,534)) # Es incluso más preciso (aunque la diferencia no es significativa)\n",
    "print(correlation_similarity(92,355))"
   ]
  },
  {
   "cell_type": "code",
   "execution_count": 208,
   "metadata": {},
   "outputs": [
    {
     "data": {
      "text/plain": [
       "(0.0, nan)"
      ]
     },
     "execution_count": 208,
     "metadata": {},
     "output_type": "execute_result"
    }
   ],
   "source": [
    "user1 = np.array([5, np.nan])\n",
    "user2 = np.array([np.nan, 4])\n",
    "intersection = np.array([False, False])\n",
    "(user1 * user2).sum(where=intersection), 1/np.nan"
   ]
  },
  {
   "cell_type": "code",
   "execution_count": 532,
   "metadata": {},
   "outputs": [],
   "source": [
    "def correlation_similarities(u):\n",
    "    all_ratings = ratings_np.copy()\n",
    "    valids = ~np.isnan(all_ratings)\n",
    "    intersections = valids[u] & valids\n",
    "    \n",
    "    means = all_ratings.mean(axis=1, where=valids)\n",
    "    errors = all_ratings - means[:, np.newaxis]\n",
    "    numerator = (errors * errors[u]).sum(axis=1, where=intersections)\n",
    "    denominator = np.sqrt(\n",
    "        (errors**2).sum(axis=1, where=intersections)\n",
    "        *\n",
    "        (np.broadcast_to(errors[u], all_ratings.shape)**2).sum(axis=1, where=intersections)\n",
    "    )\n",
    "        \n",
    "    denominator[denominator == 0] = np.nan\n",
    "    similarities = numerator / denominator\n",
    "    similarities[u] = np.nan\n",
    "    return similarities"
   ]
  },
  {
   "cell_type": "code",
   "execution_count": 533,
   "metadata": {},
   "outputs": [
    {
     "name": "stdout",
     "output_type": "stream",
     "text": [
      "52.1 ms ± 2 ms per loop (mean ± std. dev. of 7 runs, 20 loops each)\n",
      "52.7 ms ± 1.28 ms per loop (mean ± std. dev. of 7 runs, 20 loops each)\n",
      "73.6 ms ± 1.34 ms per loop (mean ± std. dev. of 7 runs, 20 loops each)\n"
     ]
    }
   ],
   "source": [
    "u = 5\n",
    "%timeit -n 20 correlation_similarities(u)\n",
    "%timeit -n 20 correlation_similarities(u)\n",
    "%timeit -n 20 [None if u == v else correlation_similarity(u, v) for v in range(NUM_USERS)]"
   ]
  },
  {
   "cell_type": "markdown",
   "metadata": {
    "id": "Tw-ss9cT-ryZ"
   },
   "source": [
    "Aunque las métricas de similaridad basadas en medidas estadísticas clásicas ofrecen valores \"aceptables\" para el método de los *k* vecinos, existen otras métricas de similaridad específicas para el dominio del filtrado colaborativo. Una de las más populares es **JMSD** que permite calcular la similaridad atendiendo a dos factores: la información no numérica de los votos y la información numérica de los mismos. *JMSD* se define como el producto del índice de Jaccard por la diferencia cuadrática media:\n",
    "\n",
    "$$JMSD(u,v) = Jaccard(u,v) * (1 - MSD(u, v))$$\n",
    "\n",
    "El *índice de Jaccard* es una medida que permite comparar la similitud de dos conjuntos. En este caso se emplea para comprobar si los items votados por ambos usuarios coinciden, independientemente de la votación:\n",
    "\n",
    "$$Jaccard(u,v) =\\frac {I_u \\cap I_v} {I_u \\cup I_v} = \\frac {\\# \\{ i \\in I | r_{u,i} \\neq \\bullet \\wedge r_{v,i} \\neq \\bullet \\}} {\\# \\{ i \\in I | r_{u,i} \\neq \\bullet \\vee r_{v,i} \\neq \\bullet \\}}$$\n",
    "\n",
    "Donde $I_u$ representa los items votados por el usuario $u$ e $I_v$ representa los items votados por el usuario $v$.\n",
    "\n",
    "El *MSD* permite comparar si los usuarios tienen la misma opinión sobre los items que votaron en común. En este caso, el *MSD* retorna el valor 0 cuando los usuarios votaron idéntico, por lo que suele invertirse para lograr que cuanto más se parezcan dos usuarios, mayor sea su similaridad. Para esto, es necesario normalizar previamente las votaciones:\n",
    "\n",
    "$$MSD(u,v) = \\frac {1} {\\#I_{u,v}} \\sum_{i \\in I_{u,v}} (r_{u,i} - r_{v,i})^2$$\n",
    "\n",
    "Donde $I_{u,v}$ representa los items votados en común por $u$ y $v$.\n",
    "\n",
    "Esta medida busca un equilibrio entre los items que los dos usuarios han votado y lo parecidas que son estas votaciones."
   ]
  },
  {
   "cell_type": "markdown",
   "metadata": {
    "id": "YGDVaMakQvqZ"
   },
   "source": [
    "La implementación de esta función podríamos hacerla del siguiente modo:"
   ]
  },
  {
   "cell_type": "code",
   "execution_count": 103,
   "metadata": {},
   "outputs": [],
   "source": [
    "def jmsd_similarity_old(u, v):\n",
    "\n",
    "    union = 0\n",
    "    intersection = 0\n",
    "    diff = 0\n",
    "\n",
    "    for i in range(NUM_ITEMS):\n",
    "        if ratings[u][i] != None and ratings[v][i] != None:\n",
    "            r_u = (ratings[u][i] - MIN_RATING) / (MAX_RATING - MIN_RATING)\n",
    "            r_v = (ratings[v][i] - MIN_RATING) / (MAX_RATING - MIN_RATING)\n",
    "\n",
    "            diff = (r_u - r_v) * (r_u - r_v)\n",
    "\n",
    "            intersection += 1\n",
    "            union += 1\n",
    "\n",
    "        elif ratings[u][i] != None or ratings[v][i] != None:\n",
    "            union += 1\n",
    "\n",
    "\n",
    "    if intersection > 0:\n",
    "        jaccard = intersection / union\n",
    "        msd = diff / intersection\n",
    "        return jaccard * (1 - msd);\n",
    "    else:\n",
    "        return None"
   ]
  },
  {
   "cell_type": "code",
   "execution_count": 104,
   "metadata": {},
   "outputs": [
    {
     "name": "stdout",
     "output_type": "stream",
     "text": [
      "538 μs ± 32.1 μs per loop (mean ± std. dev. of 7 runs, 1,000 loops each)\n",
      "535 μs ± 33 μs per loop (mean ± std. dev. of 7 runs, 1,000 loops each)\n",
      "431 μs ± 58.9 μs per loop (mean ± std. dev. of 7 runs, 1,000 loops each)\n"
     ]
    }
   ],
   "source": [
    "%timeit jmsd_similarity_old(5,940)\n",
    "%timeit jmsd_similarity_old(113,534)\n",
    "%timeit jmsd_similarity_old(92,355)"
   ]
  },
  {
   "cell_type": "code",
   "execution_count": null,
   "metadata": {},
   "outputs": [],
   "source": [
    "def jmsd_similarity(u, v):\n",
    "    ratings_u = ratings_np[u]\n",
    "    ratings_v = ratings_np[v]\n",
    "\n",
    "    valid_u = ~np.isnan(ratings_u)\n",
    "    valid_v = ~np.isnan(ratings_v)\n",
    "\n",
    "    union_size = (valid_u | valid_v).sum()\n",
    "    intersection = valid_u & valid_v\n",
    "    intersection_size = intersection.sum()\n",
    "\n",
    "    if intersection_size == 0:\n",
    "        return np.nan\n",
    "    jaccard_similiarty = intersection_size/union_size\n",
    "    \n",
    "    ratings_u = ratings_u[intersection]\n",
    "    ratings_v = ratings_v[intersection]\n",
    "    \n",
    "    ratings_u = (ratings_u - MIN_RATING) / (MAX_RATING - MIN_RATING)\n",
    "    ratings_v = (ratings_v - MIN_RATING) / (MAX_RATING - MIN_RATING)\n",
    "\n",
    "    return jaccard_similiarty * (1 - ((ratings_u - ratings_v)**2).mean())"
   ]
  },
  {
   "cell_type": "code",
   "execution_count": 108,
   "metadata": {},
   "outputs": [
    {
     "name": "stdout",
     "output_type": "stream",
     "text": [
      "67 μs ± 1.92 μs per loop (mean ± std. dev. of 7 runs, 10,000 loops each)\n",
      "67.9 μs ± 2.52 μs per loop (mean ± std. dev. of 7 runs, 10,000 loops each)\n",
      "28.9 μs ± 2.11 μs per loop (mean ± std. dev. of 7 runs, 10,000 loops each)\n"
     ]
    }
   ],
   "source": [
    "%timeit jmsd_similarity(5,940)\n",
    "%timeit jmsd_similarity(113,534)\n",
    "%timeit jmsd_similarity(92,355)"
   ]
  },
  {
   "cell_type": "code",
   "execution_count": 109,
   "metadata": {
    "id": "AIOQNSp9H7H7"
   },
   "outputs": [
    {
     "name": "stdout",
     "output_type": "stream",
     "text": [
      "0.049268018018018014\n",
      "0.12685381355932204\n",
      "None\n",
      "\n",
      "0.04025900900900901\n",
      "0.1138771186440678\n",
      "None\n"
     ]
    }
   ],
   "source": [
    "# Testing\n",
    "print(jmsd_similarity_old(5,940))\n",
    "print(jmsd_similarity_old(113,534))\n",
    "print(jmsd_similarity_old(92,355))\n",
    "print()\n",
    "print(jmsd_similarity(5,940))\n",
    "print(jmsd_similarity(113,534))\n",
    "print(jmsd_similarity(92,355))"
   ]
  },
  {
   "cell_type": "code",
   "execution_count": null,
   "metadata": {},
   "outputs": [],
   "source": [
    "def jmsd_similarities(u):\n",
    "    all_ratings = ratings_np.copy()\n",
    "\n",
    "    # valid_u = ratings_u != None\n",
    "    valids = ~np.isnan(all_ratings)\n",
    "    union_sizes = (valids[u] | valids).sum(axis=1)\n",
    "    intersections = valids[u] & valids\n",
    "    intersection_sizes = intersections.sum(axis=1, dtype=np.float64)\n",
    "    intersection_sizes[intersection_sizes == 0] = np.nan\n",
    "    \n",
    "    jaccard_similiarties = intersection_sizes/union_sizes\n",
    "\n",
    "    all_ratings[intersections] = (all_ratings[intersections] - MIN_RATING) / (MAX_RATING - MIN_RATING)\n",
    "    all_ratings[intersections] = ((np.broadcast_to(all_ratings[u], all_ratings.shape)[intersections] - all_ratings[intersections])**2)\n",
    "    all_ratings[~intersections] = 0\n",
    "    similarities = jaccard_similiarties * (1 - all_ratings.sum(axis=1) / intersection_sizes)\n",
    "    similarities[u] = np.nan\n",
    "    return similarities"
   ]
  },
  {
   "cell_type": "code",
   "execution_count": null,
   "metadata": {},
   "outputs": [
    {
     "name": "stdout",
     "output_type": "stream",
     "text": [
      "32 ms ± 2.87 ms per loop (mean ± std. dev. of 7 runs, 20 loops each)\n",
      "34.8 ms ± 1.65 ms per loop (mean ± std. dev. of 7 runs, 20 loops each)\n",
      "69.4 ms ± 1.23 ms per loop (mean ± std. dev. of 7 runs, 20 loops each)\n"
     ]
    }
   ],
   "source": [
    "u = 5\n",
    "%timeit -n 20 jmsd_similarities(u)\n",
    "%timeit -n 20 jmsd_similarities(u)\n",
    "%timeit -n 20 [None if u == v else jmsd_similarity(u, v) for v in range(NUM_USERS)]"
   ]
  },
  {
   "cell_type": "markdown",
   "metadata": {
    "id": "DWqaPSYGBerF"
   },
   "source": [
    "## Búsqueda de los *k* vecinos\n",
    "\n",
    "En el método de KNN, las predicciones se realizan a partir del conjunto de *k* vecinos de cada usuario, esto es, el conjunto de *k* usuarios más similares a uno dado. Este *k* será considerado como un parámetro del sistema y deberá tunearse para cada dataset.\n",
    "\n",
    "La búsqueda de los *k* vecinos consiste únicamente en ordenar los usuarios en base a su similaridad y elegir a los *k* con una similaridad más alta."
   ]
  },
  {
   "cell_type": "markdown",
   "metadata": {
    "id": "DEmVC4XMRone"
   },
   "source": [
    "La implementación de esta función podríamos hacerla del siguiente modo:"
   ]
  },
  {
   "cell_type": "code",
   "execution_count": 227,
   "metadata": {
    "id": "6rInkOjwRpN_"
   },
   "outputs": [],
   "source": [
    "k = 25"
   ]
  },
  {
   "cell_type": "code",
   "execution_count": null,
   "metadata": {},
   "outputs": [],
   "source": [
    "def get_neighbors_old(u, similarities):\n",
    "\n",
    "    neighbors = [None for _ in range(k)]\n",
    "\n",
    "    for n in range(k):\n",
    "\n",
    "        max_similarity = 0\n",
    "        neighbor = None\n",
    "\n",
    "        for v, sim in enumerate(similarities):\n",
    "            if v not in neighbors and sim != None and sim > max_similarity:\n",
    "                max_similarity = sim\n",
    "                neighbor = v\n",
    "\n",
    "        neighbors[n] = neighbor\n",
    "\n",
    "    return neighbors"
   ]
  },
  {
   "cell_type": "code",
   "execution_count": 466,
   "metadata": {
    "id": "-uNjyly9RxSl"
   },
   "outputs": [],
   "source": [
    "def get_neighbors(u, similarities):\n",
    "    # Hay que tomar una decisión entre que devuelva vecinos nulos o que \n",
    "    # devuelva un número indeterminado de vecinos, opto por la segunda por\n",
    "    # eficiencia.\n",
    "    if len(similarities) <= k:\n",
    "        # Not enough neighbors\n",
    "        similarities = np.where(~np.isnan(similarities), similarities, 0)\n",
    "        neighbors = np.arange(len(similarities))\n",
    "        neighbors = neighbors[similarities[neighbors] != 0]\n",
    "        return neighbors\n",
    "\n",
    "    similarities = np.where(~np.isnan(similarities), similarities, 0)\n",
    "    neighbors = np.argpartition(similarities, -k)[-k:] # Más eficiente que ordenar\n",
    "    return neighbors[similarities[neighbors] != 0]\n"
   ]
  },
  {
   "cell_type": "code",
   "execution_count": 462,
   "metadata": {},
   "outputs": [
    {
     "data": {
      "text/plain": [
       "array([-5, -4, -3, -2, -1])"
      ]
     },
     "execution_count": 462,
     "metadata": {},
     "output_type": "execute_result"
    }
   ],
   "source": [
    "a = np.arange(10) - 5\n",
    "index = np.argwhere((a == 0) | (a == 1))[0][0]\n",
    "a[:index]"
   ]
  },
  {
   "cell_type": "code",
   "execution_count": 467,
   "metadata": {
    "id": "qN4O7tFvJzxy"
   },
   "outputs": [
    {
     "name": "stdout",
     "output_type": "stream",
     "text": [
      "20.1 ms ± 462 μs per loop (mean ± std. dev. of 7 runs, 100 loops each)\n",
      "19.7 ms ± 562 μs per loop (mean ± std. dev. of 7 runs, 100 loops each)\n",
      "29.3 μs ± 1.55 μs per loop (mean ± std. dev. of 7 runs, 10,000 loops each)\n",
      "29.9 μs ± 2.1 μs per loop (mean ± std. dev. of 7 runs, 10,000 loops each)\n",
      "\n",
      "[608 515 507 659 703 699 875 318 797 186  40 856  50 365  97 134 606 113\n",
      " 379  66 722 121 521 132  87]\n",
      "[138 673 322 729 700 577 904 925 643 469 172  73 148 742 412 169 581  62\n",
      " 936 154 509 702 769 175 833]\n"
     ]
    }
   ],
   "source": [
    "# Testing\n",
    "u = 112\n",
    "similarities_corr = [None if u == v else correlation_similarity_old(u, v) for v in range(NUM_USERS)]\n",
    "similarities_jmsd = [None if u == v else jmsd_similarity_old(u, v) for v in range(NUM_USERS)]\n",
    "similarities_corr_np = correlation_similarities(u)\n",
    "similarities_jmsd_np = jmsd_similarities(u)\n",
    "\n",
    "%timeit get_neighbors_old(u, similarities_corr)\n",
    "%timeit get_neighbors_old(u, similarities_jmsd)\n",
    "# Mejora tanto que se usa una unidad distinta\n",
    "%timeit get_neighbors(u, similarities_corr_np)\n",
    "%timeit get_neighbors(u, similarities_jmsd_np)\n",
    "print()\n",
    "\n",
    "neighbors_corr = get_neighbors(u, similarities_corr_np)\n",
    "neighbors_jmsd = get_neighbors(u, similarities_jmsd_np)\n",
    "print(neighbors_corr)\n",
    "print(neighbors_jmsd)"
   ]
  },
  {
   "cell_type": "markdown",
   "metadata": {
    "id": "_qXQqvwVTQgm"
   },
   "source": [
    "## Estimación de las predicciones\n",
    "\n",
    "La estimación de las predicciones se realiza agregando las votaciones que los *k* vecinos del usuario activo realizaron al item que se quiere predecir. De nuevo, nos encontramos con el problema de la dispersión de la matriz de votaciones, ya que no todos los *k* vecinos habrán votado los mismos items. Podría incluso darse la circunstancia de que un item no hubiera sido votado por ninguno de los *k* vecinos y, por tanto, no podría estimarse una predicción.\n",
    "\n",
    "Esta situación puede ayudarnos a tunear el parámetro *k*. Si elegimos un *k* muy bajo conseguimos predicciones precisas ya que se realizan con usuarios muy similares al activo, pero existirán muchos items que no podremos predecir. Si elegimos un *k* muy elevado podremos predecir casi todos los items pero estas predicciones serán poco personalizadas. Llevado al extremo si *k* es igual al número de usuario del sistema (menos uno), las predicciones serían equivalentes a la media de los votos.\n",
    "\n",
    "Existen diversas formas de agregar las votaciones de los *k* vecinos (*aggregation approach*), aunque, la más popular debido a su sencillez es la media:\n",
    "\n",
    "$$\\hat{r}_{u,i} = \\frac{1}{\\#N_{u,i}} \\sum_{n \\in N_{u,i}} r_{n,i}$$\n",
    "\n",
    "Donde $N_{u,i}$ representa el conjunto de *k* vecinos del usuario $u$ que votaron el item $i$."
   ]
  },
  {
   "cell_type": "markdown",
   "metadata": {
    "id": "G3I1eqP2Zivy"
   },
   "source": [
    "La implementación de esta medida de agregación podríamos hacerla del siguiente modo:"
   ]
  },
  {
   "cell_type": "code",
   "execution_count": 264,
   "metadata": {
    "id": "z5SHyUMOZl1A"
   },
   "outputs": [],
   "source": [
    "def average_prediction_old(u, i, neighbors):\n",
    "    acc = 0\n",
    "    count = 0\n",
    "\n",
    "    for n in neighbors:\n",
    "        if n == None: break\n",
    "\n",
    "        if ratings[n][i] != None:\n",
    "            acc += ratings[n][i]\n",
    "            count += 1\n",
    "\n",
    "    if count > 0:\n",
    "        prediction = acc / count\n",
    "        return prediction\n",
    "    else:\n",
    "        return None\n"
   ]
  },
  {
   "cell_type": "code",
   "execution_count": 295,
   "metadata": {},
   "outputs": [],
   "source": [
    "def average_prediction(u, i, neighbors):\n",
    "    values = ratings_np[:,i][neighbors] \n",
    "    valid_values = values[~np.isnan(values)]\n",
    "    if len(valid_values) == 0:\n",
    "        return np.nan\n",
    "    return valid_values.mean()"
   ]
  },
  {
   "cell_type": "code",
   "execution_count": 275,
   "metadata": {},
   "outputs": [
    {
     "name": "stdout",
     "output_type": "stream",
     "text": [
      "1.05 μs ± 38.1 ns per loop (mean ± std. dev. of 7 runs, 1,000,000 loops each)\n",
      "3.15 μs ± 236 ns per loop (mean ± std. dev. of 7 runs, 100,000 loops each)\n"
     ]
    }
   ],
   "source": [
    "%timeit ratings_np[:,i][neighbors_corr]\n",
    "%timeit ratings_np[neighbors_corr, i]"
   ]
  },
  {
   "cell_type": "code",
   "execution_count": 296,
   "metadata": {
    "id": "Vo2C5XsccFMz"
   },
   "outputs": [
    {
     "name": "stdout",
     "output_type": "stream",
     "text": [
      "11.6 μs ± 1.58 μs per loop (mean ± std. dev. of 7 runs, 100,000 loops each)\n",
      "14.7 μs ± 414 ns per loop (mean ± std. dev. of 7 runs, 100,000 loops each)\n",
      "15.2 μs ± 328 ns per loop (mean ± std. dev. of 7 runs, 100,000 loops each)\n",
      "15.6 μs ± 360 ns per loop (mean ± std. dev. of 7 runs, 100,000 loops each)\n",
      "1.0\n",
      "1.75\n"
     ]
    }
   ],
   "source": [
    "# Testing\n",
    "i = 324\n",
    "# En este caso no mejoramos el rendimiento, pero tratamos con tiempos muy pequeños\n",
    "%timeit average_prediction_old(u, i, neighbors_corr)\n",
    "%timeit average_prediction_old(u, i, neighbors_jmsd)\n",
    "%timeit average_prediction(u, i, neighbors_corr)\n",
    "%timeit average_prediction(u, i, neighbors_jmsd)\n",
    "\n",
    "avgpred_corr = average_prediction(u, i, neighbors_corr)\n",
    "avgpred_jmsd = average_prediction(u, i, neighbors_jmsd)\n",
    "print(avgpred_corr)\n",
    "print(avgpred_jmsd)"
   ]
  },
  {
   "cell_type": "code",
   "execution_count": 351,
   "metadata": {},
   "outputs": [
    {
     "data": {
      "text/plain": [
       "array([3.375, 3.   , 1.   , ...,   nan,   nan,   nan])"
      ]
     },
     "execution_count": 351,
     "metadata": {},
     "output_type": "execute_result"
    }
   ],
   "source": [
    "import warnings\n",
    "def average_predictions(u, neighbors):\n",
    "    values = ratings_np[neighbors] \n",
    "    valids = ~np.isnan(values)\n",
    "    with warnings.catch_warnings():\n",
    "        warnings.simplefilter(\"ignore\", category=RuntimeWarning)\n",
    "        return values.mean(axis=0, where=valids)\n",
    "average_predictions(5, neighbors_corr)#, average_prediction(5,0,neighbors_corr)"
   ]
  },
  {
   "cell_type": "code",
   "execution_count": 357,
   "metadata": {},
   "outputs": [
    {
     "name": "stdout",
     "output_type": "stream",
     "text": [
      "15.3 ms ± 392 μs per loop (mean ± std. dev. of 7 runs, 100 loops each)\n",
      "344 μs ± 27.3 μs per loop (mean ± std. dev. of 7 runs, 1,000 loops each)\n"
     ]
    }
   ],
   "source": [
    "%timeit [average_prediction(5, i, neighbors_corr) for i in range(NUM_ITEMS)]\n",
    "%timeit average_predictions(5, neighbors_corr)"
   ]
  },
  {
   "cell_type": "markdown",
   "metadata": {
    "id": "qMGJlXIL6bOK"
   },
   "source": [
    "Una evolución simple de esta medida de agregación es la media ponderada, en la cual el voto de cada uno de los vecinos se pondera en función de su similaridad con el usuario sobre el que se está calculando la predicción:\n",
    "\n",
    "$$\\hat{r}_{u,i} = \\frac{\\sum_{n \\in N_{u,i}} sim(u,n) \\cdot r_{n,i}}{\\sum_{n \\in N_{u,i}} sim(u,n)} $$\n",
    "\n",
    "Donde $N_{u,i}$ representa el conjunto de *k* vecinos del usuario $u$ que votaron el item $i$ y $sim(u,n)$ simboliza la similaridad entre el usuario $u$ y el vecino $n$."
   ]
  },
  {
   "cell_type": "code",
   "execution_count": 288,
   "metadata": {},
   "outputs": [],
   "source": [
    "def weighted_average_prediction_old(u, i, neighbors, similarities):\n",
    "    num = 0\n",
    "    den = 0\n",
    "\n",
    "    for n in neighbors:\n",
    "        if n == None: break\n",
    "\n",
    "        if ratings[n][i] != None:\n",
    "            num += similarities[n] * ratings[n][i]\n",
    "            den += similarities[n]\n",
    "\n",
    "    if den > 0:\n",
    "        prediction = num / den\n",
    "        return prediction\n",
    "    else:\n",
    "        return None"
   ]
  },
  {
   "cell_type": "code",
   "execution_count": 415,
   "metadata": {
    "id": "VZLaWCTH7OYc"
   },
   "outputs": [],
   "source": [
    "def weighted_average_prediction(u, i, neighbors, similarities):\n",
    "    neighbors_ratings = ratings_np[:, i][neighbors]\n",
    "    valid_ratings = ~np.isnan(neighbors_ratings)\n",
    "    \n",
    "    neighbors_ratings = neighbors_ratings[valid_ratings]\n",
    "    if len(neighbors_ratings) == 0:\n",
    "        return np.nan\n",
    "    \n",
    "    neighbors_similarities = similarities[neighbors][valid_ratings]\n",
    "    return (neighbors_similarities * neighbors_ratings).sum() / neighbors_similarities.sum()"
   ]
  },
  {
   "cell_type": "code",
   "execution_count": 363,
   "metadata": {
    "id": "slrfDzJtfJqh"
   },
   "outputs": [
    {
     "name": "stdout",
     "output_type": "stream",
     "text": [
      "13.7 μs ± 2.66 μs per loop (mean ± std. dev. of 7 runs, 10,000 loops each)\n",
      "15 μs ± 2.95 μs per loop (mean ± std. dev. of 7 runs, 10,000 loops each)\n",
      "17.3 μs ± 2.63 μs per loop (mean ± std. dev. of 7 runs, 10,000 loops each)\n",
      "16.7 μs ± 2.6 μs per loop (mean ± std. dev. of 7 runs, 10,000 loops each)\n",
      "1.0\n",
      "1.7426994721014446\n"
     ]
    }
   ],
   "source": [
    "# Testing\n",
    "%timeit -n 10_000 weighted_average_prediction_old(u, i, neighbors_corr, similarities_corr)\n",
    "%timeit -n 10_000 weighted_average_prediction_old(u, i, neighbors_jmsd, similarities_jmsd)\n",
    "%timeit -n 10_000 weighted_average_prediction(u, i, neighbors_corr, similarities_corr_np)\n",
    "%timeit -n 10_000 weighted_average_prediction(u, i, neighbors_jmsd, similarities_jmsd_np)\n",
    "\n",
    "wavgpred_corr = weighted_average_prediction(u, i, neighbors_corr, similarities_corr_np)\n",
    "wavgpred_jmsd = weighted_average_prediction(u, i, neighbors_jmsd, similarities_jmsd_np)\n",
    "print(wavgpred_corr)\n",
    "print(wavgpred_jmsd)"
   ]
  },
  {
   "cell_type": "code",
   "execution_count": 416,
   "metadata": {},
   "outputs": [],
   "source": [
    "def weighted_average_predictions(u, neighbors, similarities):\n",
    "    neighbors_ratings = ratings_np[neighbors]\n",
    "    valids = ~np.isnan(neighbors_ratings)\n",
    "    with warnings.catch_warnings():\n",
    "        warnings.simplefilter(\"ignore\", category=RuntimeWarning)\n",
    "        return (neighbors_ratings * similarities[neighbors, np.newaxis]).sum(axis=0, where=valids) / np.broadcast_to(similarities[neighbors, np.newaxis], valids.shape).sum(axis=0, where=valids)"
   ]
  },
  {
   "cell_type": "code",
   "execution_count": 419,
   "metadata": {},
   "outputs": [
    {
     "name": "stdout",
     "output_type": "stream",
     "text": [
      "16.6 ms ± 384 μs per loop (mean ± std. dev. of 7 runs, 100 loops each)\n",
      "319 μs ± 42.7 μs per loop (mean ± std. dev. of 7 runs, 1,000 loops each)\n"
     ]
    }
   ],
   "source": [
    "%timeit [weighted_average_prediction(u, i, neighbors_corr, similarities_corr_np) for i in range(NUM_ITEMS)]\n",
    "%timeit weighted_average_predictions(u, neighbors_corr, similarities_corr_np)"
   ]
  },
  {
   "cell_type": "markdown",
   "metadata": {
    "id": "pt_lN0V3afJT"
   },
   "source": [
    "Utilizar la media o la media ponderada como medida de agregación tiene un problema, presupone que todos los usuarios tienen la misma percepción de la escala de votaciones prefijada. Sin embargo, sabemos que esto no es cierto. Existes determinados sesgos que hacen que los usuarios realicen votaciones haciendo una interpretación particular del sentido de su voto. Por ejemplo, existen usuarios más \"generosos\" con las votaciones que tienden a asignar siempre valoraciones altas y existen usuarios más \"tacaños\" con las votaciones que tienden a asignar siempre valoraciones más bajas. Que el primer usuario valore un item con 5 y el segundo usuario valore el mismo item con un 4 no quiere decir que al primero le haya gustado más el item. Cada usuario hace su propia interpretación de lo que significan los votos 4 y 5.\n",
    "\n",
    "Para incluir este fenómeno dentro de las medidas de agregación, es frecuente agregar las votaciones de los k vecinos mediante la **desviación respecto a la media** (*deviation from mean*):\n",
    "\n",
    "$$\\hat{r}_{u,i} = \\bar{r}_{u} + \\frac{ \\sum_{n \\in N_{u,i}} r_{n,i} - \\bar{r}_n }{\\#N_{u,i}}$$\n",
    "\n",
    "Donde $N_{u,i}$ representa el conjunto de *k* vecinos del usuario $u$ que votaron el item $i$, $\\bar{r}_u$ representa la media de votos del usuario $u$ y $\\bar{r}_n$ representa la media de votos del usuario $n$."
   ]
  },
  {
   "cell_type": "markdown",
   "metadata": {
    "id": "lFrM3nbkcGQ9"
   },
   "source": [
    "La implementación de esta medida de agregación podríamos hacerla del siguiente modo:"
   ]
  },
  {
   "cell_type": "code",
   "execution_count": 309,
   "metadata": {},
   "outputs": [],
   "source": [
    "def deviation_from_mean_prediction_old(u, i, neighbors):\n",
    "  acc = 0\n",
    "  count = 0\n",
    "\n",
    "  for n in neighbors:\n",
    "    if n == None: break\n",
    "\n",
    "    if ratings[n][i] != None:\n",
    "      avg_n = rating_average_old(n)\n",
    "      acc += ratings[n][i] - avg_n\n",
    "      count += 1\n",
    "\n",
    "  if count > 0:\n",
    "    avg_u = rating_average_old(u)\n",
    "    prediction = avg_u + acc / count\n",
    "    return prediction\n",
    "  else:\n",
    "    return None"
   ]
  },
  {
   "cell_type": "code",
   "execution_count": 310,
   "metadata": {},
   "outputs": [
    {
     "name": "stdout",
     "output_type": "stream",
     "text": [
      "1.4452214452214451\n",
      "2.3675879675879674\n"
     ]
    }
   ],
   "source": [
    "# Testing\n",
    "dfmpred_corr = deviation_from_mean_prediction_old(u, i, neighbors_corr)\n",
    "dfmpred_jmsd = deviation_from_mean_prediction_old(u, i, neighbors_jmsd)\n",
    "print(dfmpred_corr)\n",
    "print(dfmpred_jmsd)"
   ]
  },
  {
   "cell_type": "code",
   "execution_count": 442,
   "metadata": {
    "id": "IzGbdNPkcHF1"
   },
   "outputs": [],
   "source": [
    "def deviation_from_mean_prediction (u, i, neighbors):\n",
    "    mean_u = ratings_np[u].mean(where=~np.isnan(ratings_np[u]))\n",
    "    neighbors_ratings = ratings_np[neighbors]\n",
    "    mean_neighbors = neighbors_ratings.mean(axis=1, where=~np.isnan(neighbors_ratings))\n",
    "    valid_neighbors = ~np.isnan(neighbors_ratings[:,i])\n",
    "    with warnings.catch_warnings():\n",
    "        warnings.simplefilter(\"ignore\", category=RuntimeWarning)\n",
    "        return mean_u + (neighbors_ratings[:,i][valid_neighbors] - mean_neighbors[valid_neighbors]).mean()"
   ]
  },
  {
   "cell_type": "code",
   "execution_count": 319,
   "metadata": {
    "id": "cXXlvuBBfZ-m"
   },
   "outputs": [
    {
     "name": "stdout",
     "output_type": "stream",
     "text": [
      "620 μs ± 25.5 μs per loop (mean ± std. dev. of 7 runs, 1,000 loops each)\n",
      "1.6 ms ± 48.1 μs per loop (mean ± std. dev. of 7 runs, 1,000 loops each)\n",
      "341 μs ± 49.5 μs per loop (mean ± std. dev. of 7 runs, 1,000 loops each)\n",
      "337 μs ± 35.4 μs per loop (mean ± std. dev. of 7 runs, 1,000 loops each)\n",
      "\n",
      "1.4452214452214451\n",
      "2.3675879675879674\n"
     ]
    }
   ],
   "source": [
    "# Testing\n",
    "%timeit deviation_from_mean_prediction_old(u, i, neighbors_corr)\n",
    "%timeit deviation_from_mean_prediction_old(u, i, neighbors_jmsd)\n",
    "%timeit deviation_from_mean_prediction(u, i, neighbors_corr)\n",
    "%timeit deviation_from_mean_prediction(u, i, neighbors_jmsd)\n",
    "print()\n",
    "\n",
    "dfmpred_corr = deviation_from_mean_prediction(u, i, neighbors_corr)\n",
    "dfmpred_jmsd = deviation_from_mean_prediction(u, i, neighbors_jmsd)\n",
    "print(dfmpred_corr)\n",
    "print(dfmpred_jmsd)"
   ]
  },
  {
   "cell_type": "code",
   "execution_count": 443,
   "metadata": {},
   "outputs": [],
   "source": [
    "def deviation_from_mean_predictions(u, neighbors):\n",
    "    mean_u = ratings_np[u].mean(where=~np.isnan(ratings_np[u]))\n",
    "    neighbors_ratings = ratings_np[neighbors]\n",
    "    mean_neighbors = neighbors_ratings.mean(axis=1, where=~np.isnan(neighbors_ratings))\n",
    "    valid_neighbors = ~np.isnan(neighbors_ratings)\n",
    "\n",
    "    with warnings.catch_warnings():\n",
    "        warnings.simplefilter(\"ignore\", category=RuntimeWarning)\n",
    "        return mean_u + (neighbors_ratings - mean_neighbors[:, np.newaxis]).mean(axis=0, where=valid_neighbors)"
   ]
  },
  {
   "cell_type": "code",
   "execution_count": 445,
   "metadata": {},
   "outputs": [
    {
     "name": "stdout",
     "output_type": "stream",
     "text": [
      "627 ms ± 28.1 ms per loop (mean ± std. dev. of 7 runs, 1 loop each)\n",
      "706 μs ± 46.8 μs per loop (mean ± std. dev. of 7 runs, 1,000 loops each)\n"
     ]
    }
   ],
   "source": [
    "%timeit [deviation_from_mean_prediction(u, i, neighbors_corr) for i in range(NUM_ITEMS)]\n",
    "%timeit deviation_from_mean_predictions(u, neighbors_corr)"
   ]
  },
  {
   "cell_type": "markdown",
   "metadata": {
    "id": "8Wz44ClHcgZy"
   },
   "source": [
    "## Cálculo de las recomendaciones\n",
    "\n",
    "El cálculo de las recomendaciones, por lo general, simplemente implica seleccionar los *N* items con una predicción más alta. Por ejemplo, si quisiéramos recomendar *N = 3* items a un usuario que tuviera las siguientes predicciones:\n",
    "\n",
    "|   \t| i1 \t| i2 \t| i3 \t| i4 \t| i5 \t| i6 \t| i7 \t| i8 \t| i9 \t| i10 \t|\n",
    "|:-:\t|:--:\t|:--:\t|:--:\t|:--:\t|:--:\t|:--:\t|:--:\t|:--:\t|:--:\t|-----\t|\n",
    "| u \t|   \t|  2,9 \t|    \t|  4,7 \t|  5,0 \t|    \t|  1,2 \t|    \t|   \t|  3,1 \t|\n",
    "\n",
    "Se le recomendarían a dicho usuario los items *i5*, *i4* e *i10*.\n",
    "\n",
    "En algunas ocasiones, es posible establecer filtros para acotar los items a recomendar. Por ejemplo: en un sistema de recomendación de restaurantes, es posible filtrar aquellos items que se encuentren a demasiada distancia del usuarios; en un sistema de recomendación de libros, el usuario puede filtrar el idioma o el género literario del libro; en una web de comercio electrónico es posible realizar recomendaciones sobre una categoría concreta...\n"
   ]
  },
  {
   "cell_type": "code",
   "execution_count": 324,
   "metadata": {
    "id": "qoKzk91plIM6"
   },
   "outputs": [],
   "source": [
    "N = 5"
   ]
  },
  {
   "cell_type": "code",
   "execution_count": 447,
   "metadata": {},
   "outputs": [],
   "source": [
    "def get_recommendations_old(predictions):\n",
    "    recommendations = [None for _ in range(N)]\n",
    "\n",
    "    for n in range(N):\n",
    "\n",
    "        max_value = 0\n",
    "        item = None\n",
    "\n",
    "        for i, value in enumerate(predictions):\n",
    "            if i not in recommendations and value != None and value > max_value:\n",
    "                max_value = value\n",
    "                item = i\n",
    "\n",
    "        recommendations[n] = item\n",
    "\n",
    "    return recommendations"
   ]
  },
  {
   "cell_type": "code",
   "execution_count": 448,
   "metadata": {
    "id": "SkX1_9v3gwv5"
   },
   "outputs": [
    {
     "name": "stdout",
     "output_type": "stream",
     "text": [
      "[45, 52, 64, 130, 142]\n",
      "[10, 21, 22, 55, 63]\n",
      "[142, 273, 282, 398, 719]\n",
      "[10, 21, 22, 55, 63]\n",
      "[284, 286, 407, 876, 282]\n",
      "[1136, 10, 21, 22, 55]\n"
     ]
    }
   ],
   "source": [
    "# Testing\n",
    "avg_predictions_corr = [None if ratings[u][i] != None else average_prediction_old(u, i, neighbors_corr) for i in range(NUM_ITEMS)]\n",
    "avg_predictions_jmsd = [None if ratings[u][i] != None else average_prediction_old(u, i, neighbors_jmsd) for i in range(NUM_ITEMS)]\n",
    "wavg_predictions_corr = [None if ratings[u][i] != None else weighted_average_prediction_old(u, i, neighbors_corr, similarities_corr) for i in range(NUM_ITEMS)]\n",
    "wavg_predictions_jmsd = [None if ratings[u][i] != None else weighted_average_prediction_old(u, i, neighbors_jmsd, similarities_jmsd) for i in range(NUM_ITEMS)]\n",
    "dfm_predictions_corr = [None if ratings[u][i] != None else deviation_from_mean_prediction_old(u, i, neighbors_corr) for i in range(NUM_ITEMS)]\n",
    "dfm_predictions_jmsd = [None if ratings[u][i] != None else deviation_from_mean_prediction_old(u, i, neighbors_jmsd) for i in range(NUM_ITEMS)]\n",
    "recommendations_avg_corr = get_recommendations_old(avg_predictions_corr)\n",
    "recommendations_avg_jmsd = get_recommendations_old(avg_predictions_jmsd)\n",
    "recommendations_wavg_corr = get_recommendations_old(wavg_predictions_corr)\n",
    "recommendations_wavg_jmsd = get_recommendations_old(wavg_predictions_jmsd)\n",
    "recommendations_dfm_corr = get_recommendations_old(dfm_predictions_corr)\n",
    "recommendations_dfm_jmsd = get_recommendations_old(dfm_predictions_jmsd)\n",
    "print(recommendations_avg_corr)\n",
    "print(recommendations_avg_jmsd)\n",
    "print(recommendations_wavg_corr)\n",
    "print(recommendations_wavg_jmsd)\n",
    "print(recommendations_dfm_corr)\n",
    "print(recommendations_dfm_jmsd)"
   ]
  },
  {
   "cell_type": "code",
   "execution_count": 573,
   "metadata": {},
   "outputs": [],
   "source": [
    "def get_recommendations(predictions):\n",
    "    # Hay que tomar una decisión entre que devuelva recomendaciones nulas o que \n",
    "    # devuelva un número indeterminado de recomendaciones, opto por la segunda \n",
    "    # por eficiencia\n",
    "    if len(predictions) < N:\n",
    "        # Not enough recommendations\n",
    "        recommendations = np.arange(len(predictions))\n",
    "        recommendations = recommendations[~np.isnan(predictions[recommendations])]\n",
    "        return recommendations\n",
    "    \n",
    "\n",
    "    predictions = np.where(~np.isnan(predictions), predictions, 0)\n",
    "    recommendations = np.argpartition(predictions, -N)[-N:] # Más eficiente que ordenar\n",
    "    return recommendations[predictions[recommendations] != 0]"
   ]
  },
  {
   "cell_type": "code",
   "execution_count": 470,
   "metadata": {},
   "outputs": [
    {
     "data": {
      "text/plain": [
       "1.0"
      ]
     },
     "execution_count": 470,
     "metadata": {},
     "output_type": "execute_result"
    }
   ],
   "source": [
    "avg_predictions_corr_np = average_prediction(u, i, neighbors_corr)\n",
    "avg_predictions_corr_np"
   ]
  },
  {
   "cell_type": "code",
   "execution_count": 478,
   "metadata": {},
   "outputs": [],
   "source": [
    "avg_predictions_corr_np = average_predictions(u, neighbors_corr)\n",
    "avg_predictions_jmsd_np = average_predictions(u, neighbors_jmsd)\n",
    "wavg_predictions_corr_np = weighted_average_predictions(u, neighbors_corr, similarities_corr_np)\n",
    "wavg_predictions_jmsd_np = weighted_average_predictions(u, neighbors_jmsd, similarities_jmsd_np)\n",
    "dfm_predictions_corr_np = deviation_from_mean_predictions(u, neighbors_corr)\n",
    "dfm_predictions_jmsd_np = deviation_from_mean_predictions(u, neighbors_jmsd)"
   ]
  },
  {
   "cell_type": "code",
   "execution_count": null,
   "metadata": {},
   "outputs": [
    {
     "name": "stdout",
     "output_type": "stream",
     "text": [
      "2.6 ms ± 359 μs per loop (mean ± std. dev. of 7 runs, 100 loops each)\n",
      "2.44 ms ± 215 μs per loop (mean ± std. dev. of 7 runs, 100 loops each)\n",
      "2.72 ms ± 154 μs per loop (mean ± std. dev. of 7 runs, 100 loops each)\n",
      "2.32 ms ± 340 μs per loop (mean ± std. dev. of 7 runs, 100 loops each)\n",
      "2.05 ms ± 70 μs per loop (mean ± std. dev. of 7 runs, 100 loops each)\n",
      "1.95 ms ± 69.3 μs per loop (mean ± std. dev. of 7 runs, 100 loops each)\n",
      "\n",
      "23.4 μs ± 6.43 μs per loop (mean ± std. dev. of 7 runs, 1,000 loops each)\n",
      "23.6 μs ± 6.4 μs per loop (mean ± std. dev. of 7 runs, 1,000 loops each)\n",
      "22.7 μs ± 6.42 μs per loop (mean ± std. dev. of 7 runs, 1,000 loops each)\n",
      "23.6 μs ± 7.18 μs per loop (mean ± std. dev. of 7 runs, 1,000 loops each)\n",
      "23.9 μs ± 6.95 μs per loop (mean ± std. dev. of 7 runs, 1,000 loops each)\n",
      "24.6 μs ± 6.94 μs per loop (mean ± std. dev. of 7 runs, 1,000 loops each)\n"
     ]
    }
   ],
   "source": [
    "%timeit -n 100 get_recommendations_old(avg_predictions_corr)\n",
    "%timeit -n 100 get_recommendations_old(avg_predictions_jmsd)\n",
    "%timeit -n 100 get_recommendations_old(wavg_predictions_corr)\n",
    "%timeit -n 100 get_recommendations_old(wavg_predictions_jmsd)\n",
    "%timeit -n 100 get_recommendations_old(dfm_predictions_corr)\n",
    "%timeit -n 100 get_recommendations_old(dfm_predictions_jmsd)\n",
    "print()\n",
    "%timeit -n 1000 get_recomendations(avg_predictions_corr_np)\n",
    "%timeit -n 1000 get_recomendations(avg_predictions_jmsd_np)\n",
    "%timeit -n 1000 get_recomendations(wavg_predictions_corr_np)\n",
    "%timeit -n 1000 get_recomendations(wavg_predictions_jmsd_np)\n",
    "%timeit -n 1000 get_recomendations(dfm_predictions_corr_np)\n",
    "%timeit -n 1000 get_recomendations(dfm_predictions_jmsd_np)"
   ]
  },
  {
   "cell_type": "code",
   "execution_count": null,
   "metadata": {},
   "outputs": [
    {
     "name": "stdout",
     "output_type": "stream",
     "text": [
      "[903 671 273 480 142]\n",
      "[ 22 202  21  55 315]\n",
      "[142 719 282 273 398]\n",
      "[1232   22  466   21   55]\n",
      "[282 284 286 407 876]\n",
      "[  55  214   63 1136  171]\n"
     ]
    }
   ],
   "source": [
    "recommendations_avg_corr_np = get_recommendations(avg_predictions_corr_np)\n",
    "recommendations_avg_jmsd_np = get_recommendations(avg_predictions_jmsd_np)\n",
    "recommendations_wavg_corr_np = get_recommendations(wavg_predictions_corr_np)\n",
    "recommendations_wavg_jmsd_np = get_recommendations(wavg_predictions_jmsd_np)\n",
    "recommendations_dfm_corr_np = get_recommendations(dfm_predictions_corr_np)\n",
    "recommendations_dfm_jmsd_np = get_recommendations(dfm_predictions_jmsd_np)\n",
    "print(recommendations_avg_corr_np)\n",
    "print(recommendations_avg_jmsd_np)\n",
    "print(recommendations_wavg_corr_np)\n",
    "print(recommendations_wavg_jmsd_np)\n",
    "print(recommendations_dfm_corr_np)\n",
    "print(recommendations_dfm_jmsd_np)"
   ]
  },
  {
   "cell_type": "code",
   "execution_count": null,
   "metadata": {},
   "outputs": [
    {
     "data": {
      "text/plain": [
       "(5.099971189858831, 5.099971189858831, 5.099971189858831, 5.099971189858831)"
      ]
     },
     "execution_count": 484,
     "metadata": {},
     "output_type": "execute_result"
    }
   ],
   "source": [
    "dfm_predictions_jmsd_np[171], dfm_predictions_jmsd[171], dfm_predictions_jmsd_np[22], dfm_predictions_jmsd[22] # Hay predicciones iguales por eso cambian los resultados"
   ]
  },
  {
   "cell_type": "markdown",
   "metadata": {
    "id": "dkjnWQAXci_w"
   },
   "source": [
    "## Ejemplo de ejecución: cálculo del MAE\n",
    "\n",
    "En esta sección vamos a mostrar el ejemplo completo de cómo calcular el error medio absoluto (MAE) de las predicciones realizadas por el método de los *k*-vecinos.\n",
    "\n",
    "Para ello, lo primero que debemos hacer es calcular las predicciones para todos los items que haya recibido una votación de test:"
   ]
  },
  {
   "cell_type": "code",
   "execution_count": 486,
   "metadata": {},
   "outputs": [],
   "source": [
    "def has_test_ratings_old(u):\n",
    "    for i in range(NUM_ITEMS):\n",
    "        if test_ratings[u][i] != None:\n",
    "            return True\n",
    "    return False"
   ]
  },
  {
   "cell_type": "code",
   "execution_count": 546,
   "metadata": {},
   "outputs": [],
   "source": [
    "def has_test_ratings(u):\n",
    "    return (~np.isnan(test_ratings_np[u])).any()"
   ]
  },
  {
   "cell_type": "code",
   "execution_count": 550,
   "metadata": {},
   "outputs": [
    {
     "name": "stdout",
     "output_type": "stream",
     "text": [
      "195 μs ± 20.7 μs per loop (mean ± std. dev. of 7 runs, 1,000 loops each)\n",
      "200 μs ± 27.6 μs per loop (mean ± std. dev. of 7 runs, 1,000 loops each)\n",
      "7.66 μs ± 1.6 μs per loop (mean ± std. dev. of 7 runs, 10,000 loops each)\n",
      "8.18 μs ± 2.32 μs per loop (mean ± std. dev. of 7 runs, 10,000 loops each)\n"
     ]
    }
   ],
   "source": [
    "%timeit -n 1_000 has_test_ratings_old(5)\n",
    "%timeit -n 1_000 has_test_ratings_old(113)\n",
    "%timeit -n 10_000 has_test_ratings(5)\n",
    "%timeit -n 10_000 has_test_ratings(113)"
   ]
  },
  {
   "cell_type": "code",
   "execution_count": 596,
   "metadata": {
    "id": "4DUFHu__JhZh"
   },
   "outputs": [],
   "source": [
    "avg_predictions_corr = [[None for _ in range(NUM_ITEMS)] for _ in range(NUM_USERS)]\n",
    "avg_predictions_jmsd = [[None for _ in range(NUM_ITEMS)] for _ in range(NUM_USERS)]\n",
    "wavg_predictions_corr = [[None for _ in range(NUM_ITEMS)] for _ in range(NUM_USERS)]\n",
    "wavg_predictions_jmsd = [[None for _ in range(NUM_ITEMS)] for _ in range(NUM_USERS)]\n",
    "dfm_predictions_corr = [[None for _ in range(NUM_ITEMS)] for _ in range(NUM_USERS)]\n",
    "dfm_predictions_jmsd = [[None for _ in range(NUM_ITEMS)] for _ in range(NUM_USERS)]\n",
    "\n",
    "# Rellenamos la matriz de predicciones\n",
    "for u in range(NUM_USERS):\n",
    "  if has_test_ratings_old(u):\n",
    "\n",
    "    # Calcular similaridades\n",
    "    similarities_corr = [None if u == v else correlation_similarity_old(u, v) for v in range(NUM_USERS)]\n",
    "    similarities_jmsd = [None if u == v else jmsd_similarity_old(u, v) for v in range(NUM_USERS)]\n",
    "\n",
    "    # Calcular vecinos\n",
    "    neighbors_corr = get_neighbors_old(u, similarities_corr)\n",
    "    neighbors_jmsd = get_neighbors_old(u, similarities_jmsd)\n",
    "\n",
    "    # Calcular predicciones sobre los items de test votados por el usuario\n",
    "    for i in range(NUM_ITEMS):\n",
    "      if test_ratings[u][i] != None:\n",
    "        avg_predictions_corr[u][i] = average_prediction_old(u, i, neighbors_corr)\n",
    "        avg_predictions_jmsd[u][i] = average_prediction_old(u, i, neighbors_jmsd)\n",
    "        wavg_predictions_corr[u][i] = weighted_average_prediction_old(u, i, neighbors_corr, similarities_corr)\n",
    "        wavg_predictions_jmsd[u][i] = weighted_average_prediction_old(u, i, neighbors_jmsd, similarities_jmsd)\n",
    "        dfm_predictions_corr[u][i] = deviation_from_mean_prediction_old(u, i, neighbors_corr)\n",
    "        dfm_predictions_jmsd[u][i] = deviation_from_mean_prediction_old(u, i, neighbors_jmsd)"
   ]
  },
  {
   "cell_type": "code",
   "execution_count": 597,
   "metadata": {},
   "outputs": [],
   "source": [
    "avg_predictions_corr_np = np.zeros_like(ratings_np)\n",
    "avg_predictions_jmsd_np = np.zeros_like(ratings_np)\n",
    "wavg_predictions_corr_np = np.zeros_like(ratings_np)\n",
    "wavg_predictions_jmsd_np = np.zeros_like(ratings_np)\n",
    "dfm_predictions_corr_np = np.zeros_like(ratings_np)\n",
    "dfm_predictions_jmsd_np = np.zeros_like(ratings_np)\n",
    "\n",
    "for u in range(NUM_USERS):\n",
    "    simmilarities_corr_np = correlation_similarities(u)\n",
    "    similarities_jmsd_np = jmsd_similarities(u)\n",
    "    \n",
    "    neighbors_corr = get_neighbors(u, similarities_corr_np)\n",
    "    neighbors_jmsd = get_neighbors(u, similarities_jmsd_np)\n",
    "    \n",
    "    avg_predictions_corr_np[u] = average_predictions(u, neighbors_corr)\n",
    "    avg_predictions_jmsd_np[u] = average_predictions(u, neighbors_jmsd)\n",
    "    wavg_predictions_corr_np[u] = weighted_average_predictions(u, neighbors_corr, similarities_corr_np)\n",
    "    wavg_predictions_jmsd_np[u] = weighted_average_predictions(u, neighbors_jmsd, similarities_jmsd_np)\n",
    "    dfm_predictions_corr_np[u] = deviation_from_mean_predictions(u, neighbors_corr)\n",
    "    dfm_predictions_jmsd_np[u] = deviation_from_mean_predictions(u, neighbors_jmsd)\n",
    "    "
   ]
  },
  {
   "cell_type": "markdown",
   "metadata": {
    "id": "aY9mSfJ8JiFk"
   },
   "source": [
    "Y, a continuación, calculamos el MAE:"
   ]
  },
  {
   "cell_type": "code",
   "execution_count": 540,
   "metadata": {},
   "outputs": [],
   "source": [
    "def get_user_mae_old(u, predictions):\n",
    "    mae = 0\n",
    "    count = 0\n",
    "\n",
    "    for i in range(NUM_ITEMS):\n",
    "        if test_ratings[u][i] != None and predictions[u][i] != None:\n",
    "            mae += abs(test_ratings[u][i] - predictions[u][i])\n",
    "            count += 1\n",
    "\n",
    "    if count > 0:\n",
    "        return mae / count\n",
    "    else:\n",
    "        return None"
   ]
  },
  {
   "cell_type": "code",
   "execution_count": 543,
   "metadata": {},
   "outputs": [],
   "source": [
    "def get_mae_old(predictions):\n",
    "    mae = 0\n",
    "    count = 0\n",
    "\n",
    "    for u in range(NUM_USERS):\n",
    "        if has_test_ratings_old(u):\n",
    "            user_mae = get_user_mae_old(u, predictions)\n",
    "\n",
    "            if user_mae != None:\n",
    "                mae += user_mae\n",
    "                count += 1\n",
    "\n",
    "\n",
    "    if count > 0:\n",
    "        return mae / count\n",
    "    else:\n",
    "        return None"
   ]
  },
  {
   "cell_type": "code",
   "execution_count": 563,
   "metadata": {
    "id": "WUnIY4ExETZ1"
   },
   "outputs": [
    {
     "name": "stdout",
     "output_type": "stream",
     "text": [
      "MAE Avg Prediction with Corr Similarity = 1.00923070340394\n",
      "MAE Avg Prediction with JMSD Similarity = 0.8951441319983335\n",
      "MAE Weighted Avg Prediction with Corr Similarity = 1.0097877459011548\n",
      "MAE Weighted Avg Prediction with JMSD Similarity = 0.8955826103175067\n",
      "MAE Dev from Mean Prediction with Corr Similarity = 1.008429618748919\n",
      "MAE Dev from Mean Prediction with JMSD Similarity = 0.828759929568012\n"
     ]
    }
   ],
   "source": [
    "mae_avg_corr = get_mae_old(avg_predictions_corr)\n",
    "mae_avg_jmsd = get_mae_old(avg_predictions_jmsd)\n",
    "mae_wavg_corr = get_mae_old(wavg_predictions_corr)\n",
    "mae_wavg_jmsd = get_mae_old(wavg_predictions_jmsd)\n",
    "mae_dfm_corr = get_mae_old(dfm_predictions_corr)\n",
    "mae_dfm_jmsd = get_mae_old(dfm_predictions_jmsd)\n",
    "print(\"MAE Avg Prediction with Corr Similarity = \" + str(mae_avg_corr))\n",
    "print(\"MAE Avg Prediction with JMSD Similarity = \" + str(mae_avg_jmsd))\n",
    "print(\"MAE Weighted Avg Prediction with Corr Similarity = \" + str(mae_wavg_corr))\n",
    "print(\"MAE Weighted Avg Prediction with JMSD Similarity = \" + str(mae_wavg_jmsd))\n",
    "print(\"MAE Dev from Mean Prediction with Corr Similarity = \" + str(mae_dfm_corr))\n",
    "print(\"MAE Dev from Mean Prediction with JMSD Similarity = \" + str(mae_dfm_jmsd))"
   ]
  },
  {
   "cell_type": "code",
   "execution_count": 565,
   "metadata": {},
   "outputs": [],
   "source": [
    "def get_mae(predictions):\n",
    "    ae = np.abs(test_ratings_np - predictions)\n",
    "    with warnings.catch_warnings():\n",
    "        warnings.simplefilter(\"ignore\", category=RuntimeWarning)\n",
    "    \n",
    "        ae_per_user = ae.mean(axis=1, where=~np.isnan(test_ratings_np))\n",
    "        return ae_per_user.mean(where=~np.isnan(ae_per_user))"
   ]
  },
  {
   "cell_type": "code",
   "execution_count": 566,
   "metadata": {},
   "outputs": [
    {
     "name": "stdout",
     "output_type": "stream",
     "text": [
      "MAE Avg Prediction with Corr Similarity = 0.9568764172335601\n",
      "MAE Avg Prediction with JMSD Similarity = 0.84855730143673\n",
      "MAE Weighted Avg Prediction with Corr Similarity = 0.9632785734330227\n",
      "MAE Weighted Avg Prediction with JMSD Similarity = 0.8490995875284602\n",
      "MAE Dev from Mean Prediction with Corr Similarity = 0.9148744198777381\n",
      "MAE Dev from Mean Prediction with JMSD Similarity = 0.7498648296898984\n"
     ]
    }
   ],
   "source": [
    "# Es normal que las predicciones varíen, vimos que cuando se eligen los vecinos \n",
    "# hay varios igual de semejantes\n",
    "mae_avg_corr_np = get_mae(avg_predictions_corr_np)\n",
    "mae_avg_jmsd_np = get_mae(avg_predictions_jmsd_np)\n",
    "mae_wavg_corr_np = get_mae(wavg_predictions_corr_np)\n",
    "mae_wavg_jmsd_np = get_mae(wavg_predictions_jmsd_np)\n",
    "mae_dfm_corr_np = get_mae(dfm_predictions_corr_np)\n",
    "mae_dfm_jmsd_np = get_mae(dfm_predictions_jmsd_np)\n",
    "print(\"MAE Avg Prediction with Corr Similarity = \" + str(mae_avg_corr_np))\n",
    "print(\"MAE Avg Prediction with JMSD Similarity = \" + str(mae_avg_jmsd_np))\n",
    "print(\"MAE Weighted Avg Prediction with Corr Similarity = \" + str(mae_wavg_corr_np))\n",
    "print(\"MAE Weighted Avg Prediction with JMSD Similarity = \" + str(mae_wavg_jmsd_np))\n",
    "print(\"MAE Dev from Mean Prediction with Corr Similarity = \" + str(mae_dfm_corr_np))\n",
    "print(\"MAE Dev from Mean Prediction with JMSD Similarity = \" + str(mae_dfm_jmsd_np))"
   ]
  },
  {
   "cell_type": "markdown",
   "metadata": {
    "id": "iLNfjaf-hEOE"
   },
   "source": [
    "# Cálculo del resto de medidas\n",
    "\n",
    "Calcula el resto de medidas (RMSE, Precision, Recall, F1 y nDCG) y compara las distintas combinaciones de funciones de similitud y de agregación para saber cuál combinación proporciona mejores recomendaciones."
   ]
  },
  {
   "cell_type": "code",
   "execution_count": 578,
   "metadata": {},
   "outputs": [],
   "source": [
    "def get_rmse(predictions):\n",
    "    se = (test_ratings_np - predictions)**2\n",
    "    with warnings.catch_warnings():\n",
    "        warnings.simplefilter(\"ignore\", category=RuntimeWarning)\n",
    "    \n",
    "        rmse_per_user = np.sqrt(se.mean(axis=1, where=~np.isnan(test_ratings_np)))\n",
    "        return rmse_per_user.mean(where=~np.isnan(rmse_per_user))"
   ]
  },
  {
   "cell_type": "code",
   "execution_count": null,
   "metadata": {},
   "outputs": [],
   "source": []
  },
  {
   "cell_type": "code",
   "execution_count": 577,
   "metadata": {
    "id": "iy1WouoWwzxm"
   },
   "outputs": [],
   "source": [
    "theta = 4"
   ]
  },
  {
   "cell_type": "code",
   "execution_count": 587,
   "metadata": {},
   "outputs": [],
   "source": [
    "def get_user_precision(u, predictions):\n",
    "    recommendations = get_recommendations(predictions[u])\n",
    "    recommendation_ratings = test_ratings_np[:,recommendations]\n",
    "    recommendation_ratings = recommendation_ratings[~np.isnan(recommendation_ratings)]\n",
    "    if len(recommendation_ratings) == 0:\n",
    "        return np.nan\n",
    "    return (recommendation_ratings >= theta).mean()\n",
    "    "
   ]
  },
  {
   "cell_type": "code",
   "execution_count": 592,
   "metadata": {},
   "outputs": [],
   "source": [
    "def get_precision(predictions):\n",
    "    precisions = np.array([get_user_precision(u, predictions) for u in range(NUM_USERS)])\n",
    "    valid_precisions = precisions[~np.isnan(precisions)]\n",
    "    if len(valid_precisions) == 0:\n",
    "        return np.nan\n",
    "    return valid_precisions.mean()"
   ]
  },
  {
   "cell_type": "code",
   "execution_count": 594,
   "metadata": {},
   "outputs": [
    {
     "name": "stdout",
     "output_type": "stream",
     "text": [
      "Precision = 0.5714285714285712\n",
      "Precision = 0.5967796441311218\n",
      "Precision = nan\n",
      "Precision = 0.6146886225736182\n",
      "Precision = 0.9166666666666665\n",
      "Precision = 0.5536519215926838\n"
     ]
    }
   ],
   "source": [
    "print(\"Precision = \" + str(get_precision(avg_predictions_corr_np)))\n",
    "print(\"Precision = \" + str(get_precision(avg_predictions_jmsd_np)))\n",
    "print(\"Precision = \" + str(get_precision(wavg_predictions_corr_np)))\n",
    "print(\"Precision = \" + str(get_precision(wavg_predictions_jmsd_np)))\n",
    "print(\"Precision = \" + str(get_precision(dfm_predictions_corr_np)))\n",
    "print(\"Precision = \" + str(get_precision(dfm_predictions_jmsd_np)))"
   ]
  },
  {
   "cell_type": "code",
   "execution_count": null,
   "metadata": {
    "id": "1XEKBAtVwzxn"
   },
   "outputs": [],
   "source": [
    "def get_user_recall (u, recommendations):\n",
    "\n",
    "  # TODO: Complete la función get_user_recall para devolver el Recall\n",
    "  # de las recomendaciones realizadas al usuario u. Devuelva None si el usuario\n",
    "  # no tiene recomendaciones de test."
   ]
  },
  {
   "cell_type": "code",
   "execution_count": null,
   "metadata": {
    "id": "_N8et9DSwzxn"
   },
   "outputs": [],
   "source": [
    "def get_recall (recommendations):\n",
    "\n",
    "  # TODO: Complete la función get_recall para devolver el Recall de las\n",
    "  # recomendaciones realizadas sobre el conjunto de test. Devuelva None si no\n",
    "  # se ha podido realizar ninguna recomendación."
   ]
  },
  {
   "cell_type": "code",
   "execution_count": null,
   "metadata": {
    "id": "as1H_5dRwzxn"
   },
   "outputs": [],
   "source": [
    "def get_user_f1 (u, recommendations):\n",
    "\n",
    "  # TODO: Complete la función get_user_f1 para devolver la función\n",
    "  # harmónica (F1) de las recomendaciones realizadas al usuario u. Devuelva None\n",
    "  # si el usuario no tiene recomendaciones de test."
   ]
  },
  {
   "cell_type": "code",
   "execution_count": null,
   "metadata": {
    "id": "VNsYt6Zmwzxn"
   },
   "outputs": [],
   "source": [
    "def get_f1 (recommendations):\n",
    "\n",
    "  # TODO: Complete la función get_f1 para devolver la función harmónica (F1)\n",
    "  # de las recomendaciones realizadas sobre el conjunto de test. Devuelva None\n",
    "  # si no se ha podido realizar ninguna recomendación."
   ]
  },
  {
   "cell_type": "code",
   "execution_count": null,
   "metadata": {
    "id": "Nb4UbNXRwzxo"
   },
   "outputs": [],
   "source": [
    "def get_user_ndcg (u, recommendations):\n",
    "\n",
    "  # TODO: Complete la función get_user_ndcg para devolver el descuento de\n",
    "  # ganancia cumulativa normalizada (nDCG) de las recomendaciones realizadas al\n",
    "  # usuario u. Devuelva None si el usuario no tiene recomendaciones de test."
   ]
  },
  {
   "cell_type": "code",
   "execution_count": null,
   "metadata": {
    "id": "LhoXYxsJwzxo"
   },
   "outputs": [],
   "source": [
    "def get_ndcg (recommendations):\n",
    "\n",
    "  # TODO: Complete la función get_ndcg para devolver el descuento de\n",
    "  # ganancia cumulativa normalizada (nDCG) de las recomendaciones realizadas\n",
    "  # sobre el conjunto de test. Devuelva None si no se ha podido realizar ninguna\n",
    "  # recomendación."
   ]
  },
  {
   "cell_type": "markdown",
   "metadata": {
    "id": "gOzPrmkoXGea"
   },
   "source": [
    "## Referencias\n",
    "\n",
    "Bobadilla, J., Serradilla, F., & Bernal, J. (2010). **A new collaborative filtering metric that improves the behavior of recommender systems**. Knowledge-Based Systems, 23(6), 520-528."
   ]
  }
 ],
 "metadata": {
  "colab": {
   "provenance": []
  },
  "kernelspec": {
   "display_name": "base",
   "language": "python",
   "name": "python3"
  },
  "language_info": {
   "codemirror_mode": {
    "name": "ipython",
    "version": 3
   },
   "file_extension": ".py",
   "mimetype": "text/x-python",
   "name": "python",
   "nbconvert_exporter": "python",
   "pygments_lexer": "ipython3",
   "version": "3.12.7"
  }
 },
 "nbformat": 4,
 "nbformat_minor": 0
}
